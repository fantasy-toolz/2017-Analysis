{
 "cells": [
  {
   "cell_type": "markdown",
   "metadata": {},
   "source": [
    "# Game Theory Measurement\n",
    "\n",
    "### MSP 9.18.2017\n",
    "\n",
    "Checking in on game theory by analyzing the decision to start and sit players over the course of the year in A League Of Their Own (ALOTO)."
   ]
  },
  {
   "cell_type": "code",
   "execution_count": null,
   "metadata": {
    "collapsed": false,
    "scrolled": true
   },
   "outputs": [],
   "source": [
    "from IPython.display import HTML\n",
    "HTML('''<script>code_show=true; function code_toggle() { if (code_show){ $('div.input').hide();} else { $('div.input').show(); } code_show = !code_show} $( document ).ready(code_toggle);</script><form action=\"javascript:code_toggle()\"><input type=\"submit\" value=\"Click here to toggle on/off the raw code.\"></form>''')"
   ]
  },
  {
   "cell_type": "code",
   "execution_count": 2,
   "metadata": {
    "collapsed": true,
    "scrolled": true
   },
   "outputs": [],
   "source": [
    "# boilerplate imports\n",
    "\n",
    "import numpy as np\n",
    "import matplotlib.pyplot as plt\n",
    "import matplotlib.cm as cm\n",
    "%matplotlib inline\n",
    "\n",
    "import matplotlib as mpl\n",
    "\n"
   ]
  },
  {
   "cell_type": "code",
   "execution_count": 13,
   "metadata": {
    "collapsed": false,
    "scrolled": true
   },
   "outputs": [],
   "source": [
    "BatMLB = np.genfromtxt('aloto-batting-mlb.dat',\\\n",
    "                  dtype={'names': (\"Team\",\"BA\",\"HR\",\"R\",\"RBI\",\"SB\"),\\\n",
    "                         'formats': ('S26','f4','f4','f4','f4','f4')},\\\n",
    "                 skip_header=0,delimiter='\\t')\n",
    "\n",
    "BatF = np.genfromtxt('aloto-batting-fantasy.dat',\\\n",
    "                  dtype={'names': (\"Team\",\"BA\",\"HR\",\"R\",\"RBI\",\"SB\"),\\\n",
    "                         'formats': ('S26','f4','f4','f4','f4','f4')},\\\n",
    "                 skip_header=0,delimiter='\\t')\n",
    "\n",
    "PitchMLB = np.genfromtxt('aloto-pitching-mlb.dat',\\\n",
    "                  dtype={'names': (\"Team\",\"ERA\",\"K\",\"S\",\"W\",\"WHIP\"),\\\n",
    "                         'formats': ('S26','f4','f4','f4','f4','f4')},\\\n",
    "                 skip_header=0,delimiter='\\t')\n",
    "\n",
    "PitchF = np.genfromtxt('aloto-pitching-fantasy.dat',\\\n",
    "                  dtype={'names': (\"Team\",\"ERA\",\"K\",\"S\",\"W\",\"WHIP\"),\\\n",
    "                         'formats': ('S26','f4','f4','f4','f4','f4')},\\\n",
    "                 skip_header=0,delimiter='\\t')\n",
    "\n",
    "\n",
    "\n"
   ]
  },
  {
   "cell_type": "markdown",
   "metadata": {},
   "source": [
    "#### Compile Hitters\n",
    "\n",
    "This cell only needs to be run in the event that player ID numbers change, or new players are added."
   ]
  },
  {
   "cell_type": "code",
   "execution_count": 14,
   "metadata": {
    "collapsed": false
   },
   "outputs": [
    {
     "name": "stdout",
     "output_type": "stream",
     "text": [
      "80 Proofers                0.258   0.250  -0.008\n",
      "Dingers                    0.261   0.257  -0.004\n",
      "dodger blues               0.271   0.265  -0.006\n",
      "Flatulent Fellas           0.272   0.265  -0.007\n",
      "Free True Outcomes         0.275   0.272  -0.003\n",
      "Magic Johnson              0.282   0.284   0.002\n",
      "Pack Attack                0.267   0.268   0.001\n",
      "Ryan's Rebuild             0.281   0.275  -0.006\n",
      "The Clown Inquisition      0.279   0.272  -0.007\n",
      "The Wiffleball Legends     0.256   0.253  -0.003\n",
      "Visalia Mets               0.268   0.271   0.003\n",
      "Wrath of Khan              0.281   0.281   0.000\n"
     ]
    }
   ],
   "source": [
    "for indx in range(0,len(BatMLB['Team'])):\n",
    "    print('{0:24s}{1:8.3f}{2:8.3f}{3:8.3f}'.format(BatMLB['Team'][indx],BatMLB['BA'][indx],BatF['BA'][indx],BatF['BA'][indx]-BatMLB['BA'][indx]))"
   ]
  },
  {
   "cell_type": "code",
   "execution_count": 20,
   "metadata": {
    "collapsed": false
   },
   "outputs": [
    {
     "name": "stdout",
     "output_type": "stream",
     "text": [
      "80 Proofers              315.000 284.000  -0.098\n",
      "Dingers                  311.000 263.000  -0.154\n",
      "dodger blues             316.000 273.000  -0.136\n",
      "Flatulent Fellas         276.000 207.000  -0.250\n",
      "Free True Outcomes       350.000 311.000  -0.111\n",
      "Magic Johnson            333.000 300.000  -0.099\n",
      "Pack Attack              264.000 229.000  -0.133\n",
      "Ryan's Rebuild           314.000 265.000  -0.156\n",
      "The Clown Inquisition    291.000 270.000  -0.072\n",
      "The Wiffleball Legends   316.000 186.000  -0.411\n",
      "Visalia Mets             347.000 250.000  -0.280\n",
      "Wrath of Khan            238.000 184.000  -0.227\n"
     ]
    }
   ],
   "source": [
    "metric = 'HR'\n",
    "\n",
    "for indx in range(0,len(BatMLB['Team'])):\n",
    "    print('{0:24s}{1:8.3f}{2:8.3f}{3:8.3f}'.format(\\\n",
    "            BatMLB['Team'][indx],BatMLB[metric][indx],BatF[metric][indx],(BatF[metric][indx]-BatMLB[metric][indx])/BatMLB[metric][indx]))"
   ]
  },
  {
   "cell_type": "markdown",
   "metadata": {},
   "source": [
    "### Pitching Metrics"
   ]
  },
  {
   "cell_type": "code",
   "execution_count": 17,
   "metadata": {
    "collapsed": false
   },
   "outputs": [
    {
     "name": "stdout",
     "output_type": "stream",
     "text": [
      "80 Proofers                3.930   4.260   0.330\n",
      "Dingers                    3.760   4.250   0.490\n",
      "dodger blues               4.160   4.410   0.250\n",
      "Flatulent Fellas           4.120   4.020  -0.100\n",
      "Free True Outcomes         3.880   3.980   0.100\n",
      "Magic Johnson              4.170   4.510   0.340\n",
      "Pack Attack                3.650   4.220   0.570\n",
      "Ryan's Rebuild             3.640   3.940   0.300\n",
      "The Clown Inquisition      2.870   2.990   0.120\n",
      "The Wiffleball Legends     3.910   3.880  -0.030\n",
      "Visalia Mets               4.470   4.450  -0.020\n",
      "Wrath of Khan              3.660   3.810   0.150\n"
     ]
    }
   ],
   "source": [
    "metric = 'ERA'\n",
    "\n",
    "for indx in range(0,len(PitchMLB['Team'])):\n",
    "    print('{0:24s}{1:8.3f}{2:8.3f}{3:8.3f}'.format(\\\n",
    "            PitchMLB['Team'][indx],PitchMLB[metric][indx],PitchF[metric][indx],PitchF[metric][indx]-PitchMLB[metric][indx]))"
   ]
  },
  {
   "cell_type": "code",
   "execution_count": 18,
   "metadata": {
    "collapsed": false
   },
   "outputs": [
    {
     "name": "stdout",
     "output_type": "stream",
     "text": [
      "80 Proofers                1.280   1.270  -0.010\n",
      "Dingers                    1.210   1.260   0.050\n",
      "dodger blues               1.280   1.330   0.050\n",
      "Flatulent Fellas           1.270   1.270   0.000\n",
      "Free True Outcomes         1.240   1.230  -0.010\n",
      "Magic Johnson              1.370   1.380   0.010\n",
      "Pack Attack                1.230   1.340   0.110\n",
      "Ryan's Rebuild             1.220   1.290   0.070\n",
      "The Clown Inquisition      1.060   1.080   0.020\n",
      "The Wiffleball Legends     1.280   1.280   0.000\n",
      "Visalia Mets               1.380   1.360  -0.020\n",
      "Wrath of Khan              1.230   1.270   0.040\n"
     ]
    }
   ],
   "source": [
    "metric = 'WHIP'\n",
    "\n",
    "for indx in range(0,len(PitchMLB['Team'])):\n",
    "    print('{0:24s}{1:8.3f}{2:8.3f}{3:8.3f}'.format(\\\n",
    "            PitchMLB['Team'][indx],PitchMLB[metric][indx],PitchF[metric][indx],PitchF[metric][indx]-PitchMLB[metric][indx]))"
   ]
  },
  {
   "cell_type": "markdown",
   "metadata": {
    "collapsed": true
   },
   "source": [
    "### Case Study: Finals Matchups."
   ]
  },
  {
   "cell_type": "markdown",
   "metadata": {},
   "source": [
    "Wrath of Khan\t0.289\t18\t66\t69\t17\n",
    "Wrath of Khan-M\t0.284\t24\t82\t80\t20\n",
    "\n",
    "Ryan's Rebuild\t0.269\t26\t82\t75\t6\n",
    "Ryan's Rebuild-M\t0.269\t34\t109\t104\t7\n",
    "\n",
    "In this matchup, we basically both started everyone we had on our team at a given time, with some minor cycling. It was a 'classic' BA-SB/HR-R-RBI split, unfortunately for me.\n",
    "\n",
    "\n",
    "\n",
    "The Clown Inquisition\t0.281\t20\t98\t65\t11\n",
    "The Clown Inquisition-M\t0.278\t30\t118\t95\t18\n",
    "\n",
    "Free True Outcomes\t0.290\t26\t70\t90\t9\n",
    "Free True Outcomes-M\t0.269\t28\t78\t104\t7"
   ]
  },
  {
   "cell_type": "markdown",
   "metadata": {},
   "source": [
    "Wrath of Khan\t4.06\t139\t9\t13\t1.33\n",
    "Wrath of Khan-M\t3.78\t133\t13\t13\t1.33\n",
    "\n",
    "Ryan's Rebuild\t3.78\t108\t2\t8\t1.08\n",
    "Ryan's Rebuild-M\t3.03\t167\t1\t11\t0.99\n",
    "\n",
    "We both mis-managed our ERA a little bit, but I sadly managed my (too late realized) sky-high WHIP. Saves were yet again mismanaged, the perils of owning a fourth closer for too long, but wins were assess appropriately.\n",
    "\n",
    "\n",
    "The Clown Inquisition\t3.15\t138\t12\t11\t1.08\n",
    "The Clown Inquisition-M\t1.68\t121\t12\t9\t0.85\n",
    "\n",
    "Free True Outcomes\t4.26\t138\t2\t12\t1.28\n",
    "Free True Outcomes-M\t3.55\t114\t3\t10\t1.21\n",
    "\n",
    "This one kills--the entire matchup came down to a single strikeout\n"
   ]
  }
 ],
 "metadata": {
  "anaconda-cloud": {},
  "kernelspec": {
   "display_name": "Python [default]",
   "language": "python",
   "name": "python2"
  },
  "language_info": {
   "codemirror_mode": {
    "name": "ipython",
    "version": 2
   },
   "file_extension": ".py",
   "mimetype": "text/x-python",
   "name": "python",
   "nbconvert_exporter": "python",
   "pygments_lexer": "ipython2",
   "version": "2.7.12"
  }
 },
 "nbformat": 4,
 "nbformat_minor": 1
}
