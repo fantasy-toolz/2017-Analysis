{
 "cells": [
  {
   "cell_type": "markdown",
   "metadata": {},
   "source": [
    "# HomeRun Analysis\n",
    "## For the start of the 2017 season\n",
    "### MSP 04.03.2017\n",
    "\n",
    "This is a jupyter notebook that examines the home run production of individuals during the 2016 season, with a goal of projecting the home run production forward."
   ]
  },
  {
   "cell_type": "code",
   "execution_count": 1,
   "metadata": {
    "collapsed": true
   },
   "outputs": [],
   "source": [
    "# boilerplate imports\n",
    "\n",
    "import numpy as np\n",
    "import matplotlib.pyplot as plt\n",
    "import matplotlib.cm as cm\n",
    "%matplotlib inline"
   ]
  },
  {
   "cell_type": "code",
   "execution_count": 2,
   "metadata": {
    "collapsed": false
   },
   "outputs": [],
   "source": [
    "# now read in all the data: it's a lot, but is set up this way so that\n",
    "#  we can slice across batting order.\n",
    "\n",
    "\n",
    "# all with > 100 PA at given lineup position\n",
    "\n",
    "Total2016 = np.loadtxt('2016Batting/TotalBatting.csv',\\\n",
    "                  dtype={'names': (\"Name\",\"Team\",\"G\",\"AB\",\"PA\",\"H\",\\\n",
    "                                   \"1B\",\"2B\",\"3B\",\"HR\",\"R\",\"RBI\",\"BB\",\"IBB\",\n",
    "                                   \"SO\",\"HBP\",\"SF\",\"SH\",\"GDP\",\"SB\",\"CS\",\"AVG\",\"playerid\"),\\\n",
    "                         'formats': ('S20','S20','i2','f4','f4','f4',\\\n",
    "                                     'f4','f4','f4','f4','f4','f4','f4','f4',\\\n",
    "                                    'f4','f4','f4','f4','f4','f4','f4','f4','i2')},\\\n",
    "                 skiprows=1,delimiter=',')\n",
    "\n",
    "\n",
    "\n",
    "First2016 = np.loadtxt('2016Batting/BattingFirst.csv',\\\n",
    "                  dtype={'names': (\"Name\",\"Team\",\"G\",\"AB\",\"PA\",\"H\",\\\n",
    "                                   \"1B\",\"2B\",\"3B\",\"HR\",\"R\",\"RBI\",\"BB\",\"IBB\",\n",
    "                                   \"SO\",\"HBP\",\"SF\",\"SH\",\"GDP\",\"SB\",\"CS\",\"AVG\",\"playerid\"),\\\n",
    "                         'formats': ('S20','S20','i2','f4','f4','f4',\\\n",
    "                                     'f4','f4','f4','f4','f4','f4','f4','f4',\\\n",
    "                                    'f4','f4','f4','f4','f4','f4','f4','f4','i2')},\\\n",
    "                 skiprows=1,delimiter=',')\n",
    "\n",
    "Second2016 = np.loadtxt('2016Batting/BattingSecond.csv',\\\n",
    "                  dtype={'names': (\"Name\",\"Team\",\"G\",\"AB\",\"PA\",\"H\",\\\n",
    "                                   \"1B\",\"2B\",\"3B\",\"HR\",\"R\",\"RBI\",\"BB\",\"IBB\",\n",
    "                                   \"SO\",\"HBP\",\"SF\",\"SH\",\"GDP\",\"SB\",\"CS\",\"AVG\",\"playerid\"),\\\n",
    "                         'formats': ('S20','S20','i2','f4','f4','f4',\\\n",
    "                                     'f4','f4','f4','f4','f4','f4','f4','f4',\\\n",
    "                                    'f4','f4','f4','f4','f4','f4','f4','f4','i2')},\\\n",
    "                 skiprows=1,delimiter=',')\n",
    "\n",
    "Third2016 = np.loadtxt('2016Batting/BattingThird.csv',\\\n",
    "                  dtype={'names': (\"Name\",\"Team\",\"G\",\"AB\",\"PA\",\"H\",\\\n",
    "                                   \"1B\",\"2B\",\"3B\",\"HR\",\"R\",\"RBI\",\"BB\",\"IBB\",\n",
    "                                   \"SO\",\"HBP\",\"SF\",\"SH\",\"GDP\",\"SB\",\"CS\",\"AVG\",\"playerid\"),\\\n",
    "                         'formats': ('S20','S20','i2','f4','f4','f4',\\\n",
    "                                     'f4','f4','f4','f4','f4','f4','f4','f4',\\\n",
    "                                    'f4','f4','f4','f4','f4','f4','f4','f4','i2')},\\\n",
    "                 skiprows=1,delimiter=',')\n",
    "\n",
    "Fourth2016 = np.loadtxt('2016Batting/BattingFourth.csv',\\\n",
    "                  dtype={'names': (\"Name\",\"Team\",\"G\",\"AB\",\"PA\",\"H\",\\\n",
    "                                   \"1B\",\"2B\",\"3B\",\"HR\",\"R\",\"RBI\",\"BB\",\"IBB\",\n",
    "                                   \"SO\",\"HBP\",\"SF\",\"SH\",\"GDP\",\"SB\",\"CS\",\"AVG\",\"playerid\"),\\\n",
    "                         'formats': ('S20','S20','i2','f4','f4','f4',\\\n",
    "                                     'f4','f4','f4','f4','f4','f4','f4','f4',\\\n",
    "                                    'f4','f4','f4','f4','f4','f4','f4','f4','i2')},\\\n",
    "                 skiprows=1,delimiter=',')\n",
    "\n",
    "Fifth2016 = np.loadtxt('2016Batting/BattingFifth.csv',\\\n",
    "                  dtype={'names': (\"Name\",\"Team\",\"G\",\"AB\",\"PA\",\"H\",\\\n",
    "                                   \"1B\",\"2B\",\"3B\",\"HR\",\"R\",\"RBI\",\"BB\",\"IBB\",\n",
    "                                   \"SO\",\"HBP\",\"SF\",\"SH\",\"GDP\",\"SB\",\"CS\",\"AVG\",\"playerid\"),\\\n",
    "                         'formats': ('S20','S20','i2','f4','f4','f4',\\\n",
    "                                     'f4','f4','f4','f4','f4','f4','f4','f4',\\\n",
    "                                    'f4','f4','f4','f4','f4','f4','f4','f4','i2')},\\\n",
    "                 skiprows=1,delimiter=',')\n",
    "\n",
    "Sixth2016 = np.loadtxt('2016Batting/BattingSixth.csv',\\\n",
    "                  dtype={'names': (\"Name\",\"Team\",\"G\",\"AB\",\"PA\",\"H\",\\\n",
    "                                   \"1B\",\"2B\",\"3B\",\"HR\",\"R\",\"RBI\",\"BB\",\"IBB\",\n",
    "                                   \"SO\",\"HBP\",\"SF\",\"SH\",\"GDP\",\"SB\",\"CS\",\"AVG\",\"playerid\"),\\\n",
    "                         'formats': ('S20','S20','i2','f4','f4','f4',\\\n",
    "                                     'f4','f4','f4','f4','f4','f4','f4','f4',\\\n",
    "                                    'f4','f4','f4','f4','f4','f4','f4','f4','i2')},\\\n",
    "                 skiprows=1,delimiter=',')\n",
    "\n",
    "Seventh2016 = np.loadtxt('2016Batting/BattingSeventh.csv',\\\n",
    "                  dtype={'names': (\"Name\",\"Team\",\"G\",\"AB\",\"PA\",\"H\",\\\n",
    "                                   \"1B\",\"2B\",\"3B\",\"HR\",\"R\",\"RBI\",\"BB\",\"IBB\",\n",
    "                                   \"SO\",\"HBP\",\"SF\",\"SH\",\"GDP\",\"SB\",\"CS\",\"AVG\",\"playerid\"),\\\n",
    "                         'formats': ('S20','S20','i2','f4','f4','f4',\\\n",
    "                                     'f4','f4','f4','f4','f4','f4','f4','f4',\\\n",
    "                                    'f4','f4','f4','f4','f4','f4','f4','f4','i2')},\\\n",
    "                 skiprows=1,delimiter=',')\n",
    "\n",
    "Eighth2016 = np.loadtxt('2016Batting/BattingEighth.csv',\\\n",
    "                  dtype={'names': (\"Name\",\"Team\",\"G\",\"AB\",\"PA\",\"H\",\\\n",
    "                                   \"1B\",\"2B\",\"3B\",\"HR\",\"R\",\"RBI\",\"BB\",\"IBB\",\n",
    "                                   \"SO\",\"HBP\",\"SF\",\"SH\",\"GDP\",\"SB\",\"CS\",\"AVG\",\"playerid\"),\\\n",
    "                         'formats': ('S20','S20','i2','f4','f4','f4',\\\n",
    "                                     'f4','f4','f4','f4','f4','f4','f4','f4',\\\n",
    "                                    'f4','f4','f4','f4','f4','f4','f4','f4','i2')},\\\n",
    "                 skiprows=1,delimiter=',')\n",
    "\n",
    "Ninth2016 = np.loadtxt('2016Batting/BattingNinth.csv',\\\n",
    "                  dtype={'names': (\"Name\",\"Team\",\"G\",\"AB\",\"PA\",\"H\",\\\n",
    "                                   \"1B\",\"2B\",\"3B\",\"HR\",\"R\",\"RBI\",\"BB\",\"IBB\",\n",
    "                                   \"SO\",\"HBP\",\"SF\",\"SH\",\"GDP\",\"SB\",\"CS\",\"AVG\",\"playerid\"),\\\n",
    "                         'formats': ('S20','S20','i2','f4','f4','f4',\\\n",
    "                                     'f4','f4','f4','f4','f4','f4','f4','f4',\\\n",
    "                                    'f4','f4','f4','f4','f4','f4','f4','f4','i2')},\\\n",
    "                 skiprows=1,delimiter=',')\n",
    "\n"
   ]
  },
  {
   "cell_type": "code",
   "execution_count": 3,
   "metadata": {
    "collapsed": false
   },
   "outputs": [
    {
     "ename": "NameError",
     "evalue": "name 'sbs' is not defined",
     "output_type": "error",
     "traceback": [
      "\u001b[0;31m---------------------------------------------------------------------------\u001b[0m",
      "\u001b[0;31mNameError\u001b[0m                                 Traceback (most recent call last)",
      "\u001b[0;32m<ipython-input-3-c1e809df3151>\u001b[0m in \u001b[0;36m<module>\u001b[0;34m()\u001b[0m\n\u001b[1;32m      3\u001b[0m \u001b[0;34m\u001b[0m\u001b[0m\n\u001b[1;32m      4\u001b[0m \u001b[0mplt\u001b[0m\u001b[0;34m.\u001b[0m\u001b[0mfigure\u001b[0m\u001b[0;34m(\u001b[0m\u001b[0mfigsize\u001b[0m\u001b[0;34m=\u001b[0m\u001b[0;34m(\u001b[0m\u001b[0;36m5\u001b[0m\u001b[0;34m,\u001b[0m\u001b[0;36m2\u001b[0m\u001b[0;34m)\u001b[0m\u001b[0;34m)\u001b[0m\u001b[0;34m\u001b[0m\u001b[0m\n\u001b[0;32m----> 5\u001b[0;31m \u001b[0mplt\u001b[0m\u001b[0;34m.\u001b[0m\u001b[0mplot\u001b[0m\u001b[0;34m(\u001b[0m\u001b[0mnp\u001b[0m\u001b[0;34m.\u001b[0m\u001b[0mlinspace\u001b[0m\u001b[0;34m(\u001b[0m\u001b[0;36m1.\u001b[0m\u001b[0;34m,\u001b[0m\u001b[0mhrs\u001b[0m\u001b[0;34m.\u001b[0m\u001b[0msize\u001b[0m\u001b[0;34m,\u001b[0m\u001b[0mhrs\u001b[0m\u001b[0;34m.\u001b[0m\u001b[0msize\u001b[0m\u001b[0;34m)\u001b[0m\u001b[0;34m,\u001b[0m\u001b[0msbs\u001b[0m\u001b[0;34m[\u001b[0m\u001b[0;34m(\u001b[0m\u001b[0;34m-\u001b[0m\u001b[0;36m1.\u001b[0m\u001b[0;34m*\u001b[0m\u001b[0mhrs\u001b[0m\u001b[0;34m)\u001b[0m\u001b[0;34m.\u001b[0m\u001b[0margsort\u001b[0m\u001b[0;34m(\u001b[0m\u001b[0;34m)\u001b[0m\u001b[0;34m]\u001b[0m\u001b[0;34m)\u001b[0m\u001b[0;34m\u001b[0m\u001b[0m\n\u001b[0m\u001b[1;32m      6\u001b[0m \u001b[0mplt\u001b[0m\u001b[0;34m.\u001b[0m\u001b[0mxlabel\u001b[0m\u001b[0;34m(\u001b[0m\u001b[0;34m'Player Rank'\u001b[0m\u001b[0;34m,\u001b[0m\u001b[0msize\u001b[0m\u001b[0;34m=\u001b[0m\u001b[0;36m24\u001b[0m\u001b[0;34m)\u001b[0m\u001b[0;34m\u001b[0m\u001b[0m\n\u001b[1;32m      7\u001b[0m \u001b[0mplt\u001b[0m\u001b[0;34m.\u001b[0m\u001b[0mylabel\u001b[0m\u001b[0;34m(\u001b[0m\u001b[0;34m'HRs'\u001b[0m\u001b[0;34m,\u001b[0m\u001b[0msize\u001b[0m\u001b[0;34m=\u001b[0m\u001b[0;36m24\u001b[0m\u001b[0;34m)\u001b[0m\u001b[0;34m\u001b[0m\u001b[0m\n",
      "\u001b[0;31mNameError\u001b[0m: name 'sbs' is not defined"
     ]
    },
    {
     "data": {
      "text/plain": [
       "<matplotlib.figure.Figure at 0x10a9d5750>"
      ]
     },
     "metadata": {},
     "output_type": "display_data"
    }
   ],
   "source": [
    "hrs = Total2016['HR']\n",
    "pas = Total2016['PA']\n",
    "\n",
    "plt.figure(figsize=(5,2))\n",
    "plt.plot(np.linspace(1.,hrs.size,hrs.size),hrs[(-1.*hrs).argsort()])\n",
    "plt.xlabel('Player Rank',size=24)\n",
    "plt.ylabel('HRs',size=24)\n",
    "plt.title('Top 200 HR production curve, 2016')\n",
    "plt.axis([1.,200.,np.min(hrs),np.max(hrs)])\n",
    "\n",
    "plt.figure(figsize=(5,2))\n",
    "plt.plot(np.linspace(1.,hrs.size,hrs.size),hrs[(-1.*hrs/pas).argsort()]/pas[(-1.*(hrs/pas)).argsort()])\n",
    "plt.xlabel('Player Rank',size=24)\n",
    "plt.ylabel('HR/PA',size=24)\n",
    "plt.axis([1.,200.,np.min(hrs/pas),np.max(hrs/pas)])\n",
    "\n"
   ]
  }
 ],
 "metadata": {
  "anaconda-cloud": {},
  "kernelspec": {
   "display_name": "Python [default]",
   "language": "python",
   "name": "python2"
  },
  "language_info": {
   "codemirror_mode": {
    "name": "ipython",
    "version": 2
   },
   "file_extension": ".py",
   "mimetype": "text/x-python",
   "name": "python",
   "nbconvert_exporter": "python",
   "pygments_lexer": "ipython2",
   "version": "2.7.12"
  }
 },
 "nbformat": 4,
 "nbformat_minor": 1
}
