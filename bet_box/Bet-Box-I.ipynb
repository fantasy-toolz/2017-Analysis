{
 "cells": [
  {
   "cell_type": "markdown",
   "metadata": {},
   "source": [
    "# 2017 Bet Box\n",
    "## Trying to Automatically Track the Bet Box\n",
    "### MSP 05.29.2017\n",
    "\n"
   ]
  },
  {
   "cell_type": "code",
   "execution_count": 1,
   "metadata": {
    "collapsed": false
   },
   "outputs": [
    {
     "data": {
      "text/html": [
       "<script>code_show=true; function code_toggle() { if (code_show){ $('div.input').hide();} else { $('div.input').show(); } code_show = !code_show} $( document ).ready(code_toggle);</script><form action=\"javascript:code_toggle()\"><input type=\"submit\" value=\"Click here to toggle on/off the raw code.\"></form>"
      ],
      "text/plain": [
       "<IPython.core.display.HTML object>"
      ]
     },
     "execution_count": 1,
     "metadata": {},
     "output_type": "execute_result"
    }
   ],
   "source": [
    "from IPython.display import HTML\n",
    "HTML('''<script>code_show=true; function code_toggle() { if (code_show){ $('div.input').hide();} else { $('div.input').show(); } code_show = !code_show} $( document ).ready(code_toggle);</script><form action=\"javascript:code_toggle()\"><input type=\"submit\" value=\"Click here to toggle on/off the raw code.\"></form>''')"
   ]
  },
  {
   "cell_type": "code",
   "execution_count": 2,
   "metadata": {
    "collapsed": true
   },
   "outputs": [],
   "source": [
    "# boilerplate imports\n",
    "\n",
    "import numpy as np\n",
    "import matplotlib.pyplot as plt\n",
    "import matplotlib.cm as cm\n",
    "%matplotlib inline\n",
    "\n"
   ]
  },
  {
   "cell_type": "markdown",
   "metadata": {},
   "source": [
    "### 1.02 \n",
    "\n",
    "| Player | Bet | Mike | Erich | Update |\n",
    "| :---------: |:---------:| :-----:| :-----:|:-----------:|\n",
    "| |Player Rater regular season (18 weeks)| \tBen Zobrist\t|Dustin Pedroia\t|zobrist 1.37 (295)\tpedroia 1.69 (269)|\n",
    "\n"
   ]
  },
  {
   "cell_type": "markdown",
   "metadata": {},
   "source": [
    "### 1.03\n",
    "\n",
    "\n",
    "| Player | Bet | Mike | Erich | Update |\n",
    "| :---------: |:---------:| :-----:| :-----:|:-----------:|\n",
    "||Middle infield positions | Jean Segura is awesome|not Jean Segura\t|\tJean segura is 49|\n",
    "|| Player Rater\t|Dan Straily\t|Tyler Skaggs\t|straily 3.28\tskaggs 0.22|\n",
    "\n",
    "\n",
    "\n",
    "\n"
   ]
  },
  {
   "cell_type": "markdown",
   "metadata": {},
   "source": [
    "### 1.04\n",
    "\n",
    "| Player | Bet | Mike | Erich | Update |\n",
    "| :---------: |:---------:| :-----:| :-----:|:-----------:|\n",
    "| | Player Rater\t| Jason Heyward|\tDavid Peralta\t|heyward 1.18 (310)\tperalta 3.94|\n"
   ]
  },
  {
   "cell_type": "markdown",
   "metadata": {},
   "source": [
    "### 1.05 Shootaround\n",
    "\n",
    "| Player | Bet | Mike | Erich | Update |\n",
    "| :---------: |:---------:| :-----:| :-----:|:-----------:|\n",
    "|Greg Bird |AB = 2BA |\tAB (full season, <.250)\t||\t.100 BA|\n",
    "|Taijuan Walker |ERA50 +/- K |\tKs (4.00 ERA, 198 K)\t||\t3.46 ERA, 7.96 K/9|\n",
    "|Lance McCullers | WHIP100 +/- K |\tWHIP (huge! 1.68)\t||\t1.04 WHIP, 9.86 K/9|\n",
    "|Robbie Ray  | K/9 +/- W\t | W\t||\t11.1 K/9, 4 W in 10 starts|\n",
    "|Adam Jones | SB +/- 10\t| Under\t||\t1 SB in 45 G|\n",
    "| Michael Brantley | R+RBI +/- 120\t| Under (not full season, <110 G)\t||\t40 in 39 G|\n",
    "\n"
   ]
  },
  {
   "cell_type": "markdown",
   "metadata": {
    "collapsed": true
   },
   "source": [
    "### 1.06\n",
    "\n",
    "| Player | Bet | Mike | Erich | Update |\n",
    "| :---------: |:---------:| :-----:| :-----:|:-----------:|\n",
    "|Travis Jankowski | 400 PAs\t| Under\t| Over | |\t\n"
   ]
  },
  {
   "cell_type": "markdown",
   "metadata": {},
   "source": [
    "### 1.08\n",
    "\n",
    "| Player | Bet | Mike | Erich | Update |\n",
    "| :---------: |:---------:| :-----:| :-----:|:-----------:|\n",
    "|Shawn Kelley | Nationals Closer\t| Not Kelley\t| Kelley\t|He has 3 saves\t|\n",
    "|| Player Rater\t| Wei-Yen Chen\t| Mike Leake\t|chen 0.37\tleake 7.36 (27)|\n"
   ]
  },
  {
   "cell_type": "markdown",
   "metadata": {},
   "source": [
    "### 1.09\n",
    "\n",
    "| Player | Bet | Mike | Erich | Update |\n",
    "| :---------: |:---------:| :-----:| :-----:|:-----------:|\n",
    "|Eric Thames | Is he good?\t|\tNo Thames\t| Thames?| |"
   ]
  },
  {
   "cell_type": "code",
   "execution_count": null,
   "metadata": {
    "collapsed": true
   },
   "outputs": [],
   "source": []
  }
 ],
 "metadata": {
  "anaconda-cloud": {},
  "kernelspec": {
   "display_name": "Python [default]",
   "language": "python",
   "name": "python2"
  },
  "language_info": {
   "codemirror_mode": {
    "name": "ipython",
    "version": 2
   },
   "file_extension": ".py",
   "mimetype": "text/x-python",
   "name": "python",
   "nbconvert_exporter": "python",
   "pygments_lexer": "ipython2",
   "version": "2.7.12"
  }
 },
 "nbformat": 4,
 "nbformat_minor": 1
}
