{
 "cells": [
  {
   "cell_type": "markdown",
   "metadata": {},
   "source": [
    "# 2018 Bet Box\n",
    "## Trying to Automatically Track the Bet Box\n",
    "### MSP 01.07.2017\n",
    "\n"
   ]
  },
  {
   "cell_type": "code",
   "execution_count": 1,
   "metadata": {
    "collapsed": false
   },
   "outputs": [
    {
     "data": {
      "text/html": [
       "<script>code_show=true; function code_toggle() { if (code_show){ $('div.input').hide();} else { $('div.input').show(); } code_show = !code_show} $( document ).ready(code_toggle);</script><form action=\"javascript:code_toggle()\"><input type=\"submit\" value=\"Click here to toggle on/off the raw code.\"></form>"
      ],
      "text/plain": [
       "<IPython.core.display.HTML object>"
      ]
     },
     "execution_count": 1,
     "metadata": {},
     "output_type": "execute_result"
    }
   ],
   "source": [
    "from IPython.display import HTML\n",
    "HTML('''<script>code_show=true; function code_toggle() { if (code_show){ $('div.input').hide();} else { $('div.input').show(); } code_show = !code_show} $( document ).ready(code_toggle);</script><form action=\"javascript:code_toggle()\"><input type=\"submit\" value=\"Click here to toggle on/off the raw code.\"></form>''')"
   ]
  },
  {
   "cell_type": "code",
   "execution_count": 2,
   "metadata": {
    "collapsed": true
   },
   "outputs": [],
   "source": [
    "# boilerplate imports\n",
    "\n",
    "import numpy as np\n",
    "import matplotlib.pyplot as plt\n",
    "import matplotlib.cm as cm\n",
    "%matplotlib inline\n",
    "\n"
   ]
  },
  {
   "cell_type": "markdown",
   "metadata": {},
   "source": [
    "### ??\n",
    "\n",
    "| Bet | Mike | Erich | Update |\n",
    "|:---------:| :-----:| :-----:|:-----------:|\n",
    "| 2018 World Series | Astros, Dodgers, Red Sox, Yankees | Field | |\n"
   ]
  },
  {
   "cell_type": "markdown",
   "metadata": {
    "collapsed": true
   },
   "source": [
    "### 1.06\n",
    "\n",
    "| Player | Bet | Mike | Erich | Update |\n",
    "| :---------: |:---------:| :-----:| :-----:|:-----------:|\n",
    "|Travis Jankowski | 400 PAs\t| Under\t| Over | |\t\n"
   ]
  },
  {
   "cell_type": "markdown",
   "metadata": {},
   "source": [
    "### 1.08\n",
    "\n",
    "| Player | Bet | Mike | Erich | Update |\n",
    "| :---------: |:---------:| :-----:| :-----:|:-----------:|\n",
    "|Shawn Kelley | Nationals Closer\t| Not Kelley\t| Kelley\t|He has 3 saves\t|\n",
    "|| Player Rater\t| Wei-Yen Chen\t| Mike Leake\t|chen 0.37\tleake 7.36 (27)|\n"
   ]
  },
  {
   "cell_type": "markdown",
   "metadata": {},
   "source": [
    "### 1.09\n",
    "\n",
    "| Player | Bet | Mike | Erich | Update |\n",
    "| :---------: |:---------:| :-----:| :-----:|:-----------:|\n",
    "|Eric Thames | Is he good?\t|\tNo Thames\t| Thames?| |"
   ]
  },
  {
   "cell_type": "code",
   "execution_count": null,
   "metadata": {
    "collapsed": true
   },
   "outputs": [],
   "source": []
  }
 ],
 "metadata": {
  "anaconda-cloud": {},
  "kernelspec": {
   "display_name": "Python [default]",
   "language": "python",
   "name": "python2"
  },
  "language_info": {
   "codemirror_mode": {
    "name": "ipython",
    "version": 2
   },
   "file_extension": ".py",
   "mimetype": "text/x-python",
   "name": "python",
   "nbconvert_exporter": "python",
   "pygments_lexer": "ipython2",
   "version": "2.7.12"
  }
 },
 "nbformat": 4,
 "nbformat_minor": 1
}
