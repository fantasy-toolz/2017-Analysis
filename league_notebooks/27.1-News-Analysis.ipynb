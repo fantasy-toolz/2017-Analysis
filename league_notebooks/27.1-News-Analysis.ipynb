{
 "cells": [
  {
   "cell_type": "markdown",
   "metadata": {},
   "source": [
    "# Pull ESPN Ownership Data\n",
    "\n",
    "### MSP 9.4.2017\n"
   ]
  },
  {
   "cell_type": "code",
   "execution_count": 1,
   "metadata": {
    "collapsed": false
   },
   "outputs": [
    {
     "data": {
      "text/html": [
       "<script>code_show=true; function code_toggle() { if (code_show){ $('div.input').hide();} else { $('div.input').show(); } code_show = !code_show} $( document ).ready(code_toggle);</script><form action=\"javascript:code_toggle()\"><input type=\"submit\" value=\"Click here to toggle on/off the raw code.\"></form>"
      ],
      "text/plain": [
       "<IPython.core.display.HTML object>"
      ]
     },
     "execution_count": 1,
     "metadata": {},
     "output_type": "execute_result"
    }
   ],
   "source": [
    "from IPython.display import HTML\n",
    "HTML('''<script>code_show=true; function code_toggle() { if (code_show){ $('div.input').hide();} else { $('div.input').show(); } code_show = !code_show} $( document ).ready(code_toggle);</script><form action=\"javascript:code_toggle()\"><input type=\"submit\" value=\"Click here to toggle on/off the raw code.\"></form>''')"
   ]
  },
  {
   "cell_type": "code",
   "execution_count": 2,
   "metadata": {
    "collapsed": true
   },
   "outputs": [],
   "source": [
    "# boilerplate imports\n",
    "\n",
    "import datetime\n",
    "import numpy as np\n",
    "import matplotlib.pyplot as plt\n",
    "import matplotlib.cm as cm\n",
    "%matplotlib inline\n",
    "\n",
    "import matplotlib as mpl\n",
    "cmap = cm.gnuplot\n",
    "\n",
    "\n"
   ]
  },
  {
   "cell_type": "code",
   "execution_count": 3,
   "metadata": {
    "collapsed": true
   },
   "outputs": [],
   "source": [
    "# imports for scraping\n",
    "\n",
    "from bs4 import BeautifulSoup\n",
    "\n",
    "import requests\n",
    "\n",
    "import operator\n",
    "\n"
   ]
  },
  {
   "cell_type": "markdown",
   "metadata": {},
   "source": [
    "### Change In Ownership\n",
    "\n",
    "Also set up an archive."
   ]
  },
  {
   "cell_type": "code",
   "execution_count": 4,
   "metadata": {
    "collapsed": false,
    "scrolled": false
   },
   "outputs": [
    {
     "name": "stdout",
     "output_type": "stream",
     "text": [
      "[u'MOST ADDED PLAYERS', u'\\xa0', u'MOST DROPPED PLAYERS']\n",
      "[u'RK', u'PLAYER, TEAM', u'POS', u'LAST', u'CUR', u'7-DAY +/-', u'\\xa0', u'RK', u'PLAYER, TEAM', u'POS', u'LAST', u'CUR', u'7-DAY +/-']\n",
      "[u'1', u'Chris Iannetta, Col', u'C', u'33.9', u'49.7', u'+15.8', u'\\xa0', u'1', u'Wilson Ramos, TB', u'C', u'81.8', u'67.9', u'-13.8']\n",
      "[u'2', u'Russell Martin, Tor', u'C', u'11.5', u'27.1', u'+15.6', u'\\xa0', u'2', u'Mike Zunino*, Sea', u'C', u'71.2', u'61.0', u'-10.3']\n",
      "[u'3', u'Yasmani Grandal, LAD', u'C', u'64.0', u'76.9', u'+12.8', u'\\xa0', u'3', u'Austin Hedges, SD', u'C', u'23.0', u'15.9', u'-7.1']\n",
      "[u'4', u'Welington Castillo, CWS', u'C', u'74.4', u'78.2', u'+3.8', u'\\xa0', u'4', u'Robinson Chirinos, Tex', u'C', u'14.6', u'9.2', u'-5.4']\n",
      "[u'5', u'Francisco Cervelli, Pit', u'C', u'7.4', u'10.7', u'+3.3', u'\\xa0', u'5', u'J.T. Realmuto*, Mia', u'C', u'88.5', u'83.7', u'-4.8']\n",
      "[u'6', u'James McCann, Det', u'C', u'11.4', u'13.6', u'+2.3', u'\\xa0', u'6', u'Austin Barnes, LAD', u'C', u'25.0', u'20.4', u'-4.5']\n",
      "[u'7', u'Max Stassi, Hou', u'C', u'0.5', u'2.5', u'+2', u'\\xa0', u'7', u'Salvador Perez*, KC', u'C', u'88.7', u'85.0', u'-3.7']\n",
      "[u'8', u'Brian McCann, Hou', u'C', u'66.8', u'68.7', u'+1.9', u'\\xa0', u'8', u'Evan Gattis, Hou', u'C', u'96.2', u'94.4', u'-1.7']\n",
      "[u'9', u'Manny Pina, Mil', u'C', u'1.9', u'3.3', u'+1.4', u'\\xa0', u'9', u\"Travis d'Arnaud, NYM\", u'C', u'9.2', u'7.6', u'-1.7']\n",
      "[u'10', u'Pedro Severino, Wsh', u'C', u'0.1', u'1.1', u'+1', u'\\xa0', u'10', u'Matt Wieters*, Wsh', u'C', u'5.4', u'3.8', u'-1.6']\n",
      "[u'11', u'Rene Rivera, LAA', u'C', u'0.1', u'1.1', u'+1', u'\\xa0', u'11', u'Kevin Plawecki, NYM', u'C', u'5.3', u'3.9', u'-1.4']\n",
      "[u'12', u'Yadier Molina, StL', u'C', u'96.6', u'97.3', u'+0.7', u'\\xa0', u'12', u'Martin Maldonado, LAA', u'C', u'5.6', u'4.5', u'-1.1']\n",
      "[u'13', u'Jonathan Lucroy, Oak', u'C', u'50.4', u'51.0', u'+0.7', u'\\xa0', u'13', u'Jorge Alfaro, Phi', u'C', u'6.5', u'5.4', u'-1.1']\n",
      "[u'14', u'Christian Vazquez, Bos', u'C', u'10.1', u'10.8', u'+0.6', u'\\xa0', u'14', u'Alex Avila, Ari', u'C', u'2.9', u'2.1', u'-0.8']\n",
      "[u'15', u'Austin Romine, NYY', u'C', u'0.3', u'0.8', u'+0.5', u'\\xa0', u'15', u'Drew Butera, KC', u'C', u'1.8', u'1.1', u'-0.7']\n",
      "[u'16', u'Tucker Barnhart, Cin', u'C', u'8.2', u'8.6', u'+0.4', u'\\xa0', u'16', u'Gary Sanchez, NYY', u'C', u'99.3', u'98.7', u'-0.6']\n",
      "[u'17', u'Luke Maile, Tor', u'C', u'0.0', u'0.2', u'+0.2', u'\\xa0', u'17', u'Willson Contreras, ChC', u'C', u'98.7', u'98.2', u'-0.5']\n",
      "[u'18', u'Kurt Suzuki, Atl', u'C', u'1.9', u'2.0', u'+0.1', u'\\xa0', u'18', u'Tyler Flowers*, Atl', u'C', u'1.7', u'1.4', u'-0.3']\n",
      "[u'', u'\\xa0', u'19', u'Yan Gomes, Cle', u'C', u'4.1', u'3.9', u'-0.3']\n",
      "[u'', u'\\xa0', u'20', u'Blake Swihart, Bos', u'C', u'0.8', u'0.6', u'-0.2']\n",
      "[u'', u'\\xa0', u'21', u'Jason Castro, Min', u'C', u'1.1', u'0.9', u'-0.2']\n",
      "[u'', u'\\xa0', u'22', u'Caleb Joseph, Bal', u'C', u'0.8', u'0.6', u'-0.2']\n",
      "[u'', u'\\xa0', u'23', u'Devin Mesoraco, Cin', u'C', u'0.5', u'0.4', u'-0.2']\n",
      "[u'RK', u'PLAYER, TEAM', u'POS', u'LAST', u'CUR', u'7-DAY +/-', u'\\xa0', u'RK', u'PLAYER, TEAM', u'POS', u'LAST', u'CUR', u'7-DAY +/-']\n",
      "[u'1', u'Chris Iannetta, Col', u'C', u'33.9', u'49.7', u'+15.8', u'\\xa0', u'1', u'Wilson Ramos, TB', u'C', u'81.8', u'67.9', u'-13.8']\n",
      "[u'2', u'Russell Martin, Tor', u'C', u'11.5', u'27.1', u'+15.6', u'\\xa0', u'2', u'Mike Zunino*, Sea', u'C', u'71.2', u'61.0', u'-10.3']\n",
      "[u'3', u'Yasmani Grandal, LAD', u'C', u'64.0', u'76.9', u'+12.8', u'\\xa0', u'3', u'Austin Hedges, SD', u'C', u'23.0', u'15.9', u'-7.1']\n",
      "[u'4', u'Welington Castillo, CWS', u'C', u'74.4', u'78.2', u'+3.8', u'\\xa0', u'4', u'Robinson Chirinos, Tex', u'C', u'14.6', u'9.2', u'-5.4']\n",
      "[u'5', u'Francisco Cervelli, Pit', u'C', u'7.4', u'10.7', u'+3.3', u'\\xa0', u'5', u'J.T. Realmuto*, Mia', u'C', u'88.5', u'83.7', u'-4.8']\n",
      "[u'6', u'James McCann, Det', u'C', u'11.4', u'13.6', u'+2.3', u'\\xa0', u'6', u'Austin Barnes, LAD', u'C', u'25.0', u'20.4', u'-4.5']\n",
      "[u'7', u'Max Stassi, Hou', u'C', u'0.5', u'2.5', u'+2', u'\\xa0', u'7', u'Salvador Perez*, KC', u'C', u'88.7', u'85.0', u'-3.7']\n",
      "[u'8', u'Brian McCann, Hou', u'C', u'66.8', u'68.7', u'+1.9', u'\\xa0', u'8', u'Evan Gattis, Hou', u'C', u'96.2', u'94.4', u'-1.7']\n",
      "[u'9', u'Manny Pina, Mil', u'C', u'1.9', u'3.3', u'+1.4', u'\\xa0', u'9', u\"Travis d'Arnaud, NYM\", u'C', u'9.2', u'7.6', u'-1.7']\n",
      "[u'10', u'Pedro Severino, Wsh', u'C', u'0.1', u'1.1', u'+1', u'\\xa0', u'10', u'Matt Wieters*, Wsh', u'C', u'5.4', u'3.8', u'-1.6']\n",
      "[u'11', u'Rene Rivera, LAA', u'C', u'0.1', u'1.1', u'+1', u'\\xa0', u'11', u'Kevin Plawecki, NYM', u'C', u'5.3', u'3.9', u'-1.4']\n",
      "[u'12', u'Yadier Molina, StL', u'C', u'96.6', u'97.3', u'+0.7', u'\\xa0', u'12', u'Martin Maldonado, LAA', u'C', u'5.6', u'4.5', u'-1.1']\n",
      "[u'13', u'Jonathan Lucroy, Oak', u'C', u'50.4', u'51.0', u'+0.7', u'\\xa0', u'13', u'Jorge Alfaro, Phi', u'C', u'6.5', u'5.4', u'-1.1']\n",
      "[u'14', u'Christian Vazquez, Bos', u'C', u'10.1', u'10.8', u'+0.6', u'\\xa0', u'14', u'Alex Avila, Ari', u'C', u'2.9', u'2.1', u'-0.8']\n",
      "[u'15', u'Austin Romine, NYY', u'C', u'0.3', u'0.8', u'+0.5', u'\\xa0', u'15', u'Drew Butera, KC', u'C', u'1.8', u'1.1', u'-0.7']\n",
      "[u'16', u'Tucker Barnhart, Cin', u'C', u'8.2', u'8.6', u'+0.4', u'\\xa0', u'16', u'Gary Sanchez, NYY', u'C', u'99.3', u'98.7', u'-0.6']\n",
      "[u'17', u'Luke Maile, Tor', u'C', u'0.0', u'0.2', u'+0.2', u'\\xa0', u'17', u'Willson Contreras, ChC', u'C', u'98.7', u'98.2', u'-0.5']\n",
      "[u'18', u'Kurt Suzuki, Atl', u'C', u'1.9', u'2.0', u'+0.1', u'\\xa0', u'18', u'Tyler Flowers*, Atl', u'C', u'1.7', u'1.4', u'-0.3']\n",
      "[u'', u'\\xa0', u'19', u'Yan Gomes, Cle', u'C', u'4.1', u'3.9', u'-0.3']\n",
      "[u'', u'\\xa0', u'20', u'Blake Swihart, Bos', u'C', u'0.8', u'0.6', u'-0.2']\n",
      "[u'', u'\\xa0', u'21', u'Jason Castro, Min', u'C', u'1.1', u'0.9', u'-0.2']\n",
      "[u'', u'\\xa0', u'22', u'Caleb Joseph, Bal', u'C', u'0.8', u'0.6', u'-0.2']\n",
      "[u'', u'\\xa0', u'23', u'Devin Mesoraco, Cin', u'C', u'0.5', u'0.4', u'-0.2']\n"
     ]
    }
   ],
   "source": [
    "\n",
    "Ownership = {}\n",
    "\n",
    "\n",
    "for tablenum in range(0,1):\n",
    "\n",
    "    # cycle through all positions\n",
    "    r  = requests.get('http://games.espn.com/flb/addeddropped?slotCategoryId='+str(tablenum))\n",
    "\n",
    "    data = r.text\n",
    "\n",
    "    soup = BeautifulSoup(data)\n",
    "\n",
    "    tables = soup.findAll('table')\n",
    "\n",
    "\n",
    "    for table in tables: \n",
    "\n",
    "        headings = [th.get_text() for th in table.find(\"tr\").find_all(\"th\")]\n",
    "        #print headings\n",
    "\n",
    "\n",
    "        for row in table.find_all(\"tr\")[1:]: \n",
    "\n",
    "        #    sav = [td.find('a') for td in row.find_all(\"td\")]\n",
    "            sav = [td.get_text() for td in row.find_all(\"td\")]\n",
    "\n",
    "            #print(sav)\n",
    "            try:\n",
    "                w = sav.index(u'\\xa0')\n",
    "            except:\n",
    "                w = 0\n",
    "                \n",
    "            #print(w)\n",
    "\n",
    "            #print (sav[1].split(',')[0]).strip('*')\n",
    "\n",
    "            try:\n",
    "                # block out all non-rankings\n",
    "                xx = float(sav[0])\n",
    "\n",
    "                #print sav[0:w]\n",
    "                #print sav[w+1:len(sav)]\n",
    "\n",
    "                # added\n",
    "                #print((sav[1].split(',')[0]).strip('*'))\n",
    "                Ownership[(sav[1].split(',')[0]).strip('*')] = float(sav[5])\n",
    "\n",
    "                #dropped\n",
    "                Ownership[(sav[w+2].split(',')[0]).strip('*')] = float(sav[w+6])\n",
    "\n",
    "            except:\n",
    "                pass\n",
    "\n",
    "            #[u'RK', u'PLAYER, TEAM', u'POS', u'LAST', u'CUR', u'7-DAY +/-']\n",
    "        \n",
    "\n",
    "today = datetime.date.today()\n",
    "\n",
    "f = open('ownership-archive/'+str(today)+'.txt','w')\n",
    "\n",
    "for index,key in enumerate(Ownership.keys()):\n",
    "    print >>f,key,Ownership[key]\n",
    "    \n",
    "f.close()"
   ]
  },
  {
   "cell_type": "code",
   "execution_count": 5,
   "metadata": {
    "collapsed": false
   },
   "outputs": [],
   "source": [
    "\n",
    "Ownership = {}\n",
    "\n",
    "\n",
    "for tablenum in range(0,13):\n",
    "\n",
    "    # cycle through all positions\n",
    "    r  = requests.get('http://games.espn.com/flb/addeddropped?slotCategoryId='+str(tablenum))\n",
    "\n",
    "    data = r.text\n",
    "\n",
    "    soup = BeautifulSoup(data)\n",
    "\n",
    "    tables = soup.findAll('table')\n",
    "\n",
    "\n",
    "    for table in tables: \n",
    "\n",
    "        headings = [th.get_text() for th in table.find(\"tr\").find_all(\"th\")]\n",
    "        #print headings\n",
    "\n",
    "\n",
    "        for row in table.find_all(\"tr\")[1:]: \n",
    "\n",
    "        #    sav = [td.find('a') for td in row.find_all(\"td\")]\n",
    "            sav = [td.get_text() for td in row.find_all(\"td\")]\n",
    "\n",
    "            #print(sav)\n",
    "            try:\n",
    "                w = sav.index(u'\\xa0')\n",
    "            except:\n",
    "                w = 0\n",
    "                \n",
    "            #print(w)\n",
    "\n",
    "            #print (sav[1].split(',')[0]).strip('*')\n",
    "\n",
    "            try:\n",
    "                # block out all non-rankings\n",
    "                xx = float(sav[0])\n",
    "\n",
    "                #print sav[0:w]\n",
    "                #print sav[w+1:len(sav)]\n",
    "\n",
    "                # added\n",
    "                #print((sav[1].split(',')[0]).strip('*'))\n",
    "                Ownership[(sav[1].split(',')[0]).strip('*')] = float(sav[4])\n",
    "\n",
    "                #dropped\n",
    "                Ownership[(sav[w+2].split(',')[0]).strip('*')] = float(sav[w+5])\n",
    "\n",
    "            except:\n",
    "                pass\n",
    "\n",
    "            #[u'RK', u'PLAYER, TEAM', u'POS', u'LAST', u'CUR', u'7-DAY +/-']\n",
    "        \n",
    "\n",
    "today = datetime.date.today()\n",
    "\n",
    "f = open('ownership-archive/'+str(today)+'_poss.txt','w')\n",
    "\n",
    "for index,key in enumerate(Ownership.keys()):\n",
    "    print >>f,key,Ownership[key]\n",
    "    \n",
    "f.close()"
   ]
  },
  {
   "cell_type": "code",
   "execution_count": 6,
   "metadata": {
    "collapsed": false
   },
   "outputs": [],
   "source": [
    "for index,key in enumerate(Ownership.keys()):\n",
    "    if Ownership[key] < -8.:\n",
    "        print key,Ownership[key]"
   ]
  },
  {
   "cell_type": "code",
   "execution_count": 7,
   "metadata": {
    "collapsed": false
   },
   "outputs": [
    {
     "name": "stdout",
     "output_type": "stream",
     "text": [
      "Carlos Asuaje 0.7\n",
      "Willie Calhoun 6.5\n",
      "Hernan Perez 1.6\n",
      "Kevin Plawecki 3.9\n",
      "Adrian Gonzalez 5.6\n",
      "Matt Joyce 7.5\n",
      "Max Stassi 2.5\n",
      "Howie Kendrick 5.0\n",
      "Tucker Barnhart 8.6\n",
      "Drew Butera 1.1\n",
      "Kolten Wong 5.1\n",
      "Daniel Vogelbach 2.1\n",
      "Neil Walker 6.4\n",
      "J.P. Crawford 3.6\n",
      "Matt Wieters 3.8\n",
      "Vladimir Guerrero Jr. 6.3\n",
      "Tyler Flowers 1.4\n",
      "Nick Senzel 6.4\n",
      "Victor Martinez 3.6\n",
      "Robinson Chirinos 9.2\n",
      "Ronald Torreyes 1.2\n",
      "Adam Frazier 2.8\n",
      "Jeimer Candelario 6.6\n",
      "Tyler Austin 6.7\n",
      "Gerardo Parra 4.9\n",
      "Jedd Gyorko 4.8\n",
      "Melky Cabrera 2.2\n",
      "Troy Tulowitzki 2.8\n",
      "Jordy Mercer 1.6\n",
      "Johan Camargo 1.4\n",
      "Luke Maile 0.2\n",
      "Francisco Mejia 3.8\n",
      "Jorge Polanco 1.5\n",
      "Austin Romine 0.8\n",
      "Christian Villanueva 6.4\n",
      "Daniel Descalso 0.6\n",
      "Jose Pirela 9.4\n",
      "Miguel Andujar 8.0\n",
      "Gleyber Torres 9.6\n",
      "Alex Avila 2.1\n",
      "Rajai Davis 0.8\n",
      "Jorge Alfaro 5.4\n",
      "Drew Robinson 1.7\n",
      "Nick Williams 3.2\n",
      "Cory Spangenberg 2.9\n",
      "Derek Dietrich 7.5\n",
      "Jorge Soler 3.0\n",
      "Anthony Santander 1.0\n",
      "Pedro Alvarez 0.6\n",
      "Luis Valbuena 5.4\n",
      "Curtis Granderson 8.7\n",
      "Logan Forsythe 3.5\n",
      "Ketel Marte 5.4\n",
      "Chase Headley 3.1\n",
      "C.J. Cron 5.5\n",
      "Jon Jay 2.1\n",
      "Devon Travis 2.6\n",
      "Steve Pearce 2.5\n",
      "Rene Rivera 1.1\n",
      "Tyler Naquin 0.4\n",
      "Jason Heyward 6.8\n",
      "Niko Goodrum 0.4\n",
      "Jose Reyes 3.3\n",
      "Jefry Marte 0.7\n",
      "Miguel Rojas 0.7\n",
      "Aledmys Diaz 2.5\n",
      "Enrique Hernandez 3.1\n",
      "Joey Wendle 0.3\n",
      "Colby Rasmus 0.8\n",
      "Brandon Nimmo 1.8\n",
      "Lonnie Chisenhall 2.8\n",
      "Pedro Severino 1.1\n",
      "Travis d'Arnaud 7.6\n",
      "Mallex Smith 6.0\n",
      "Franklin Barreto 2.3\n",
      "Dixon Machado 5.2\n",
      "Ryan McMahon 6.7\n",
      "Kurt Suzuki 2.0\n",
      "Martin Maldonado 4.5\n",
      "Brian Goodwin 2.5\n",
      "Manny Pina 3.3\n"
     ]
    }
   ],
   "source": [
    "for index,key in enumerate(Ownership.keys()):\n",
    "    if Ownership[key] < 10.:\n",
    "        print key,Ownership[key]"
   ]
  },
  {
   "cell_type": "markdown",
   "metadata": {},
   "source": [
    "Souza, Bird, Trumbo, Kinsler, Zunino\n",
    "Grandal, Ianetta, McCann, Lucroy, Castillo"
   ]
  },
  {
   "cell_type": "code",
   "execution_count": null,
   "metadata": {
    "collapsed": true
   },
   "outputs": [],
   "source": []
  },
  {
   "cell_type": "code",
   "execution_count": null,
   "metadata": {
    "collapsed": true
   },
   "outputs": [],
   "source": []
  },
  {
   "cell_type": "code",
   "execution_count": null,
   "metadata": {
    "collapsed": true
   },
   "outputs": [],
   "source": []
  },
  {
   "cell_type": "code",
   "execution_count": 8,
   "metadata": {
    "collapsed": false
   },
   "outputs": [
    {
     "ename": "NameError",
     "evalue": "name 'l' is not defined",
     "output_type": "error",
     "traceback": [
      "\u001b[0;31m---------------------------------------------------------------------------\u001b[0m",
      "\u001b[0;31mNameError\u001b[0m                                 Traceback (most recent call last)",
      "\u001b[0;32m<ipython-input-8-a5880b05b7b9>\u001b[0m in \u001b[0;36m<module>\u001b[0;34m()\u001b[0m\n\u001b[0;32m----> 1\u001b[0;31m \u001b[0;32mprint\u001b[0m \u001b[0ml\u001b[0m\u001b[0;34m[\u001b[0m\u001b[0;36m0\u001b[0m\u001b[0;34m]\u001b[0m\u001b[0;34m\u001b[0m\u001b[0m\n\u001b[0m\u001b[1;32m      2\u001b[0m \u001b[0;34m\u001b[0m\u001b[0m\n\u001b[1;32m      3\u001b[0m \u001b[0mpositives\u001b[0m \u001b[0;34m=\u001b[0m \u001b[0;34m[\u001b[0m\u001b[0;34m'congratulates'\u001b[0m\u001b[0;34m]\u001b[0m\u001b[0;34m\u001b[0m\u001b[0m\n\u001b[1;32m      4\u001b[0m \u001b[0;34m\u001b[0m\u001b[0m\n\u001b[1;32m      5\u001b[0m \u001b[0;32mprint\u001b[0m \u001b[0mnp\u001b[0m\u001b[0;34m.\u001b[0m\u001b[0msum\u001b[0m\u001b[0;34m(\u001b[0m\u001b[0mnp\u001b[0m\u001b[0;34m.\u001b[0m\u001b[0marray\u001b[0m\u001b[0;34m(\u001b[0m\u001b[0;34m[\u001b[0m\u001b[0;34m(\u001b[0m\u001b[0mx\u001b[0m \u001b[0;32min\u001b[0m \u001b[0ml\u001b[0m\u001b[0;34m[\u001b[0m\u001b[0;36m0\u001b[0m\u001b[0;34m]\u001b[0m\u001b[0;34m)\u001b[0m \u001b[0;32mfor\u001b[0m \u001b[0mx\u001b[0m \u001b[0;32min\u001b[0m \u001b[0mpositives\u001b[0m\u001b[0;34m]\u001b[0m\u001b[0;34m)\u001b[0m\u001b[0;34m)\u001b[0m\u001b[0;34m\u001b[0m\u001b[0m\n",
      "\u001b[0;31mNameError\u001b[0m: name 'l' is not defined"
     ]
    }
   ],
   "source": [
    "print l[0]\n",
    "\n",
    "positives = ['congratulates']\n",
    "\n",
    "print np.sum(np.array([(x in l[0]) for x in positives]))\n",
    "\n"
   ]
  },
  {
   "cell_type": "code",
   "execution_count": null,
   "metadata": {
    "collapsed": false
   },
   "outputs": [],
   "source": [
    "negatives = ['rehab','injure','disable','DL','suspension','surgery','injury']\n",
    "\n",
    "#[(x in string_in) for x in negatives]\n",
    "\n",
    "def check_words(string_in,words):\n",
    "    total = [(x in string_in) for x in words]\n",
    "    return np.sum(np.array(total))\n",
    "    \n",
    "\n",
    "for index,key in enumerate(Ownership.keys()):\n",
    "    if Ownership[key] < -5.:\n",
    "        print key\n",
    "        print '--------------'\n",
    "        l = scrape_news_summaries(key)\n",
    "        print l[0]\n",
    "        print check_words(l[0],negatives),' ',\n",
    "        print check_words(l[1],negatives),' ',\n",
    "        print check_words(l[2],negatives)\n",
    "        print ''\n",
    "\n"
   ]
  },
  {
   "cell_type": "code",
   "execution_count": null,
   "metadata": {
    "collapsed": false
   },
   "outputs": [],
   "source": [
    "for index,key in enumerate(Ownership.keys()):\n",
    "    if Ownership[key] > 5.:\n",
    "        print key\n",
    "        print '--------------'\n",
    "        l = scrape_news_summaries(key)\n",
    "        print l[0]\n",
    "        print ''\n",
    "\n",
    "\n"
   ]
  },
  {
   "cell_type": "code",
   "execution_count": null,
   "metadata": {
    "collapsed": false
   },
   "outputs": [],
   "source": [
    "print Ownership['Justin Verlander']"
   ]
  },
  {
   "cell_type": "markdown",
   "metadata": {},
   "source": [
    "### News Alerts\n",
    "\n",
    "Another interesting thing is grabbing Google News findings on players to see if we can determine what the narrative leading to the explosion in pickups or drops is coming from.\n",
    "\n",
    "Good keywords:\n",
    "1. Trade\n",
    "2. Hot\n",
    "3. Streak\n",
    "4. Fire\n",
    "5. Homer\n",
    "\n",
    "\n",
    "Bad keywords:\n",
    "1. Cold\n",
    "2. Bench\n",
    "3. Disabled/DL\n",
    "4. Injure\n",
    "5. Suspension\n",
    "\n"
   ]
  },
  {
   "cell_type": "code",
   "execution_count": null,
   "metadata": {
    "collapsed": false,
    "scrolled": false
   },
   "outputs": [],
   "source": [
    "#https://stackoverflow.com/questions/39354587/scraping-google-news-with-beautifulsoup-returns-empty-results\n",
    "\n",
    "from bs4 import BeautifulSoup\n",
    "import requests\n",
    "import time\n",
    "from random import randint\n",
    "\n",
    "\n",
    "def scrape_news_summaries(s):\n",
    "    time.sleep(randint(0, 2))  # relax and don't let google be angry\n",
    "    \n",
    "    r = requests.get(\"http://www.google.com/search?q=\"+s+\"&tbm=nws\")    \n",
    "    # Print the status code\n",
    "    #print(r.status_code)  \n",
    "    \n",
    "    content = r.text\n",
    "    #print content\n",
    "    \n",
    "    news_summaries = []\n",
    "    soup = BeautifulSoup(content, \"html.parser\")\n",
    "    #st_divs = soup.find_all(\"div\", class_=\"gs-info\")\n",
    "    st_divs = soup.findAll(\"div\", {\"class\": \"st\"})\n",
    "    #st_divs = soup.findAll(\"div\", {\"class\": \"rc\"})\n",
    "\n",
    "\n",
    "    for st_div in st_divs:\n",
    "        #print st_div\n",
    "        news_summaries.append(st_div.text)\n",
    "    return news_summaries\n",
    "\n",
    "\n",
    "\n",
    "\n",
    "#http://www.espn.com/search/results?q=Alex+Wood\n",
    "#r = requests.get(\"http://www.google.com/search?q=\"+s+\"&tbm=nws\")\n",
    "\n",
    "l = scrape_news_summaries(\"Justin+Verlander\")\n",
    "\n",
    "for n in l:\n",
    "    print(n)\n",
    "    print('')"
   ]
  },
  {
   "cell_type": "markdown",
   "metadata": {},
   "source": [
    "### Stats Alerts\n",
    "\n",
    "We should also scrape the fangraphs gamelog page to see if there is anything obvious there."
   ]
  },
  {
   "cell_type": "markdown",
   "metadata": {},
   "source": [
    "### Crazy\n",
    "\n",
    "It would be awesome to try and make a model to predict ownership data based on news stories."
   ]
  },
  {
   "cell_type": "code",
   "execution_count": null,
   "metadata": {
    "collapsed": false
   },
   "outputs": [],
   "source": [
    "r  = requests.get('http://www.espn.com/mlb/player/_/id/33095/jose-abreu')\n",
    "\n",
    "data = r.text\n",
    "\n",
    "soup = BeautifulSoup(data)\n",
    "\n",
    "fantasy_table = soup.find_all('div', id='fantasy-content')\n",
    "\n",
    "print fantasy_table#.find(\"tr\")\n",
    "\n",
    "#for table in tables: \n",
    "\n",
    "#        headings = [th.get_text() for th in table.find(\"tr\").find_all(\"th\")]\n",
    "#        #print headings\n",
    "\n",
    "#<div class=\"mod-content\" id=\"fantasy-content\">\n",
    "\n",
    "\n",
    "#(row in table.find_all(\"tr\", class_=\"grid_postseason\"))"
   ]
  },
  {
   "cell_type": "code",
   "execution_count": null,
   "metadata": {
    "collapsed": true
   },
   "outputs": [],
   "source": []
  }
 ],
 "metadata": {
  "anaconda-cloud": {},
  "kernelspec": {
   "display_name": "Python [default]",
   "language": "python",
   "name": "python2"
  },
  "language_info": {
   "codemirror_mode": {
    "name": "ipython",
    "version": 2
   },
   "file_extension": ".py",
   "mimetype": "text/x-python",
   "name": "python",
   "nbconvert_exporter": "python",
   "pygments_lexer": "ipython2",
   "version": "2.7.12"
  }
 },
 "nbformat": 4,
 "nbformat_minor": 1
}
