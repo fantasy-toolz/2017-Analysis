{
 "cells": [
  {
   "cell_type": "markdown",
   "metadata": {},
   "source": [
    "# Catchers for All Strategies"
   ]
  },
  {
   "cell_type": "code",
   "execution_count": null,
   "metadata": {
    "collapsed": true
   },
   "outputs": [],
   "source": [
    "from IPython.display import HTML\n",
    "HTML('''<script>code_show=true; function code_toggle() { if (code_show){ $('div.input').hide();} else { $('div.input').show(); } code_show = !code_show} $( document ).ready(code_toggle);</script><form action=\"javascript:code_toggle()\"><input type=\"submit\" value=\"Click here to toggle on/off the raw code.\"></form>''')"
   ]
  },
  {
   "cell_type": "code",
   "execution_count": 1,
   "metadata": {
    "collapsed": true
   },
   "outputs": [],
   "source": [
    "# boilerplate imports\n",
    "\n",
    "import numpy as np\n",
    "import matplotlib.pyplot as plt\n",
    "import matplotlib.cm as cm\n",
    "import csv\n",
    "%matplotlib inline"
   ]
  },
  {
   "cell_type": "code",
   "execution_count": 4,
   "metadata": {
    "collapsed": false
   },
   "outputs": [],
   "source": [
    "\n",
    "\n",
    "def read_batting_data(infile):\n",
    "    BatData = np.genfromtxt((\"\\t\".join(i) for i in csv.reader(open(infile))), delimiter=\"\\t\",\\\n",
    "                  dtype={'names': (\"Name\",\"Team\",\"G\",\"AB\",\"PA\",\"H\",\\\n",
    "                                   \"1B\",\"2B\",\"3B\",\"HR\",\"R\",\"RBI\",\"BB\",\"IBB\",\n",
    "                                   \"SO\",\"HBP\",\"SF\",\"SH\",\"GDP\",\"SB\",\"CS\",\"AVG\",\"playerid\"),\\\n",
    "                         'formats': ('S20','S20','i2','f4','f4','f4',\\\n",
    "                                     'f4','f4','f4','f4','f4','f4','f4','f4',\\\n",
    "                                    'f4','f4','f4','f4','f4','f4','f4','f4','i2')},\\\n",
    "                 skip_header=1)\n",
    "    return BatData\n",
    "\n",
    "\n",
    "# 70 PA+ only\n",
    "Catchers   = read_batting_data('../batting_notebooks/2017Batting/Catchers_071617.csv')\n",
    "\n"
   ]
  },
  {
   "cell_type": "code",
   "execution_count": null,
   "metadata": {
    "collapsed": true
   },
   "outputs": [],
   "source": []
  }
 ],
 "metadata": {
  "anaconda-cloud": {},
  "kernelspec": {
   "display_name": "Python [default]",
   "language": "python",
   "name": "python2"
  },
  "language_info": {
   "codemirror_mode": {
    "name": "ipython",
    "version": 2
   },
   "file_extension": ".py",
   "mimetype": "text/x-python",
   "name": "python",
   "nbconvert_exporter": "python",
   "pygments_lexer": "ipython2",
   "version": "2.7.12"
  }
 },
 "nbformat": 4,
 "nbformat_minor": 1
}
