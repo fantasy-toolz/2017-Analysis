{
 "cells": [
  {
   "cell_type": "markdown",
   "metadata": {},
   "source": [
    "# Pull ESPN Scores and Schedules\n",
    "\n",
    "### MSP 8.30.2017\n"
   ]
  },
  {
   "cell_type": "code",
   "execution_count": 41,
   "metadata": {
    "collapsed": false
   },
   "outputs": [
    {
     "data": {
      "text/html": [
       "<script>code_show=true; function code_toggle() { if (code_show){ $('div.input').hide();} else { $('div.input').show(); } code_show = !code_show} $( document ).ready(code_toggle);</script><form action=\"javascript:code_toggle()\"><input type=\"submit\" value=\"Click here to toggle on/off the raw code.\"></form>"
      ],
      "text/plain": [
       "<IPython.core.display.HTML object>"
      ]
     },
     "execution_count": 41,
     "metadata": {},
     "output_type": "execute_result"
    }
   ],
   "source": [
    "from IPython.display import HTML\n",
    "HTML('''<script>code_show=true; function code_toggle() { if (code_show){ $('div.input').hide();} else { $('div.input').show(); } code_show = !code_show} $( document ).ready(code_toggle);</script><form action=\"javascript:code_toggle()\"><input type=\"submit\" value=\"Click here to toggle on/off the raw code.\"></form>''')"
   ]
  },
  {
   "cell_type": "code",
   "execution_count": 59,
   "metadata": {
    "collapsed": false
   },
   "outputs": [
    {
     "data": {
      "text/html": [
       "<style>\n",
       "\n",
       "@import url('https://fonts.googleapis.com/css?family=Libre+Barcode+39+Text|Merriweather');\n",
       "\n",
       "\n",
       "\n",
       "\n",
       "th {\n",
       "background-color:#55FF33;\n",
       "    font-family: 'Merriweather', serif;\n",
       "}\n",
       "td {\n",
       "background-color:#00FFFF;\n",
       "    font-family: 'Merriweather', serif;\n",
       "}\n",
       "</style>\n",
       "\n"
      ],
      "text/plain": [
       "<IPython.core.display.HTML object>"
      ]
     },
     "execution_count": 59,
     "metadata": {},
     "output_type": "execute_result"
    }
   ],
   "source": [
    "#https://stackoverflow.com/questions/44628975/is-it-possible-to-add-css-style-to-jupyter-notebook-from-separate-file\n",
    "\n",
    "from IPython.core.display import HTML\n",
    "import urllib2\n",
    "HTML(open('../style_files/page2.css', \"r\").read())"
   ]
  },
  {
   "cell_type": "markdown",
   "metadata": {},
   "source": [
    "Did you know that css styling will work here?"
   ]
  },
  {
   "cell_type": "code",
   "execution_count": 60,
   "metadata": {
    "collapsed": false
   },
   "outputs": [
    {
     "data": {
      "text/html": [
       "<table><tr><th>bar</th><th>bar</th></tr><tr><td>foo</td><td>foo</td></tr></table>"
      ],
      "text/plain": [
       "<IPython.core.display.HTML object>"
      ]
     },
     "metadata": {},
     "output_type": "display_data"
    }
   ],
   "source": [
    "from IPython.display import HTML\n",
    "table = \"<table><tr><th>bar</th><th>bar</th></tr><tr><td>foo</td><td>foo</td></tr></table>\"\n",
    "display(HTML(table))"
   ]
  },
  {
   "cell_type": "code",
   "execution_count": 2,
   "metadata": {
    "collapsed": true
   },
   "outputs": [],
   "source": [
    "# boilerplate imports\n",
    "\n",
    "import numpy as np\n",
    "import matplotlib.pyplot as plt\n",
    "import matplotlib.cm as cm\n",
    "%matplotlib inline\n",
    "\n",
    "import matplotlib as mpl\n",
    "cmap = cm.gnuplot\n",
    "\n",
    "\n"
   ]
  },
  {
   "cell_type": "code",
   "execution_count": 3,
   "metadata": {
    "collapsed": true
   },
   "outputs": [],
   "source": [
    "# imports for scraping\n",
    "\n",
    "from bs4 import BeautifulSoup\n",
    "\n",
    "import requests\n",
    "\n",
    "import operator\n",
    "\n"
   ]
  },
  {
   "cell_type": "code",
   "execution_count": 4,
   "metadata": {
    "collapsed": true
   },
   "outputs": [],
   "source": [
    "teams = ['angels','astros','athletics','bluejays','braves',\\\n",
    "        'brewers','cardinals','cubs','diamondbacks','dodgers',\\\n",
    "        'giants','indians','mariners','marlins','mets','nationals',\\\n",
    "        'orioles','padres','phillies','pirates','rangers',\\\n",
    "        'rays','reds','redsox','rockies','royals','tigers','twins',\\\n",
    "        'whitesox','yankees']\n",
    "\n",
    "# can go back seasons with ?season=2016 at end of url"
   ]
  },
  {
   "cell_type": "code",
   "execution_count": 19,
   "metadata": {
    "collapsed": false
   },
   "outputs": [
    {
     "name": "stdout",
     "output_type": "stream",
     "text": [
      "[u'matchup', u'', u'time\\xa0(ET)', u'nat tv', u'pitching matchup', u'tickets']\n",
      "[u'Atlanta ATL', u'Chicago CHC', u'LIVE', u'', u'Mike Foltynewicz vs John Lackey', u'Buy on Vivid Seats', u'']\n",
      "[u'Boston BOS', u'New York NYY', u'', u'MLBN', u'Doug Fister vs Sonny Gray', u'956 tickets available from $14', u'']\n",
      "[u'Toronto TOR', u'Baltimore BAL', u'', u'', u'Joe Biagini vs Kevin Gausman', u'243 tickets available from $6', u'']\n",
      "[u'Cincinnati CIN', u'Pittsburgh PIT', u'', u'', u'Luis Castillo vs Gerrit Cole', u'1,255 tickets available from $6', u'']\n",
      "[u'Philadelphia PHI', u'Miami MIA', u'', u'', u'Nick Pivetta vs Dillon Peters', u'359 tickets available from $9', u'']\n",
      "[u'Cleveland CLE', u'Detroit DET', u'', u'', u'Mike Clevinger vs Buck Farmer', u'5,256 tickets available from $16', u'']\n",
      "[u'Los Angeles LAA', u'Texas TEX', u'', u'', u'Tyler Skaggs vs Cole Hamels', u'581 tickets available from $7', u'']\n",
      "[u'Tampa Bay TB', u'Chicago CHW', u'', u'', u'Blake Snell vs Reynaldo Lopez', u'303 tickets available from $3', u'']\n",
      "[u'Washington WSH', u'Milwaukee MIL', u'', u'', u'Tanner Roark vs Jimmy Nelson', u'522 tickets available from $3', u'']\n",
      "[u'Kansas City KC', u'Minnesota MIN', u'', u'', u'Jason Hammel vs Dillon Gee', u'116 tickets available from $16', u'']\n",
      "[u'Arizona ARI', u'Colorado COL', u'', u'', u'Taijuan Walker vs Kyle Freeland', u'1,947 tickets available from $2', u'']\n",
      "[u'Oakland OAK', u'Seattle SEA', u'', u'', u'Sean Manaea vs Mike Leake', u'815 tickets available from $9', u'']\n",
      "[u'Los Angeles LAD', u'San Diego SD', u'', u'', u'Clayton Kershaw vs Dinelson Lamet', u'110 tickets available from $23', u'']\n",
      "[u'St. Louis STL', u'San Francisco SF', u'', u'', u'Jack Flaherty vs Johnny Cueto', u'3,060 tickets available from $2', u'']\n",
      "[u'matchup', u'', u'result', u'win', u'loss', u'save']\n",
      "[u'Cleveland CLE', u'Detroit DET', u'CLE 3, DET 2', u'Cody Allen', u'Shane Greene', u'Joe Smith']\n",
      "[u'New York NYM', u'Houston HOU', u'Postponed', u'', u'', u'']\n",
      "[u'matchup', u'', u'time\\xa0(ET)', u'nat tv', u'pitching matchup', u'tickets']\n",
      "[u'Boston BOS', u'New York NYY', u'', u'', u'Drew Pomeranz vs Masahiro Tanaka', u'1,813 tickets available from $18', u'']\n",
      "[u'New York NYM', u'Houston HOU', u'', u'', u'Matt Harvey vs Charlie Morton', u'3,252 tickets available from $7', u'']\n",
      "[u'Atlanta ATL', u'Chicago CHC', u'', u'', u'Lucas Sims vs Jon Lester', u'930 tickets available from $42', u'']\n",
      "[u'Los Angeles LAD', u'San Diego SD', u'', u'', u'Brock Stewart vs Clayton Richard', u'603 tickets available from $20', u'']\n",
      "[u'St. Louis STL', u'San Francisco SF', u'', u'', u'Lance Lynn vs Chris Stratton', u'1,254 tickets available from $7', u'']\n",
      "[u'Cleveland CLE', u'Detroit DET', u'', u'', u'Corey Kluber vs Jordan Zimmermann', u'1,976 tickets available from $5', u'']\n",
      "[u'Toronto TOR', u'Baltimore BAL', u'', u'', u'Marcus Stroman vs Wade Miley', u'502 tickets available from $17', u'']\n",
      "[u'Cincinnati CIN', u'Pittsburgh PIT', u'', u'', u'Tyler Mahle vs Jameson Taillon', u'1,966 tickets available from $8', u'']\n",
      "[u'Tampa Bay TB', u'Chicago CHW', u'', u'', u'Chris Archer vs Carlos Rodon', u'684 tickets available from $9', u'']\n",
      "[u'Washington WSH', u'Milwaukee MIL', u'', u'', u'Max Scherzer vs Brandon Woodruff', u'623 tickets available from $15', u'']\n",
      "[u'Kansas City KC', u'Minnesota MIN', u'', u'', u'Ian Kennedy vs Kyle Gibson', u'536 tickets available from $15', u'']\n",
      "[u'Philadelphia PHI', u'Miami MIA', u'', u'', u'Aaron Nola vs Dan Straily', u'340 tickets available from $9', u'']\n",
      "[u'Los Angeles LAA', u'Texas TEX', u'', u'', u'Ricky Nolasco vs A.J. Griffin', u'1,686 tickets available from $4', u'']\n",
      "[u'Arizona ARI', u'Colorado COL', u'', u'', u'Patrick Corbin vs Jon Gray', u'3,871 tickets available from $2', u'']\n",
      "[u'New York NYM', u'Houston HOU', u'', u'', u'Seth Lugo vs Brad Peacock', u'Buy on Vivid Seats', u'']\n",
      "[u'Oakland OAK', u'Seattle SEA', u'', u'', u'Jharel Cotton vs Yovani Gallardo', u'2,081 tickets available from $10', u'']\n",
      "[u'Los Angeles LAD', u'San Diego SD', u'', u'', u'Yu Darvish vs Jhoulys Chacin', u'Buy on Vivid Seats', u'']\n",
      "[u'matchup', u'', u'time\\xa0(ET)', u'nat tv', u'pitching matchup', u'tickets']\n",
      "[u'Cleveland CLE', u'Detroit DET', u'', u'', u'Josh Tomlin vs Michael Fulmer', u'1,852 tickets available from $5', u'']\n",
      "[u'Philadelphia PHI', u'Miami MIA', u'', u'', u'Jake Thompson vs Jose Urena', u'464 tickets available from $10', u'']\n",
      "[u'Toronto TOR', u'Baltimore BAL', u'', u'', u'Brett Anderson vs Chris Tillman', u'996 tickets available from $14', u'']\n",
      "[u'Cincinnati CIN', u'Pittsburgh PIT', u'', u'', u'Sal Romano vs Trevor Williams', u'1,434 tickets available from $10', u'']\n",
      "[u'Tampa Bay TB', u'Chicago CHW', u'', u'', u'Matt Andriese vs Lucas Giolito', u'911 tickets available from $3', u'']\n",
      "[u'Washington WSH', u'Milwaukee MIL', u'', u'', u'Edwin Jackson vs Matt Garza', u'697 tickets available from $11', u'']\n",
      "[u'Kansas City KC', u'Minnesota MIN', u'', u'', u'Jake Junis vs Ervin Santana', u'757 tickets available from $18', u'']\n",
      "[u'New York NYM', u'Houston HOU', u'', u'', u'Chris Flexen vs Mike Fiers', u'2,320 tickets available from $8', u'']\n",
      "[u'Atlanta ATL', u'Chicago CHC', u'', u'', u'R.A. Dickey vs Mike Montgomery', u'820 tickets available from $51', u'']\n",
      "[u'Los Angeles LAA', u'Texas TEX', u'', u'', u'Andrew Heaney vs Martin Perez', u'1,883 tickets available from $3', u'']\n",
      "[u'Arizona ARI', u'Colorado COL', u'', u'TBS', u'Zack Godley vs Antonio Senzatela', u'2,915 tickets available from $5', u'']\n",
      "[u'St. Louis STL', u'San Francisco SF', u'', u'', u'Luke Weaver vs Jeff Samardzija', u'1,705 tickets available from $8', u'']\n",
      "[u'Oakland OAK', u'Seattle SEA', u'', u'', u'Daniel Gossett vs Andrew Albers', u'1,749 tickets available from $13', u'']\n",
      "[u'Los Angeles LAD', u'San Diego SD', u'', u'', u'Alex Wood vs Luis Perdomo', u'591 tickets available from $19', u'']\n",
      "[u'Boston BOS', u'New York NYY', u'', u'', u'Chris Sale vs Luis Severino', u'2,687 tickets available from $23', u'']\n"
     ]
    }
   ],
   "source": [
    "\n",
    "r  = requests.get('http://www.espn.com/mlb/schedule/_/date/20170901')\n",
    "\n",
    "#http://www.espn.com/mlb/schedule/_/date/20170903\n",
    "\n",
    "#r  = requests.get('http://www.espn.com/mlb/team/schedule/_/name/cle/cleveland-indians')\n",
    "\n",
    "\n",
    "#r = requests.get('https://projects.fivethirtyeight.com/2017-mlb-predictions/games/')\n",
    "\n",
    "\n",
    "data = r.text\n",
    "\n",
    "soup = BeautifulSoup(data)\n",
    "\n",
    "\n",
    "tables = soup.findAll('table')\n",
    "\n",
    "for table in tables: \n",
    "    \n",
    "    headings = [th.get_text() for th in table.find(\"tr\").find_all(\"th\")]\n",
    "    print headings\n",
    "\n",
    "\n",
    "    for row in table.find_all(\"tr\")[1:]: \n",
    "    \n",
    "    #    sav = [td.find('a') for td in row.find_all(\"td\")]\n",
    "        sav = [td.get_text() for td in row.find_all(\"td\")]\n",
    "\n",
    "\n",
    "        print sav\n",
    "#table_div = soup.find('div' , {\"class\":\"team-schedule-table\"})\n",
    "#table = table_div.find('table')\n",
    "\n",
    "    # The first tr contains the field names.\n",
    "\n"
   ]
  },
  {
   "cell_type": "code",
   "execution_count": null,
   "metadata": {
    "collapsed": true
   },
   "outputs": [],
   "source": []
  }
 ],
 "metadata": {
  "anaconda-cloud": {},
  "kernelspec": {
   "display_name": "Python [default]",
   "language": "python",
   "name": "python2"
  },
  "language_info": {
   "codemirror_mode": {
    "name": "ipython",
    "version": 2
   },
   "file_extension": ".py",
   "mimetype": "text/x-python",
   "name": "python",
   "nbconvert_exporter": "python",
   "pygments_lexer": "ipython2",
   "version": "2.7.12"
  }
 },
 "nbformat": 4,
 "nbformat_minor": 1
}
