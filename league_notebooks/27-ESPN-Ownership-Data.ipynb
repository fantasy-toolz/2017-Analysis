{
 "cells": [
  {
   "cell_type": "markdown",
   "metadata": {},
   "source": [
    "# Pull ESPN Ownership Data\n",
    "\n",
    "### MSP 9.4.2017\n"
   ]
  },
  {
   "cell_type": "code",
   "execution_count": 1,
   "metadata": {
    "collapsed": true
   },
   "outputs": [],
   "source": [
    "# boilerplate imports\n",
    "\n",
    "import datetime\n",
    "import numpy as np\n",
    "import matplotlib.pyplot as plt\n",
    "import matplotlib.cm as cm\n",
    "%matplotlib inline\n",
    "\n",
    "import matplotlib as mpl\n",
    "cmap = cm.gnuplot\n",
    "\n",
    "\n"
   ]
  },
  {
   "cell_type": "code",
   "execution_count": 2,
   "metadata": {
    "collapsed": true
   },
   "outputs": [],
   "source": [
    "# imports for scraping\n",
    "\n",
    "from bs4 import BeautifulSoup\n",
    "\n",
    "import requests\n",
    "\n",
    "import operator\n",
    "\n"
   ]
  },
  {
   "cell_type": "markdown",
   "metadata": {},
   "source": [
    "### Change In Ownership\n",
    "\n",
    "Also set up an archive."
   ]
  },
  {
   "cell_type": "code",
   "execution_count": 3,
   "metadata": {
    "collapsed": false,
    "scrolled": false
   },
   "outputs": [],
   "source": [
    "\n",
    "Ownership = {}\n",
    "\n",
    "\n",
    "for tablenum in range(0,14):\n",
    "\n",
    "    # cycle through all positions\n",
    "    r  = requests.get('http://games.espn.com/flb/addeddropped?slotCategoryId='+str(tablenum))\n",
    "\n",
    "    data = r.text\n",
    "\n",
    "    soup = BeautifulSoup(data)\n",
    "\n",
    "    tables = soup.findAll('table')\n",
    "\n",
    "\n",
    "    for table in tables: \n",
    "\n",
    "        headings = [th.get_text() for th in table.find(\"tr\").find_all(\"th\")]\n",
    "        #print headings\n",
    "\n",
    "\n",
    "        for row in table.find_all(\"tr\")[1:]: \n",
    "\n",
    "        #    sav = [td.find('a') for td in row.find_all(\"td\")]\n",
    "            sav = [td.get_text() for td in row.find_all(\"td\")]\n",
    "\n",
    "            #print(sav)\n",
    "            try:\n",
    "                w = sav.index(u'\\xa0')\n",
    "            except:\n",
    "                w = 0\n",
    "                \n",
    "            #print(w)\n",
    "\n",
    "            #print (sav[1].split(',')[0]).strip('*')\n",
    "\n",
    "            try:\n",
    "                # block out all non-rankings\n",
    "                xx = float(sav[0])\n",
    "\n",
    "                #print sav[0:w]\n",
    "                #print sav[w+1:len(sav)]\n",
    "\n",
    "                # added\n",
    "                #print((sav[1].split(',')[0]).strip('*'))\n",
    "                Ownership[(sav[1].split(',')[0]).strip('*')] = float(sav[5])\n",
    "\n",
    "                #dropped\n",
    "                Ownership[(sav[w+2].split(',')[0]).strip('*')] = float(sav[w+6])\n",
    "\n",
    "            except:\n",
    "                pass\n",
    "\n",
    "            #[u'RK', u'PLAYER, TEAM', u'POS', u'LAST', u'CUR', u'7-DAY +/-']\n",
    "        \n",
    "\n",
    "today = datetime.date.today()\n",
    "\n",
    "f = open('ownership-archive/'+str(today)+'.txt','w')\n",
    "\n",
    "for index,key in enumerate(Ownership.keys()):\n",
    "    print >>f,key,Ownership[key]\n",
    "    \n",
    "f.close()"
   ]
  },
  {
   "cell_type": "code",
   "execution_count": 4,
   "metadata": {
    "collapsed": false
   },
   "outputs": [],
   "source": [
    "\n",
    "Ownership = {}\n",
    "\n",
    "\n",
    "for tablenum in range(0,18):\n",
    "\n",
    "    # cycle through all positions\n",
    "    r  = requests.get('http://games.espn.com/flb/addeddropped?slotCategoryId='+str(tablenum))\n",
    "\n",
    "    data = r.text\n",
    "\n",
    "    soup = BeautifulSoup(data)\n",
    "\n",
    "    tables = soup.findAll('table')\n",
    "\n",
    "\n",
    "    for table in tables: \n",
    "\n",
    "        headings = [th.get_text() for th in table.find(\"tr\").find_all(\"th\")]\n",
    "        #print headings\n",
    "\n",
    "\n",
    "        for row in table.find_all(\"tr\")[1:]: \n",
    "\n",
    "        #    sav = [td.find('a') for td in row.find_all(\"td\")]\n",
    "            sav = [td.get_text() for td in row.find_all(\"td\")]\n",
    "\n",
    "            #print(sav)\n",
    "            try:\n",
    "                w = sav.index(u'\\xa0')\n",
    "            except:\n",
    "                w = 0\n",
    "                \n",
    "            #print(w)\n",
    "\n",
    "            #print (sav[1].split(',')[0]).strip('*')\n",
    "\n",
    "            try:\n",
    "                # block out all non-rankings\n",
    "                xx = float(sav[0])\n",
    "\n",
    "                #print sav[0:w]\n",
    "                #print sav[w+1:len(sav)]\n",
    "\n",
    "                # added\n",
    "                #print((sav[1].split(',')[0]).strip('*'))\n",
    "                Ownership[(sav[1].split(',')[0]).strip('*')] = float(sav[4])\n",
    "\n",
    "                #dropped\n",
    "                Ownership[(sav[w+2].split(',')[0]).strip('*')] = float(sav[w+5])\n",
    "\n",
    "            except:\n",
    "                pass\n",
    "\n",
    "            #[u'RK', u'PLAYER, TEAM', u'POS', u'LAST', u'CUR', u'7-DAY +/-']\n",
    "        \n",
    "\n",
    "today = datetime.date.today()\n",
    "\n",
    "f = open('ownership-archive/'+str(today)+'_poss.txt','w')\n",
    "\n",
    "for index,key in enumerate(Ownership.keys()):\n",
    "    print >>f,key,Ownership[key]\n",
    "    \n",
    "f.close()"
   ]
  },
  {
   "cell_type": "raw",
   "metadata": {
    "collapsed": false
   },
   "source": [
    "for index,key in enumerate(Ownership.keys()):\n",
    "    if Ownership[key] < 10.:\n",
    "        print key,Ownership[key]"
   ]
  },
  {
   "cell_type": "code",
   "execution_count": 5,
   "metadata": {
    "collapsed": false
   },
   "outputs": [
    {
     "name": "stdout",
     "output_type": "stream",
     "text": [
      "('opened', 124.0, 4, 4)\n",
      "('opened', 125.0, 4, 5)\n",
      "('opened', 126.0, 4, 6)\n",
      "('opened', 127.0, 4, 7)\n",
      "('opened', 128.0, 4, 8)\n",
      "('opened', 129.0, 4, 9)\n",
      "('opened', 130.0, 4, 10)\n",
      "('opened', 131.0, 4, 11)\n",
      "('opened', 132.0, 4, 12)\n",
      "('opened', 133.0, 4, 13)\n",
      "('opened', 134.0, 4, 14)\n",
      "('opened', 135.0, 4, 15)\n",
      "('opened', 136.0, 4, 16)\n",
      "('opened', 137.0, 4, 17)\n",
      "('opened', 138.0, 4, 18)\n",
      "('opened', 139.0, 4, 19)\n",
      "('opened', 140.0, 4, 20)\n",
      "('opened', 141.0, 4, 21)\n",
      "('opened', 142.0, 4, 22)\n",
      "('opened', 143.0, 4, 23)\n",
      "('opened', 144.0, 4, 24)\n",
      "('opened', 145.0, 4, 25)\n",
      "('opened', 146.0, 4, 26)\n",
      "('opened', 147.0, 4, 27)\n"
     ]
    }
   ],
   "source": [
    "\n",
    "mos = np.arange(1,13,1)\n",
    "days = np.arange(1,32,1)\n",
    "\n",
    "modays = np.array([31.,28.,31.,30.,31.,30.,31.,31.,30.,31.,30.,31.])\n",
    "\n",
    "PDict = {}\n",
    "for mo in mos:\n",
    "    for day in days:\n",
    "        \n",
    "        try:\n",
    "            f = open('ownership-archive/2018-{0:02d}-{1:02d}_poss.txt'.format(int(mo),int(day)))\n",
    "            print('opened',float(np.sum(modays[0:mo])+day),mo,day)\n",
    "            \n",
    "            for line in f:\n",
    "                q = [d for d in line.split()]\n",
    "                \n",
    "                name = str(q[0])+' '+str(q[1])\n",
    "                \n",
    "                if name in PDict.keys():\n",
    "                    PDict[name].append([float(np.sum(modays[0:mo])+day),float(q[-1])])\n",
    "                else:\n",
    "                    PDict[name] = []\n",
    "                    PDict[name].append([float(np.sum(modays[0:mo])+day),float(q[-1])])\n",
    "                \n",
    "            \n",
    "        except:\n",
    "            pass"
   ]
  },
  {
   "cell_type": "code",
   "execution_count": 20,
   "metadata": {
    "collapsed": false
   },
   "outputs": [
    {
     "name": "stdout",
     "output_type": "stream",
     "text": [
      "529\n",
      "Eric Thames\n"
     ]
    },
    {
     "data": {
      "text/plain": [
       "<matplotlib.text.Text at 0x109b19c10>"
      ]
     },
     "execution_count": 20,
     "metadata": {},
     "output_type": "execute_result"
    },
    {
     "data": {
      "image/png": "[encoded data removed]",
      "text/plain": [
       "<matplotlib.figure.Figure at 0x107492150>"
      ]
     },
     "metadata": {},
     "output_type": "display_data"
    }
   ],
   "source": [
    "print(len(np.array([key for key in PDict.keys()])))\n",
    "\n",
    "plt.figure(figsize=(3,2))\n",
    "player = 'Eric Thames'\n",
    "\n",
    "for pp in [player]:\n",
    "    print(pp)\n",
    "    plt.plot(np.array(PDict[pp])[:,0],np.array(PDict[pp])[:,1],linestyle='steps-mid',color='blue')\n",
    "    \n",
    "plt.xlabel('Date',size=14)\n",
    "plt.ylabel('Ownership',size=14)\n",
    "plt.title(player)"
   ]
  },
  {
   "cell_type": "code",
   "execution_count": 19,
   "metadata": {
    "collapsed": false,
    "scrolled": false
   },
   "outputs": [
    {
     "name": "stdout",
     "output_type": "stream",
     "text": [
      "529\n",
      "Rougned Odor         24 68.2 11.3\n",
      "Tucker Barnhart      21 11.2  2.9\n",
      "Mitch Haniger        23 81.3  6.2\n",
      "Albert Pujols        24 47.6  5.1\n",
      "J.P. Crawford        22  4.5  1.0\n",
      "Nick Ahmed           24 18.1  6.2\n",
      "Josh Reddick         24 83.6  3.3\n",
      "Matt Chapman         21 88.2  9.9\n",
      "Brian Anderson       24 29.6  7.4\n",
      "Marcus Semien        23 26.5  6.8\n",
      "Eugenio Suarez       23 49.8 10.0\n",
      "Jed Lowrie           24 45.4 33.2\n",
      "Tim Beckham          24 16.5  3.5\n",
      "Yolmer Sanchez       22 12.1  4.1\n",
      "Steven Souza         24 37.7  5.1\n",
      "Christian Villanueva 23  7.8 27.9\n",
      "J.T. Realmuto        24 85.7  2.2\n",
      "Ian Desmond          22 90.3  4.2\n",
      "Delino DeShields     23 34.7  6.0\n",
      "Chris Iannetta       24 50.2  8.0\n",
      "Gregory Polanco      22 93.9  1.3\n",
      "Kyle Seager          22 90.2  1.4\n",
      "Aaron Altherr        22  9.0  3.1\n",
      "Avisail Garcia       24 68.8 15.2\n",
      "Luis Valbuena        22 11.0  7.2\n",
      "Zack Cozart          24 79.7  4.6\n",
      "Cesar Hernandez      22 35.0 11.3\n",
      "Freddy Galvis        21 10.9  1.8\n",
      "Logan Morrison       24 31.0 12.9\n",
      "Aledmys Diaz         22  7.1  4.7\n",
      "Kevin Kiermaier      24 41.2 18.1\n",
      "Chris Taylor         22 84.7  2.4\n",
      "Jose Peraza          24 25.3  4.3\n",
      "Joe Panik            24 60.8  6.7\n",
      "Austin Hedges        21 15.9  3.3\n",
      "Yuli Gurriel         22 41.7  4.8\n",
      "Wilson Ramos         22 61.5 10.2\n",
      "Evan Gattis          24 90.6  6.4\n",
      "Lewis Brinson        23 10.9  6.2\n",
      "Shin-Soo Choo        23 65.6  5.4\n",
      "Evan Longoria        21 66.2  6.4\n",
      "Eduardo Nunez        21 92.6  0.6\n",
      "Preston Tucker       24 46.4 12.1\n",
      "Brandon Belt         22 19.7  6.1\n",
      "Colin Moran          21 20.9  6.0\n",
      "Brandon Crawford     24 15.4  3.0\n",
      "Michael Brantley     23 31.5  7.6\n",
      "Jason Kipnis         24 37.6  8.4\n",
      "Gleyber Torres       23 12.6 16.5\n",
      "Matt Carpenter       23 87.7  3.4\n",
      "Yangervis Solarte    24 63.0  9.6\n",
      "Michael Conforto     23 85.9  2.1\n",
      "Manuel Margot        24 57.8 14.4\n",
      "Odubel Herrera       22 52.6  5.5\n",
      "Marwin Gonzalez      24 89.7  4.0\n",
      "Hanley Ramirez       24 77.0 15.9\n",
      "Francisco Cervelli   22 30.4 20.1\n",
      "Scooter Gennett      24 38.4  6.1\n",
      "Miguel Rojas         23  3.4  2.6\n",
      "Domingo Santana      24 79.4 10.5\n",
      "Didi Gregorius       23 97.8  0.5\n",
      "Nick Markakis        24 53.7  9.9\n",
      "Stephen Piscotty     23 43.2  5.1\n",
      "Jose Martinez        24 89.7  5.0\n",
      "Welington Castillo   24 63.4 11.1\n",
      "Mallex Smith         23 11.1  7.5\n",
      "Randal Grichuk       23  9.3  5.0\n",
      "Kurt Suzuki          21  9.5 12.9\n",
      "Josh Harrison        24 60.2 16.4\n",
      "Salvador Perez       23 85.0  1.6\n",
      "Austin Barnes        24 16.0  5.2\n",
      "Addison Russell      24 52.1  7.1\n",
      "Ian Kinsler          23 66.6  3.6\n",
      "Mike Zunino          24 55.0  7.0\n",
      "Starlin Castro       23 55.9  3.6\n",
      "Yoan Moncada         24 67.8  5.7\n",
      "Ryan Flaherty        22 11.2  5.5\n",
      "Justin Bour          23 62.4  3.9\n",
      "Amed Rosario         23 14.8  2.2\n",
      "Kendrys Morales      22 25.8  8.2\n",
      "Bradley Zimmer       24 30.9  5.7\n",
      "Matt Davidson        23 71.4 12.6\n",
      "Whit Merrifield      24 89.0  2.5\n",
      "Carlos Gonzalez      22 56.2  6.6\n",
      "Derek Dietrich       23 16.1  5.1\n",
      "Chris Owings         24 53.3 14.5\n",
      "Maikel Franco        24 41.6  8.5\n",
      "Ben Zobrist          24 23.4  5.3\n",
      "David Peralta        24 65.0  7.1\n",
      "Dansby Swanson       24 56.2 20.4\n",
      "Dexter Fowler        24 55.6  4.3\n",
      "Cameron Maybin       23  7.2  2.6\n",
      "Wil Myers            21 88.9  2.2\n",
      "Corey Dickerson      24 87.2  8.4\n",
      "Jonathan Lucroy      24 48.0  5.3\n",
      "Javier Baez          24 92.2  3.0\n",
      "Ian Happ             24 77.3  9.3\n",
      "Jose Pirela          24 23.8 15.2\n",
      "Andrelton Simmons    22 85.6  3.3\n",
      "Eric Thames          24 83.2  5.0\n",
      "Brian Goodwin        24  1.8  1.0\n",
      "Ryan Braun           23 90.6  2.6\n",
      "Adam Duvall          24 70.1  9.0\n",
      "Kevin Pillar         24 57.6  4.1\n",
      "Trevor Story         21 90.3  0.8\n",
      "Orlando Arcia        24 44.1 10.0\n",
      "Russell Martin       24 16.6  5.7\n",
      "Jake Lamb            22 79.4  4.1\n",
      "Eduardo Escobar      21  9.8  1.7\n",
      "Kyle Schwarber       22 87.2  2.2\n",
      "Paul DeJong          24 85.9  2.8\n",
      "Kole Calhoun         24 63.6  9.6\n",
      "Tim Anderson         24 67.2  4.3\n",
      "Jeimer Candelario    21  7.2  7.5\n",
      "Aaron Hicks          24 38.8  8.5\n",
      "Dixon Machado        23  4.1  1.0\n",
      "Asdrubal Cabrera     24 76.6 25.2\n",
      "Byron Buxton         21 88.1  6.9\n",
      "Yonder Alonso        22 53.2  8.8\n",
      "Howie Kendrick       23 12.7  5.7\n",
      "Ryan Zimmerman       22 71.9  8.7\n",
      "Chris Davis          24 38.0  8.7\n",
      "Yasmani Grandal      24 80.4  6.3\n",
      "Trey Mancini         24 78.7  2.2\n",
      "Ketel Marte          23  9.3  2.6\n",
      "Ozzie Albies         24 91.7  4.5\n",
      "Eddie Rosario        24 84.8  4.7\n",
      "Scott Kingery        23 60.6  5.0\n",
      "Matt Kemp            23 19.5  9.6\n",
      "Joe Mauer            23 24.5  6.2\n",
      "Todd Frazier         21 48.2 11.8\n"
     ]
    },
    {
     "data": {
      "text/plain": [
       "<matplotlib.figure.Figure at 0x10a6fbcd0>"
      ]
     },
     "metadata": {},
     "output_type": "display_data"
    }
   ],
   "source": [
    "print(len(np.array([key for key in PDict.keys()])))\n",
    "\n",
    "for pp in PDict.keys():\n",
    "    if len((np.array(PDict[pp])[:,1])) > 20:\n",
    "        print('{0:20s} {1:2d} {2:4.1f} {3:4.1f}'.format(pp,len((np.array(PDict[pp])[:,1])),np.round(np.median(np.array(PDict[pp])[:,1]),1),np.round(np.std(np.array(PDict[pp])[:,1]),1)))"
   ]
  },
  {
   "cell_type": "code",
   "execution_count": null,
   "metadata": {
    "collapsed": true
   },
   "outputs": [],
   "source": []
  }
 ],
 "metadata": {
  "anaconda-cloud": {},
  "kernelspec": {
   "display_name": "Python [default]",
   "language": "python",
   "name": "python2"
  },
  "language_info": {
   "codemirror_mode": {
    "name": "ipython",
    "version": 2
   },
   "file_extension": ".py",
   "mimetype": "text/x-python",
   "name": "python",
   "nbconvert_exporter": "python",
   "pygments_lexer": "ipython2",
   "version": "2.7.12"
  }
 },
 "nbformat": 4,
 "nbformat_minor": 1
}
