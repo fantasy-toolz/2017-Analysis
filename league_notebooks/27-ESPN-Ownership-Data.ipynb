{
 "cells": [
  {
   "cell_type": "markdown",
   "metadata": {},
   "source": [
    "# Pull ESPN Ownership Data\n",
    "\n",
    "### MSP 9.4.2017\n"
   ]
  },
  {
   "cell_type": "code",
   "execution_count": 41,
   "metadata": {
    "collapsed": false
   },
   "outputs": [
    {
     "data": {
      "text/html": [
       "<script>code_show=true; function code_toggle() { if (code_show){ $('div.input').hide();} else { $('div.input').show(); } code_show = !code_show} $( document ).ready(code_toggle);</script><form action=\"javascript:code_toggle()\"><input type=\"submit\" value=\"Click here to toggle on/off the raw code.\"></form>"
      ],
      "text/plain": [
       "<IPython.core.display.HTML object>"
      ]
     },
     "execution_count": 41,
     "metadata": {},
     "output_type": "execute_result"
    }
   ],
   "source": [
    "from IPython.display import HTML\n",
    "HTML('''<script>code_show=true; function code_toggle() { if (code_show){ $('div.input').hide();} else { $('div.input').show(); } code_show = !code_show} $( document ).ready(code_toggle);</script><form action=\"javascript:code_toggle()\"><input type=\"submit\" value=\"Click here to toggle on/off the raw code.\"></form>''')"
   ]
  },
  {
   "cell_type": "code",
   "execution_count": 1,
   "metadata": {
    "collapsed": true
   },
   "outputs": [],
   "source": [
    "# boilerplate imports\n",
    "\n",
    "import datetime\n",
    "import numpy as np\n",
    "import matplotlib.pyplot as plt\n",
    "import matplotlib.cm as cm\n",
    "%matplotlib inline\n",
    "\n",
    "import matplotlib as mpl\n",
    "cmap = cm.gnuplot\n",
    "\n",
    "\n"
   ]
  },
  {
   "cell_type": "code",
   "execution_count": 2,
   "metadata": {
    "collapsed": true
   },
   "outputs": [],
   "source": [
    "# imports for scraping\n",
    "\n",
    "from bs4 import BeautifulSoup\n",
    "\n",
    "import requests\n",
    "\n",
    "import operator\n",
    "\n"
   ]
  },
  {
   "cell_type": "markdown",
   "metadata": {},
   "source": [
    "### Change In Ownership\n",
    "\n",
    "Also set up an archive."
   ]
  },
  {
   "cell_type": "code",
   "execution_count": 3,
   "metadata": {
    "collapsed": false
   },
   "outputs": [],
   "source": [
    "\n",
    "Ownership = {}\n",
    "\n",
    "\n",
    "for tablenum in range(0,13):\n",
    "\n",
    "    # cycle through all positions\n",
    "    r  = requests.get('http://games.espn.com/flb/addeddropped?slotCategoryId='+str(tablenum))\n",
    "\n",
    "    data = r.text\n",
    "\n",
    "    soup = BeautifulSoup(data)\n",
    "\n",
    "    tables = soup.findAll('table')\n",
    "\n",
    "\n",
    "    for table in tables: \n",
    "\n",
    "        headings = [th.get_text() for th in table.find(\"tr\").find_all(\"th\")]\n",
    "        #print headings\n",
    "\n",
    "\n",
    "        for row in table.find_all(\"tr\")[1:]: \n",
    "\n",
    "        #    sav = [td.find('a') for td in row.find_all(\"td\")]\n",
    "            sav = [td.get_text() for td in row.find_all(\"td\")]\n",
    "\n",
    "            w = sav.index(u'\\xa0')\n",
    "\n",
    "            #print (sav[1].split(',')[0]).strip('*')\n",
    "\n",
    "            try:\n",
    "                # block out all non-rankings\n",
    "                xx = float(sav[0])\n",
    "\n",
    "                #print sav[0:w]\n",
    "                #print sav[w+1:len(sav)]\n",
    "\n",
    "                # added\n",
    "                Ownership[(sav[1].split(',')[0]).strip('*')] = float(sav[5])\n",
    "\n",
    "                #dropped\n",
    "                Ownership[(sav[w+2].split(',')[0]).strip('*')] = float(sav[w+6])\n",
    "\n",
    "            except:\n",
    "                pass\n",
    "\n",
    "            #[u'RK', u'PLAYER, TEAM', u'POS', u'LAST', u'CUR', u'7-DAY +/-']\n",
    "        \n",
    "\n",
    "today = datetime.date.today()\n",
    "\n",
    "f = open('ownership-archive/'+str(today)+'.txt','w')\n",
    "\n",
    "for index,key in enumerate(Ownership.keys()):\n",
    "    print >>f,key,Ownership[key]\n",
    "    \n",
    "f.close()"
   ]
  },
  {
   "cell_type": "code",
   "execution_count": 7,
   "metadata": {
    "collapsed": false
   },
   "outputs": [
    {
     "name": "stdout",
     "output_type": "stream",
     "text": [
      "The Houston Astros scuffled through a forgettable mid-season stretch, but have rediscovered their form with the addition of Justin Verlander to ...\n",
      "0\n"
     ]
    }
   ],
   "source": [
    "print l[0]\n",
    "\n",
    "positives = ['congratulates']\n",
    "\n",
    "print np.sum(np.array([(x in l[0]) for x in positives]))\n",
    "\n"
   ]
  },
  {
   "cell_type": "code",
   "execution_count": 8,
   "metadata": {
    "collapsed": false
   },
   "outputs": [
    {
     "name": "stdout",
     "output_type": "stream",
     "text": [
      "Corey Dickerson\n",
      "--------------\n",
      "Corey Dickerson went 0-for-3 at the plate with a strikeout as the Rays lost the Cubs on ... Dickerson has been slumping at the plate for the Rays.\n",
      "0   0   0\n",
      "\n",
      "Welington Castillo\n",
      "--------------\n",
      "Castillo is not in the lineup for Tuesday's game against the Red Sox. It's surprising Castillo is sitting out Tuesday against left-hander Drew ...\n",
      "0   0   0\n",
      "\n",
      "Starling Marte\n",
      "--------------\n",
      "Pirates' Starling Marte: Not in lineup Monday. by RotoWire Staff; 12h ago • 1 min read Update 12h ago. Marte (finger) is not in the lineup for Monday's game ...\n",
      "0   0   0\n",
      "\n",
      "Eduardo Nunez\n",
      "--------------\n",
      "#36 Eduardo Nunez grimaces as he run to first in the second inning of the Red Sox vs. Tampa Bay MLB game at Fenway Park. Saturday ...\n",
      "0   0   0\n",
      "\n",
      "Jedd Gyorko\n",
      "--------------\n",
      "It sounds like Gyorko will be cleared to run the bases and play the field Tuesday after being limited to pinch-hitting duty in his first several days ...\n",
      "0   0   0\n",
      "\n",
      "Jorge Polanco\n",
      "--------------\n",
      "MINNEAPOLIS – Twins shortstop Jorge Polanco made a dazzling play to his backhand in the 2nd inning of Tuesday's series opener against ...\n",
      "0   0   0\n",
      "\n",
      "Brandon Crawford\n",
      "--------------\n",
      "Brandon Crawford walks back to the dugout after striking out during the bottom of the 9th inning of a game between the San Francisco Giants ...\n",
      "0   0   0\n",
      "\n",
      "Alex Avila\n",
      "--------------\n",
      "PITTSBURGH -- With Hurricane Irma bearing down on his house in South Florida, Chicago Cubs catcher Alex Avila has had things other than ...\n",
      "0   0   0\n",
      "\n",
      "Ian Desmond\n",
      "--------------\n",
      "The sun was just rising on Labor Day morning when Ian Desmond arrived at Coors Field with a mission to accomplish. With the help of some of the clubhouse ...\n",
      "0   1   0\n",
      "\n",
      "Jose Pirela\n",
      "--------------\n",
      "Pirela (finger) is not in the lineup for Tuesday's game against the Diamondbacks. Pirela's finger injury continues to linger, so he'll remain on the ...\n",
      "0   0   0\n",
      "\n",
      "Yasmani Grandal\n",
      "--------------\n",
      "Los Angeles Dodgers' Yasmani Grandal, left, and Andre Ethier celebrate after Grandal's home run off Philadelphia Phillies starting pitcher ...\n",
      "0   0   0\n",
      "\n",
      "Hanley Ramirez\n",
      "--------------\n",
      "Ramirez will not start Tuesday for the sixth game in a row, but it appears he is feeling good enough to jump back into the lineup for Boston's ...\n",
      "0   0   0\n",
      "\n",
      "Carlos Gomez\n",
      "--------------\n",
      "Meanwhile, center fielder Carlos Gomez's sprained right ankle is improving, but he's still a few days away from being an option in the field.\n",
      "0   0   0\n",
      "\n",
      "Scooter Gennett\n",
      "--------------\n",
      "With 27 homers on his line now, Gennett is one away from doubling last season's total -- which was itself a career high at the time. He's gone ...\n",
      "0   0   0\n",
      "\n",
      "Logan Morrison\n",
      "--------------\n",
      "Rays' Logan Morrison: Out again Sunday. by RotoWire Staff; Sep 17, 2017 • 1 min read Update Sep 17, 2017, 2:32pm. Morrison is not in the lineup Sunday ...\n",
      "0   0   0\n",
      "\n",
      "Nomar Mazara\n",
      "--------------\n",
      "Texas Rangers right fielder Nomar Mazara (30) is pictured during the Detroit Tigers vs. the Texas Rangers major league baseball game at ...\n",
      "0   0   0\n",
      "\n",
      "Josh Bell\n",
      "--------------\n",
      "Bell went 0-for-2 with a pair of strikeouts against Milwaukee on Monday. He entered the game as a right-handed pinch hitter in the sixth inning, ...\n",
      "0   0   0\n",
      "\n",
      "Steven Souza Jr.\n",
      "--------------\n",
      "Tampa Bay Rays right fielder Steven Souza Jr. talks about Tuesday's loss to the Cubs, saying the team knows what they need to do but they're ...\n",
      "0   0   0\n",
      "\n",
      "Brandon Phillips\n",
      "--------------\n",
      "Phillips sat out the last two games to rest his sore back, but he is ready to resume his role as the Angels' starting second baseman. Phillips will ...\n",
      "0   0   1\n",
      "\n",
      "Matt Kemp\n",
      "--------------\n",
      "Braves' Matt Kemp: Out of lineup Tuesday. by RotoWire Staff; 4m ago • 1 min read Update 4m ago. Kemp (hamstring) is not in the lineup for Tuesday's game ...\n",
      "0   0   0\n",
      "\n",
      "Josh Harrison\n",
      "--------------\n",
      "Josh Harrison made a new fan during the Pirates trip to Milwaukee this ... Namely, Josh Harrison, who saw the little girl crying after another ...\n",
      "0   0   0\n",
      "\n",
      "Jonathan Villar\n",
      "--------------\n",
      "Villar is not in the lineup for Monday's game against the Pirates. Villar posted a season-best .950 OPS in August and got off to a fast start this ...\n",
      "0   0   0\n",
      "\n"
     ]
    }
   ],
   "source": [
    "negatives = ['rehab','injure','disable','DL','suspension','surgery','injury']\n",
    "\n",
    "#[(x in string_in) for x in negatives]\n",
    "\n",
    "def check_words(string_in,words):\n",
    "    total = [(x in string_in) for x in words]\n",
    "    return np.sum(np.array(total))\n",
    "    \n",
    "\n",
    "for index,key in enumerate(Ownership.keys()):\n",
    "    if Ownership[key] < -5.:\n",
    "        print key\n",
    "        print '--------------'\n",
    "        l = scrape_news_summaries(key)\n",
    "        print l[0]\n",
    "        print check_words(l[0],negatives),' ',\n",
    "        print check_words(l[1],negatives),' ',\n",
    "        print check_words(l[2],negatives)\n",
    "        print ''\n",
    "\n"
   ]
  },
  {
   "cell_type": "code",
   "execution_count": 9,
   "metadata": {
    "collapsed": false
   },
   "outputs": [
    {
     "name": "stdout",
     "output_type": "stream",
     "text": [
      "Matt Olson\n",
      "--------------\n",
      "Matt Olson did it again on Monday. In the 3rd inning he launched yet another home run, this time against the Tigers in his first trip to Comerica ...\n",
      "\n",
      "Christian Vazquez\n",
      "--------------\n",
      "This interview was conducted in Spanish and has been translated. Read it in Spanish here. When Christian Vazquez was promoted to the big ...\n",
      "\n",
      "Mike Zunino\n",
      "--------------\n",
      "That's right. For what feels like the first time since he made his major league debut, Michael Accorsi Zunino is not at the top of Mariners' fans' list ...\n",
      "\n",
      "Tommy Pham\n",
      "--------------\n",
      "Tommy Pham currently ranks 10th in the National League in fWAR. Of course, Mr. Pham's season did not begin until May 5. For the first month ...\n",
      "\n",
      "Mitch Haniger\n",
      "--------------\n",
      "Seattle Mariners' Mitch Haniger watches a solo home run off Los Angeles Angels starting pitcher Andrew Heaney during the first inning.\n",
      "\n",
      "Yoan Moncada\n",
      "--------------\n",
      "HOUSTON — Another two solid weeks to finish the season would take second baseman Yoan Moncada into the offseason on an uptick and, ...\n",
      "\n",
      "Eduardo Escobar\n",
      "--------------\n",
      "Since Eduardo Escobar took over at Sano's position full-time while he recuperates, the backup has homered eight times, or one every 13.6 ...\n",
      "\n",
      "Tim Anderson\n",
      "--------------\n",
      "Tim Anderson maintained a simple thought process as he stepped up to bat with two outs in the ninth inning Sunday afternoon at Comerica ...\n",
      "\n",
      "Jeimer Candelario\n",
      "--------------\n",
      "DETROIT -- Jeimer Candelario looked at Avisail Garcia's massive frame and figured he had time. So as Garcia's bouncer approached his spot at third base, ...\n",
      "\n",
      "Carlos Gonzalez\n",
      "--------------\n",
      "This hasn't quite been Carlos Gonzalez's season, but that may be changing. The Rockies outfielder went off with a pair of home runs against ...\n",
      "\n",
      "Asdrubal Cabrera\n",
      "--------------\n",
      "CHICAGO -- Asdrubal Cabrera has been making his case. The Mets veteran infielder who demanded to be traded when he was moved off of ...\n",
      "\n",
      "Avisail Garcia\n",
      "--------------\n",
      "Then there is Avisail Garcia. Once known as “Mini Miggy”, he came to the White Sox in 2014 and has been pretty subpar since. Whether injury ...\n",
      "\n",
      "Ozzie Albies\n",
      "--------------\n",
      "The way we get to witness ballplayers interact with young fans tends to melt your heart. Sometimes they'll do something as simple as reaching ...\n",
      "\n",
      "Brandon Moss\n",
      "--------------\n",
      "In the second inning of the Royals' 11-3 blowout of the Minnesota Twins on Sunday, Brandon Moss hit a rocket down the right-field line for an ...\n",
      "\n",
      "Adrian Beltre\n",
      "--------------\n",
      "Texas Rangers Adrian Beltre speaks during a press conference following the game in which he made his 3,000th career hit against the ...\n",
      "\n",
      "Nicholas Castellanos\n",
      "--------------\n",
      "While his team struggles to the end of a bitter 2017 campaign, Nicholas Castellanos has been making a lot of noise lately. The Detroit Tigers' ...\n",
      "\n",
      "Jose Reyes\n",
      "--------------\n",
      "The veteran infielder continues to impress with this late-season surge -- over his last 22 games, Reyes has hit .389 with five homers, eight ...\n",
      "\n",
      "Eddie Rosario\n",
      "--------------\n",
      "Coming into the 2017 MLB season, Eddie Rosario had shown flashes of useful power that were often hidden by his free swinging ways.\n",
      "\n",
      "Jose Martinez\n",
      "--------------\n",
      "Jose Martinez is having a fantastic season with the St. Louis Cardinals, hitting .318/.381/.545 with 13 home runs in 94 games. The breakout ...\n",
      "\n",
      "Jacoby Ellsbury\n",
      "--------------\n",
      "There was a time, not all that long ago, when Joe Girardi kept getting asked how he could afford to keep Jacoby Ellsbury in the New York ...\n",
      "\n"
     ]
    }
   ],
   "source": [
    "for index,key in enumerate(Ownership.keys()):\n",
    "    if Ownership[key] > 5.:\n",
    "        print key\n",
    "        print '--------------'\n",
    "        l = scrape_news_summaries(key)\n",
    "        print l[0]\n",
    "        print ''\n",
    "\n",
    "\n"
   ]
  },
  {
   "cell_type": "code",
   "execution_count": 51,
   "metadata": {
    "collapsed": false
   },
   "outputs": [
    {
     "ename": "KeyError",
     "evalue": "'Justin Verlander'",
     "output_type": "error",
     "traceback": [
      "\u001b[0;31m---------------------------------------------------------------------------\u001b[0m",
      "\u001b[0;31mKeyError\u001b[0m                                  Traceback (most recent call last)",
      "\u001b[0;32m<ipython-input-51-9cb02809e6cf>\u001b[0m in \u001b[0;36m<module>\u001b[0;34m()\u001b[0m\n\u001b[0;32m----> 1\u001b[0;31m \u001b[0;32mprint\u001b[0m \u001b[0mOwnership\u001b[0m\u001b[0;34m[\u001b[0m\u001b[0;34m'Justin Verlander'\u001b[0m\u001b[0;34m]\u001b[0m\u001b[0;34m\u001b[0m\u001b[0m\n\u001b[0m",
      "\u001b[0;31mKeyError\u001b[0m: 'Justin Verlander'"
     ]
    }
   ],
   "source": [
    "print Ownership['Justin Verlander']"
   ]
  },
  {
   "cell_type": "markdown",
   "metadata": {},
   "source": [
    "### News Alerts\n",
    "\n",
    "Another interesting thing is grabbing Google News findings on players to see if we can determine what the narrative leading to the explosion in pickups or drops is coming from.\n",
    "\n",
    "Good keywords:\n",
    "1. Trade\n",
    "2. Hot\n",
    "3. Streak\n",
    "4. Fire\n",
    "5. Homer\n",
    "\n",
    "\n",
    "Bad keywords:\n",
    "1. Cold\n",
    "2. Bench\n",
    "3. Disabled/DL\n",
    "4. Injure\n",
    "5. Suspension\n",
    "\n"
   ]
  },
  {
   "cell_type": "code",
   "execution_count": 6,
   "metadata": {
    "collapsed": false,
    "scrolled": false
   },
   "outputs": [
    {
     "name": "stdout",
     "output_type": "stream",
     "text": [
      "The Houston Astros scuffled through a forgettable mid-season stretch, but have rediscovered their form with the addition of Justin Verlander to ...\n",
      "\n",
      "31, the Astros acquired Justin Verlander. He has made three starts with Houston and won them all, allowing two runs and just 10 hits over 21 ...\n",
      "\n",
      "\"On behalf of the Detroit Tigers, we sincerely thank Justin Verlander for his remarkable 13 seasons of dedication to the organization,\" Tigers ...\n",
      "\n",
      "What would Jeff Luhnow, general manager of the Houston Astros, be feeling if he failed to pull the trigger on a Justin Verlander deal? Regret?\n",
      "\n",
      "The lure of pitching for a contender swayed Justin Verlander to accept a trade from the Tigers to the Astros. He makes his first home start with ...\n",
      "\n",
      "ANAHEIM -- Astros pitcher Justin Verlander is scheduled to make his Minute Maid Park debut on Sunday against the Mariners. Astros manager A.J. Hinch laid ...\n",
      "\n",
      "Justin Verlander has never won a game in the World Series. He may ... Verlander is one of the best pitchers of his generation, of course. He has ...\n",
      "\n",
      "It didn't look right, seeing Justin Verlander with an \"H\" on his cap instead of an old English \"D,\" with \"HOUSTON\" across his chest instead of ...\n",
      "\n",
      "Houston started Justin Verlander. The Angels started Garrett Richards, their staff ace still working his way back from an injury that claimed most ...\n",
      "\n",
      "With just minutes to go until the calendar flipped to September, the Tigers agreed to deal Justin Verlander and a player to be named later or ...\n",
      "\n"
     ]
    }
   ],
   "source": [
    "#https://stackoverflow.com/questions/39354587/scraping-google-news-with-beautifulsoup-returns-empty-results\n",
    "\n",
    "from bs4 import BeautifulSoup\n",
    "import requests\n",
    "import time\n",
    "from random import randint\n",
    "\n",
    "\n",
    "def scrape_news_summaries(s):\n",
    "    time.sleep(randint(0, 2))  # relax and don't let google be angry\n",
    "    \n",
    "    r = requests.get(\"http://www.google.com/search?q=\"+s+\"&tbm=nws\")    \n",
    "    # Print the status code\n",
    "    #print(r.status_code)  \n",
    "    \n",
    "    content = r.text\n",
    "    #print content\n",
    "    \n",
    "    news_summaries = []\n",
    "    soup = BeautifulSoup(content, \"html.parser\")\n",
    "    #st_divs = soup.find_all(\"div\", class_=\"gs-info\")\n",
    "    st_divs = soup.findAll(\"div\", {\"class\": \"st\"})\n",
    "    #st_divs = soup.findAll(\"div\", {\"class\": \"rc\"})\n",
    "\n",
    "\n",
    "    for st_div in st_divs:\n",
    "        #print st_div\n",
    "        news_summaries.append(st_div.text)\n",
    "    return news_summaries\n",
    "\n",
    "\n",
    "\n",
    "\n",
    "#http://www.espn.com/search/results?q=Alex+Wood\n",
    "#r = requests.get(\"http://www.google.com/search?q=\"+s+\"&tbm=nws\")\n",
    "\n",
    "l = scrape_news_summaries(\"Justin+Verlander\")\n",
    "\n",
    "for n in l:\n",
    "    print(n)\n",
    "    print('')"
   ]
  },
  {
   "cell_type": "markdown",
   "metadata": {},
   "source": [
    "### Stats Alerts\n",
    "\n",
    "We should also scrape the fangraphs gamelog page to see if there is anything obvious there."
   ]
  },
  {
   "cell_type": "markdown",
   "metadata": {},
   "source": [
    "### Crazy\n",
    "\n",
    "It would be awesome to try and make a model to predict ownership data based on news stories."
   ]
  },
  {
   "cell_type": "code",
   "execution_count": 63,
   "metadata": {
    "collapsed": false
   },
   "outputs": [
    {
     "name": "stdout",
     "output_type": "stream",
     "text": [
      "[<div class=\"mod-content\" id=\"fantasy-content\">{\"playerId\":5600,\"percentChange\":-0.2,\"averageDraftPosition\":46.9,\"percentOwned\":96.8,\"playerRaterSEASON\":7.2,\"playerRater7DAY\":2.3,\"mostRecentNews\":{\"news\":\"Abreu went 1-for-4 with a two-run home run during Sunday's win over Tampa Bay.\",\"spin\":\"Abreu missed the previous three games with an elbow injury, but Sunday's blast affirmed his health. With a .301/.354/.540 slash line, 27 homers, 82 RBI and 72 runs for the campaign, the 30-year-old first baseman is in line to post another rock-solid showing. The supporting cast surrounding him in the White Sox's lineup limits his upside, but the slugger continues to move the fantasy needle nonetheless.\",\"date\":\"Sun Sep 3\"},\"fullName\":\"Jose Abreu\",\"seasonOutlook\":{\"outlook\":\"Though in many respects, Abreu's performance has regressed since he broke into the majors in 2014, let's not understate the historical significance of his first three big-league seasons: He, along with Joe DiMaggio and Albert Pujols, are the only three players in the history of baseball to manage at least a .290 batting average, 25 home runs and 100 RBIs in each. That said, Abreu's performance in all three categories comes with some risk: He continues to show poor strike-zone judgment, leading the majors in swings at \\\\\"non-competitive\\\\\" (those considerably outside the zone) pitches in 2016; he appears to have sacrificed some power in exchange for a three-year pattern of rising contact rates; and his White Sox, now in rebuilding mode, might not provide as much fuel for his counting numbers. Abreu is no longer a likely-top-25 player and in fact might be a risky pick within the top 50, though as his baseline is probably his 2016 numbers, he's still a worthy early-round pick.\",\"seasonId\":2017,\"date\":\"Tue Feb 21\"},\"playerRater30DAY\":6.1,\"playerRater15DAY\":2.9,\"positionRank\":7}</div>]\n"
     ]
    }
   ],
   "source": [
    "r  = requests.get('http://www.espn.com/mlb/player/_/id/33095/jose-abreu')\n",
    "\n",
    "data = r.text\n",
    "\n",
    "soup = BeautifulSoup(data)\n",
    "\n",
    "fantasy_table = soup.find_all('div', id='fantasy-content')\n",
    "\n",
    "print fantasy_table#.find(\"tr\")\n",
    "\n",
    "#for table in tables: \n",
    "\n",
    "#        headings = [th.get_text() for th in table.find(\"tr\").find_all(\"th\")]\n",
    "#        #print headings\n",
    "\n",
    "#<div class=\"mod-content\" id=\"fantasy-content\">\n",
    "\n",
    "\n",
    "#(row in table.find_all(\"tr\", class_=\"grid_postseason\"))"
   ]
  },
  {
   "cell_type": "code",
   "execution_count": null,
   "metadata": {
    "collapsed": true
   },
   "outputs": [],
   "source": []
  }
 ],
 "metadata": {
  "anaconda-cloud": {},
  "kernelspec": {
   "display_name": "Python [default]",
   "language": "python",
   "name": "python2"
  },
  "language_info": {
   "codemirror_mode": {
    "name": "ipython",
    "version": 2
   },
   "file_extension": ".py",
   "mimetype": "text/x-python",
   "name": "python",
   "nbconvert_exporter": "python",
   "pygments_lexer": "ipython2",
   "version": "2.7.12"
  }
 },
 "nbformat": 4,
 "nbformat_minor": 1
}
