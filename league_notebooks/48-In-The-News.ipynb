{
 "cells": [
  {
   "cell_type": "markdown",
   "metadata": {},
   "source": [
    "# Pull ESPN Ownership Data\n",
    "\n",
    "### MSP 9.4.2017\n"
   ]
  },
  {
   "cell_type": "code",
   "execution_count": 41,
   "metadata": {
    "collapsed": false
   },
   "outputs": [
    {
     "data": {
      "text/html": [
       "<script>code_show=true; function code_toggle() { if (code_show){ $('div.input').hide();} else { $('div.input').show(); } code_show = !code_show} $( document ).ready(code_toggle);</script><form action=\"javascript:code_toggle()\"><input type=\"submit\" value=\"Click here to toggle on/off the raw code.\"></form>"
      ],
      "text/plain": [
       "<IPython.core.display.HTML object>"
      ]
     },
     "execution_count": 41,
     "metadata": {},
     "output_type": "execute_result"
    }
   ],
   "source": [
    "from IPython.display import HTML\n",
    "HTML('''<script>code_show=true; function code_toggle() { if (code_show){ $('div.input').hide();} else { $('div.input').show(); } code_show = !code_show} $( document ).ready(code_toggle);</script><form action=\"javascript:code_toggle()\"><input type=\"submit\" value=\"Click here to toggle on/off the raw code.\"></form>''')"
   ]
  },
  {
   "cell_type": "code",
   "execution_count": 1,
   "metadata": {
    "collapsed": true
   },
   "outputs": [],
   "source": [
    "# boilerplate imports\n",
    "\n",
    "import datetime\n",
    "import numpy as np\n",
    "import matplotlib.pyplot as plt\n",
    "import matplotlib.cm as cm\n",
    "%matplotlib inline\n",
    "\n",
    "import matplotlib as mpl\n",
    "cmap = cm.gnuplot\n",
    "\n",
    "\n"
   ]
  },
  {
   "cell_type": "code",
   "execution_count": 2,
   "metadata": {
    "collapsed": true
   },
   "outputs": [],
   "source": [
    "# imports for scraping\n",
    "\n",
    "from bs4 import BeautifulSoup\n",
    "\n",
    "import requests\n",
    "\n",
    "import operator\n",
    "\n"
   ]
  },
  {
   "cell_type": "markdown",
   "metadata": {},
   "source": [
    "### Change In Ownership\n",
    "\n",
    "Also set up an archive."
   ]
  },
  {
   "cell_type": "code",
   "execution_count": 3,
   "metadata": {
    "collapsed": false
   },
   "outputs": [],
   "source": [
    "\n",
    "Ownership = {}\n",
    "\n",
    "\n",
    "for tablenum in range(0,13):\n",
    "\n",
    "    # cycle through all positions\n",
    "    r  = requests.get('http://games.espn.com/flb/addeddropped?slotCategoryId='+str(tablenum))\n",
    "\n",
    "    data = r.text\n",
    "\n",
    "    soup = BeautifulSoup(data)\n",
    "\n",
    "    tables = soup.findAll('table')\n",
    "\n",
    "\n",
    "    for table in tables: \n",
    "\n",
    "        headings = [th.get_text() for th in table.find(\"tr\").find_all(\"th\")]\n",
    "        #print headings\n",
    "\n",
    "\n",
    "        for row in table.find_all(\"tr\")[1:]: \n",
    "\n",
    "        #    sav = [td.find('a') for td in row.find_all(\"td\")]\n",
    "            sav = [td.get_text() for td in row.find_all(\"td\")]\n",
    "\n",
    "            w = sav.index(u'\\xa0')\n",
    "\n",
    "            #print (sav[1].split(',')[0]).strip('*')\n",
    "\n",
    "            try:\n",
    "                # block out all non-rankings\n",
    "                xx = float(sav[0])\n",
    "\n",
    "                #print sav[0:w]\n",
    "                #print sav[w+1:len(sav)]\n",
    "\n",
    "                # added\n",
    "                Ownership[(sav[1].split(',')[0]).strip('*')] = float(sav[5])\n",
    "\n",
    "                #dropped\n",
    "                Ownership[(sav[w+2].split(',')[0]).strip('*')] = float(sav[w+6])\n",
    "\n",
    "            except:\n",
    "                pass\n",
    "\n",
    "            #[u'RK', u'PLAYER, TEAM', u'POS', u'LAST', u'CUR', u'7-DAY +/-']\n",
    "        \n",
    "\n",
    "today = datetime.date.today()\n",
    "\n",
    "f = open('ownership-archive/'+str(today)+'.txt','w')\n",
    "\n",
    "for index,key in enumerate(Ownership.keys()):\n",
    "    print >>f,key,Ownership[key]\n",
    "    \n",
    "f.close()"
   ]
  },
  {
   "cell_type": "code",
   "execution_count": 5,
   "metadata": {
    "collapsed": false
   },
   "outputs": [
    {
     "ename": "NameError",
     "evalue": "name 'l' is not defined",
     "output_type": "error",
     "traceback": [
      "\u001b[0;31m---------------------------------------------------------------------------\u001b[0m",
      "\u001b[0;31mNameError\u001b[0m                                 Traceback (most recent call last)",
      "\u001b[0;32m<ipython-input-5-1a2f2269eab1>\u001b[0m in \u001b[0;36m<module>\u001b[0;34m()\u001b[0m\n\u001b[1;32m      3\u001b[0m \u001b[0mpositives\u001b[0m \u001b[0;34m=\u001b[0m \u001b[0;34m[\u001b[0m\u001b[0;34m'congratulates'\u001b[0m\u001b[0;34m]\u001b[0m\u001b[0;34m\u001b[0m\u001b[0m\n\u001b[1;32m      4\u001b[0m \u001b[0;34m\u001b[0m\u001b[0m\n\u001b[0;32m----> 5\u001b[0;31m \u001b[0;32mprint\u001b[0m \u001b[0mnp\u001b[0m\u001b[0;34m.\u001b[0m\u001b[0msum\u001b[0m\u001b[0;34m(\u001b[0m\u001b[0mnp\u001b[0m\u001b[0;34m.\u001b[0m\u001b[0marray\u001b[0m\u001b[0;34m(\u001b[0m\u001b[0;34m[\u001b[0m\u001b[0;34m(\u001b[0m\u001b[0mx\u001b[0m \u001b[0;32min\u001b[0m \u001b[0ml\u001b[0m\u001b[0;34m[\u001b[0m\u001b[0;36m0\u001b[0m\u001b[0;34m]\u001b[0m\u001b[0;34m)\u001b[0m \u001b[0;32mfor\u001b[0m \u001b[0mx\u001b[0m \u001b[0;32min\u001b[0m \u001b[0mpositives\u001b[0m\u001b[0;34m]\u001b[0m\u001b[0;34m)\u001b[0m\u001b[0;34m)\u001b[0m\u001b[0;34m\u001b[0m\u001b[0m\n\u001b[0m\u001b[1;32m      6\u001b[0m \u001b[0;34m\u001b[0m\u001b[0m\n",
      "\u001b[0;31mNameError\u001b[0m: name 'l' is not defined"
     ]
    }
   ],
   "source": [
    "print l[0]\n",
    "\n",
    "positives = ['congratulates']\n",
    "\n",
    "print np.sum(np.array([(x in l[0]) for x in positives]))\n",
    "\n"
   ]
  },
  {
   "cell_type": "code",
   "execution_count": 20,
   "metadata": {
    "collapsed": true
   },
   "outputs": [],
   "source": [
    "Ownership = {}\n",
    "Ownership['Jose Abreu'] = -10."
   ]
  },
  {
   "cell_type": "code",
   "execution_count": 26,
   "metadata": {
    "collapsed": false
   },
   "outputs": [
    {
     "name": "stdout",
     "output_type": "stream",
     "text": [
      "Jose Abreu\n",
      "--------------\n",
      "Most notably, how will the futures of first baseman Jose Abreu and outfielder Avisail Garcia be impacted? Both Abreu and Garcia are coming off strong seasons and have two years of contract control left. Abreu turned 31 Monday and will make $13 million in 2018. With his arbitration process pending, the ...\n",
      "1   0   0\n",
      "\n"
     ]
    }
   ],
   "source": [
    "negatives = ['rehab','injure','disable','DL','suspension','surgery','injury','pending']\n",
    "\n",
    "#[(x in string_in) for x in negatives]\n",
    "\n",
    "def check_words(string_in,words):\n",
    "    total = [(x in string_in) for x in words]\n",
    "    return np.sum(np.array(total))\n",
    "    \n",
    "\n",
    "for index,key in enumerate(Ownership.keys()):\n",
    "    if Ownership[key] < -5.:\n",
    "        print key\n",
    "        print '--------------'\n",
    "        l = scrape_news_summaries(key)\n",
    "        print l[0]\n",
    "        print check_words(l[0],negatives),' ',\n",
    "        print check_words(l[1],negatives),' ',\n",
    "        print check_words(l[2],negatives)\n",
    "        print ''\n",
    "\n"
   ]
  },
  {
   "cell_type": "code",
   "execution_count": 23,
   "metadata": {
    "collapsed": false
   },
   "outputs": [],
   "source": [
    "for index,key in enumerate(Ownership.keys()):\n",
    "    if Ownership[key] > 5.:\n",
    "        print key\n",
    "        print '--------------'\n",
    "        l = scrape_news_summaries(key)\n",
    "        print l[0]\n",
    "        print ''\n",
    "\n",
    "\n"
   ]
  },
  {
   "cell_type": "code",
   "execution_count": 51,
   "metadata": {
    "collapsed": false
   },
   "outputs": [
    {
     "ename": "KeyError",
     "evalue": "'Justin Verlander'",
     "output_type": "error",
     "traceback": [
      "\u001b[0;31m---------------------------------------------------------------------------\u001b[0m",
      "\u001b[0;31mKeyError\u001b[0m                                  Traceback (most recent call last)",
      "\u001b[0;32m<ipython-input-51-9cb02809e6cf>\u001b[0m in \u001b[0;36m<module>\u001b[0;34m()\u001b[0m\n\u001b[0;32m----> 1\u001b[0;31m \u001b[0;32mprint\u001b[0m \u001b[0mOwnership\u001b[0m\u001b[0;34m[\u001b[0m\u001b[0;34m'Justin Verlander'\u001b[0m\u001b[0;34m]\u001b[0m\u001b[0;34m\u001b[0m\u001b[0m\n\u001b[0m",
      "\u001b[0;31mKeyError\u001b[0m: 'Justin Verlander'"
     ]
    }
   ],
   "source": [
    "print Ownership['Justin Verlander']"
   ]
  },
  {
   "cell_type": "markdown",
   "metadata": {},
   "source": [
    "### News Alerts\n",
    "\n",
    "Another interesting thing is grabbing Google News findings on players to see if we can determine what the narrative leading to the explosion in pickups or drops is coming from.\n",
    "\n",
    "Good keywords:\n",
    "1. Trade\n",
    "2. Hot\n",
    "3. Streak\n",
    "4. Fire\n",
    "5. Homer\n",
    "\n",
    "\n",
    "Bad keywords:\n",
    "1. Cold\n",
    "2. Bench\n",
    "3. Disabled/DL\n",
    "4. Injure\n",
    "5. Suspension\n",
    "\n"
   ]
  },
  {
   "cell_type": "code",
   "execution_count": 34,
   "metadata": {
    "collapsed": false,
    "scrolled": false
   },
   "outputs": [
    {
     "name": "stdout",
     "output_type": "stream",
     "text": [
      "Most notably, how will the futures of first baseman Jose Abreu and outfielder Avisail Garcia be impacted? Both Abreu and Garcia are coming off strong seasons and have two years of contract control left. Abreu turned 31 Monday and will make $13 million in 2018. With his arbitration process pending, the ...\n",
      "\n",
      "CHICAGO – The numbers are just part of the picture. Jose Abreu's value to the White Sox extends far beyond the field. So while the rebuilding project continues on the South Side, Abreu remains with the only major league team he has ever known. The slugging first baseman means so much to Chicago in ...\n",
      "\n",
      "I have been adamant and consistent this offseason. I like Jose Abreu and Avi Garcia. I like Abreu's consistency and stoicism. I like Garcia's hustle and persistence. Despite this affinity, I think they both should be traded. Abreu has two seasons of control left, and he'll be 33 in 2020 when the White Sox are ...\n",
      "\n",
      "With the Chicago White Sox going all-in for a rebuild and dealing most of their bigger names and hefty contracts — Chris Sale, Adam Eaton, Todd Frazier, David Robertson, Melky Cabrera and Jose Quintana — to build one of baseball's best farm systems, general manager Rick Hahn is remaining open in ...\n",
      "\n",
      "Jose Abreu is entering his fifth MLB season with the White Sox and it's been nothing short of a match made in baseball heaven. He has been an integral part of the team on and off the field, and especially during the rebuilding process. Even in year five of his MLB career and year two of the team's rebuild, ...\n",
      "\n",
      "There was plenty of speculation as to whether or not the team would consider moving Jose Abreu for more prospects, but with his leadership and with his historically consistent production levels, the team decided that they wanted to hold onto him, and he'll be the starting first baseman for the club. Guys like ...\n",
      "\n",
      "On paper, it seemed to make sense: A 31-year-old Jose Abreu was coming off a massively productive season and has two more years left of team control, meaning he isn't guaranteed to be around when the White Sox expect this rebuilding process to produce a playoff contender. So why not trade him?\n",
      "\n",
      "White Sox veteran first baseman was important for the team's younger players last season. How can he continue helping the team's current rebuild? As strange as this may sound, Jose Abreu is now the elder statesman among the Chicago White Sox position players. For a person who was not even playing ...\n",
      "\n",
      "CHICAGO — The word Jose Abreu uses to describe his role with the young up-and-comers in the White Sox system is papá. Though he turned just 31 earlier this week, Abreu has become the senior member of the Chicago roster. He made his debut in 2014, and only a handful of his teammates have been ...\n",
      "\n",
      "For a while there, it seemed like the Chicago White Sox trading first baseman Jose Abreu was something that could happen this offseason. Abreu had a strong 2017 campaign, during which he swatted 33 homeruns and posted a .552 slugging percentage, according to Baseball-Reference. Sure, power bats ...\n",
      "\n"
     ]
    }
   ],
   "source": [
    "#https://stackoverflow.com/questions/39354587/scraping-google-news-with-beautifulsoup-returns-empty-results\n",
    "\n",
    "from bs4 import BeautifulSoup\n",
    "import requests\n",
    "import time\n",
    "from random import randint\n",
    "\n",
    "\n",
    "def scrape_news_summaries(s):\n",
    "    time.sleep(randint(0, 2))  # relax and don't let google be angry\n",
    "    \n",
    "    r = requests.get(\"http://www.google.com/search?q=\"+s+\"&tbm=nws\")    \n",
    "    # Print the status code\n",
    "    #print(r.status_code)  \n",
    "    \n",
    "    content = r.text\n",
    "    #print content\n",
    "    \n",
    "    news_summaries = []\n",
    "    soup = BeautifulSoup(content, \"html.parser\")\n",
    "    #st_divs = soup.find_all(\"div\", class_=\"gs-info\")\n",
    "    st_divs = soup.findAll(\"div\", {\"class\": \"st\"})\n",
    "    #st_divs = soup.findAll(\"div\", {\"class\": \"rc\"})\n",
    "\n",
    "\n",
    "    for st_div in st_divs:\n",
    "        #print st_div\n",
    "        news_summaries.append(st_div.text)\n",
    "    return news_summaries\n",
    "\n",
    "\n",
    "\n",
    "\n",
    "#http://www.espn.com/search/results?q=Alex+Wood\n",
    "#r = requests.get(\"http://www.google.com/search?q=\"+s+\"&tbm=nws\")\n",
    "\n",
    "l = scrape_news_summaries(\"Jose Abreu\")\n",
    "\n",
    "for n in l:\n",
    "    print(n)\n",
    "    print('')"
   ]
  },
  {
   "cell_type": "code",
   "execution_count": 14,
   "metadata": {
    "collapsed": false
   },
   "outputs": [],
   "source": [
    "\n",
    "def find_results(player,timescale='w'):\n",
    "    r = requests.get(\"http://www.google.com/search?q=\"+player+\"&tbm=nws&tbs=qdr:\"+timescale)    \n",
    "\n",
    "    content = r.text\n",
    "    soup = BeautifulSoup(content, \"html.parser\")\n",
    "\n",
    "    st_divs = soup.findAll(\"div\", {\"id\":\"resultStats\"})\n",
    "    print(st_divs[0].text)\n",
    "    \n",
    "    try:\n",
    "        if st_divs[0].text.split()[0] == 'About':\n",
    "\n",
    "            return float(st_divs[0].text.split()[1].replace(\",\",\"\"))\n",
    "\n",
    "        else:\n",
    "            return float(st_divs[0].text.split()[0].replace(\",\",\"\"))\n",
    "\n",
    "    except:\n",
    "            return 0."
   ]
  },
  {
   "cell_type": "code",
   "execution_count": 4,
   "metadata": {
    "collapsed": false
   },
   "outputs": [
    {
     "name": "stdout",
     "output_type": "stream",
     "text": [
      "Found 340 hitters by scraping teams.\n"
     ]
    }
   ],
   "source": [
    "\n",
    "HDict = {}\n",
    "\n",
    "f = open('data/batterdict.dat')\n",
    "\n",
    "for line in f:\n",
    "    #print line\n",
    "    try:\n",
    "        HDict[(line.split('|')[0]).strip()] = line.split('|')[1]\n",
    "    except:\n",
    "        pass\n",
    "    \n",
    "    \n",
    "print('Found {} hitters by scraping teams.'.format(len(HDict.keys())))"
   ]
  },
  {
   "cell_type": "code",
   "execution_count": 21,
   "metadata": {
    "collapsed": false
   },
   "outputs": [
    {
     "name": "stdout",
     "output_type": "stream",
     "text": [
      "Rougned Odor About 296 results\n",
      "Justin Upton About 5,680 results\n",
      "Rhys Hoskins About 918 results\n",
      "Kevan Smith 9 results\n",
      "Ryan Braun About 2,680 results\n",
      "Jose Bautista About 5,910 results\n",
      "Carlos Asuaje About 259 results\n",
      "Bruce Maxwell About 4,270 results\n",
      "Matt Olson About 2,540 results\n",
      "Stephen Piscotty About 893 results\n",
      "Wilson Ramos About 1,910 results\n",
      "Cameron Maybin About 908 results\n",
      "Hernan Perez About 2,050 results\n",
      "Adam Duvall About 975 results\n",
      "Adrian Gonzalez About 4,890 results\n",
      "Matt Joyce About 4,490 results\n",
      "Brad Miller About 21,100 results\n",
      "Daniel Robertson About 3,600 results\n",
      "Dustin Pedroia About 320 results\n",
      "Gary Sanchez About 13,000 results\n",
      "J.T. Realmuto About 428 results\n",
      "Nori Aoki 2 results\n",
      "Joey Gallo About 2,400 results\n",
      "Evan Gattis About 502 results\n",
      "Gregor Blanco About 218 results\n",
      "Ian Kinsler About 1,630 results\n",
      "Chris Owings About 170 results\n",
      "Christian Vazquez About 1,970 results\n",
      "Kevin Pillar About 1,350 results\n",
      "J.T. Riddle 8 results\n",
      "Mike Zunino About 100 results\n",
      "Greg Garcia About 2,630 results\n",
      "Caleb Joseph About 1,250 results\n",
      "Denard Span About 108 results\n",
      "Adam Engel About 1,220 results\n",
      "Jose Ramirez About 19,300 results\n",
      "John Jaso 5 results\n",
      "Corey Dickerson About 529 results\n",
      "Travis d'Arnaud About 111 results\n",
      "Chase Utley About 250 results\n",
      "Tommy Pham About 919 results\n",
      "Kolten Wong About 136 results\n",
      "Mitch Haniger About 224 results\n",
      "Albert Pujols About 438 results\n",
      "Billy Hamilton About 8,670 results\n",
      "Orlando Arcia About 104 results\n",
      "Russell Martin About 12,200 results\n",
      "Yoan Moncada About 445 results\n",
      "Travis Shaw About 3,740 results\n",
      "Neil Walker About 2,710 results\n",
      "Joe Panik About 227 results\n",
      "Freddy Galvis About 410 results\n",
      "Gorkys Hernandez About 85 results\n",
      "Jason Castro About 1,260 results\n",
      "Alex Presley About 2,500 results\n",
      "Welington Castillo About 79 results\n",
      "Francisco Lindor About 1,400 results\n",
      "Ben Zobrist About 154 results\n",
      "Jackie Bradley Jr. About 687 results\n",
      "George Springer About 2,040 results\n",
      "Starling Marte About 417 results\n",
      "Jake Lamb About 604 results\n",
      "Brandon Moss About 1,390 results\n",
      "Kike Hernandez About 319 results\n",
      "Eduardo Escobar About 1,240 results\n",
      "Kyle Schwarber About 288 results\n",
      "Tyler Flowers About 2,260 results\n",
      "Shin-Soo Choo About 79 results\n",
      "Randal Grichuk About 253 results\n",
      "Paul DeJong About 1,970 results\n",
      "Kole Calhoun About 191 results\n",
      "Hunter Pence About 3,680 results\n",
      "Yasiel Puig About 279 results\n",
      "Josh Reddick About 2,540 results\n",
      "Robinson Chirinos About 129 results\n",
      "Matt Chapman About 1,610 results\n",
      "Mitch Moreland About 194 results\n",
      "Guillermo Heredia About 668 results\n",
      "Evan Longoria About 1,950 results\n",
      "Steve Pearce About 1,720 results\n",
      "Jeff Mathis About 426 results\n",
      "Eduardo Nunez About 11,400 results\n",
      "Marcus Semien About 73 results\n",
      "Ronald Torreyes About 113 results\n",
      "Miguel Sano About 1,170 results\n",
      "Adam Frazier About 1,400 results\n",
      "Corey Seager About 702 results\n",
      "Ben Gamel About 554 results\n",
      "Eric Sogard About 124 results\n",
      "Justin Bour About 104 results\n",
      "Nick Castellanos About 156 results\n",
      "Mike Trout About 2,130 results\n",
      "Khris Davis About 216 results\n",
      "Brett Gardner About 640 results\n",
      "Chris Taylor About 49,000 results\n",
      "Ryon Healy About 278 results\n",
      "Yulieski Gurriel About 127 results\n",
      "Jorge Polanco About 809 results\n",
      "Mikie Mahtook About 61 results\n",
      "Trea Turner About 842 results\n",
      "Tim Beckham About 3,100 results\n",
      "Tim Anderson About 30,300 results\n",
      "Whit Merrifield About 297 results\n",
      "Eric Thames About 457 results\n",
      "Bradley Zimmer About 873 results\n",
      "Yolmer Sanchez About 58 results\n",
      "Melky Cabrera About 79 results\n",
      "Taylor Motter About 56 results\n",
      "Jay Bruce About 5,560 results\n",
      "Troy Tulowitzki About 371 results\n",
      "T.J. Rivera About 562 results\n",
      "Johan Camargo About 154 results\n",
      "Brandon Drury About 479 results\n",
      "Chad Pinder About 219 results\n",
      "James McCann About 4,050 results\n",
      "Matt Adams About 11,200 results\n",
      "Juan Lagares About 415 results\n",
      "Matt Davidson About 5,770 results\n",
      "Jace Peterson About 146 results\n",
      "Jed Lowrie About 101 results\n",
      "Omar Narvaez About 88 results\n",
      "Austin Jackson About 15,900 results\n",
      "Brandon Crawford About 3,860 results\n",
      "Austin Romine About 170 results\n",
      "Paul Goldschmidt About 839 results\n",
      "Danny Espinosa About 181 results\n",
      "Daniel Descalso 9 results\n",
      "Alcides Escobar About 124 results\n",
      "Yan Gomes About 179 results\n",
      "Jose Iglesias About 10,400 results\n",
      "Jason Kipnis About 1,020 results\n",
      "Carlos Gonzalez About 44,200 results\n",
      "Carlos Correa About 8,260 results\n",
      "Jose Pirela About 130 results\n",
      "Logan Forsythe About 132 results\n",
      "Rajai Davis About 184 results\n",
      "Lucas Duda About 8,330 results\n",
      "Adam Rosales 9 results\n",
      "Austin Hedges About 548 results\n",
      "Jarrod Dyson About 211 results\n",
      "Asdrubal Cabrera About 207 results\n",
      "Rafael Devers About 584 results\n",
      "Alex Bregman About 235 results\n",
      "DJ LeMahieu About 38 results\n",
      "J.D. Martinez About 14,100 results\n",
      "Jose Abreu About 4,770 results\n",
      "Patrick Kivlehan 3 results\n",
      "Byron Buxton About 430 results\n",
      "Ian Desmond About 680 results\n",
      "Nick Williams About 36,000 results\n",
      "Matt Szczur About 210 results\n",
      "Maikel Franco About 137 results\n",
      "Matt Wieters About 125 results\n",
      "Jacoby Ellsbury About 409 results\n",
      "Xander Bogaerts About 281 results\n",
      "Miguel Cabrera About 4,710 results\n",
      "Ezequiel Carrera About 970 results\n",
      "Cory Spangenberg About 180 results\n",
      "Ender Inciarte About 473 results\n",
      "Sandy Leon About 1,510 results\n",
      "Michael Conforto About 313 results\n",
      "Delino DeShields About 242 results\n",
      "Chris Iannetta About 339 results\n",
      "Ichiro Suzuki About 875 results\n",
      "Wilmer Difo About 72 results\n",
      "Gregory Polanco About 833 results\n",
      "Kyle Seager About 449 results\n",
      "Keon Broxton About 442 results\n",
      "David Peralta About 2,830 results\n",
      "Manuel Margot About 7,090 results\n",
      "Eric Hosmer About 23,600 results\n",
      "Derek Dietrich About 470 results\n",
      "Ozzie Albies About 535 results\n",
      "Allen Cordoba About 927 results\n",
      "Andrew Benintendi About 1,120 results\n",
      "Leury Garcia About 295 results\n",
      "Jose Osuna About 2,490 results\n",
      "Lorenzo Cain About 1,080 results\n",
      "Jonathan Schoop About 611 results\n",
      "Cameron Rupp About 1,040 results\n",
      "Ryan Zimmerman About 7,590 results\n",
      "Alex Gordon About 15,900 results\n",
      "Avisail Garcia About 367 results\n",
      "Elvis Andrus About 768 results\n",
      "Nolan Arenado About 1,600 results\n",
      "Odubel Herrera About 704 results\n",
      "Jedd Gyorko About 459 results\n",
      "Carlos Santana About 12,400 results\n",
      "Chris Davis About 43,900 results\n",
      "Yasmani Grandal About 847 results\n",
      "Charlie Blackmon About 1,690 results\n",
      "Brian McCann About 1,580 results\n",
      "Tyler Moore About 9,290 results\n",
      "Adam Jones About 38,200 results\n",
      "Hunter Renfroe About 159 results\n",
      "Willson Contreras About 1,100 results\n",
      "Luis Valbuena About 606 results\n",
      "Trey Mancini About 648 results\n",
      "Jose Altuve About 4,460 results\n",
      "Dansby Swanson About 528 results\n",
      "Daniel Murphy About 20,100 results\n",
      "Robinson Cano About 881 results\n",
      "Marwin Gonzalez About 920 results\n",
      "Curtis Granderson About 849 results\n",
      "Alex Avila About 1,690 results\n",
      "Dexter Fowler About 441 results\n",
      "Ketel Marte About 548 results\n",
      "Nick Hundley About 317 results\n",
      "Aledmys Diaz About 210 results\n",
      "Joc Pederson About 865 results\n",
      "Yoenis Cespedes About 600 results\n",
      "Yunel Escobar 7 results\n",
      "Daniel Nava About 1,010 results\n",
      "Freddie Freeman About 1,790 results\n",
      "Lonnie Chisenhall About 479 results\n",
      "C.J. Cron About 506 results\n",
      "Hanley Ramirez About 561 results\n",
      "Cesar Hernandez About 11,900 results\n",
      "Max Kepler About 830 results\n",
      "Jon Jay About 9,150 results\n",
      "Brandon Belt About 4,620 results\n",
      "Cody Bellinger About 2,230 results\n",
      "Ryan Goins About 332 results\n",
      "Mark Reynolds About 8,070 results\n",
      "Nelson Cruz About 12,600 results\n",
      "Mookie Betts About 1,260 results\n",
      "Mark Trumbo About 1,170 results\n",
      "Aaron Judge About 18,300 results\n",
      "Francisco Cervelli About 518 results\n",
      "Danny Valencia About 2,290 results\n",
      "Carlos Gomez About 32,300 results\n",
      "Dee Gordon About 5,080 results\n",
      "Matt Holliday About 1,550 results\n",
      "Tucker Barnhart About 518 results\n",
      "Brian Dozier About 922 results\n",
      "Kendrys Morales About 446 results\n",
      "Tommy Joseph About 4,140 results\n",
      "Jason Heyward About 585 results\n",
      "Jake Marisnick About 118 results\n",
      "Mike Napoli About 4,930 results\n",
      "Jose Reyes About 20,500 results\n",
      "Joey Votto About 1,840 results\n",
      "J.J. Hardy About 2,690 results\n",
      "Logan Morrison About 8,070 results\n",
      "Nomar Mazara About 636 results\n",
      "Edwin Encarnacion About 1,620 results\n",
      "Michael Saunders About 9,960 results\n",
      "Chris Herrmann About 428 results\n",
      "Aaron Altherr About 389 results\n",
      "Albert Almora Jr. About 306 results\n",
      "Adam Lind About 2,090 results\n",
      "Wilmer Flores About 218 results\n",
      "Darwin Barney About 228 results\n",
      "Eddie Rosario About 3,700 results\n",
      "Miguel Rojas About 8,750 results\n",
      "Michael Taylor About 75,500 results\n",
      "Josh Bell About 20,600 results\n",
      "Kelby Tomlinson 8 results\n",
      "Domingo Santana About 7,710 results\n",
      "Erick Aybar About 594 results\n",
      "Jayson Werth About 82 results\n",
      "Scooter Gennett About 684 results\n",
      "Bryce Harper About 7,010 results\n",
      "Kris Bryant About 8,200 results\n",
      "Carlos Beltran About 4,430 results\n",
      "Kevin Kiermaier About 477 results\n",
      "Trevor Story About 15,100 results\n",
      "Gerardo Parra About 900 results\n",
      "Robbie Grossman About 177 results\n",
      "Nick Markakis About 541 results\n",
      "Eugenio Suarez About 1,040 results\n",
      "Steven Souza Jr. About 979 results\n",
      "Ben Revere About 456 results\n",
      "Brandon Nimmo About 250 results\n",
      "Seth Smith About 9,270 results\n",
      "Jonathan Lucroy About 409 results\n",
      "Javier Baez About 926 results\n",
      "Josh Donaldson About 2,700 results\n",
      "Justin Turner About 8,840 results\n",
      "Brandon Phillips About 2,690 results\n",
      "Jorge Bonifacio About 979 results\n",
      "Addison Russell About 2,010 results\n",
      "Giancarlo Stanton About 6,940 results\n",
      "Jose Martinez About 59,200 results\n",
      "Jordy Mercer About 451 results\n",
      "Victor Martinez About 5,550 results\n",
      "Matt Carpenter About 3,920 results\n",
      "Marcell Ozuna About 2,190 results\n",
      "Mallex Smith About 317 results\n",
      "Chris Young About 103,000 results\n",
      "Chris Carter About 21,700 results\n",
      "Christian Yelich About 2,180 results\n",
      "Mike Moustakas About 1,690 results\n",
      "Anthony Rendon About 786 results\n",
      "Zack Cozart About 1,330 results\n",
      "Wil Myers About 1,020 results\n",
      "Jesus Aguilar About 4,830 results\n",
      "Scott Schebler About 450 results\n",
      "Matt Kemp About 2,730 results\n",
      "Ian Happ About 505 results\n",
      "Jean Segura About 1,720 results\n",
      "Peter Bourjos 6 results\n",
      "Anthony Rizzo About 3,150 results\n",
      "Michael Brantley About 763 results\n",
      "Joey Rickard About 124 results\n",
      "Andrew Knapp About 2,210 results\n",
      "Didi Gregorius About 748 results\n",
      "Joe Mauer About 1,430 results\n",
      "A.J. Pollock About 478 results\n",
      "Martin Maldonado About 5,100 results\n",
      "Aaron Hicks About 10,300 results\n",
      "Andrew Romine About 266 results\n",
      "Kurt Suzuki About 462 results\n",
      "Josh Harrison About 6,760 results\n",
      "Salvador Perez About 7,170 results\n",
      "Tony Wolters 9 results\n",
      "Adrian Beltre About 459 results\n",
      "Buster Posey About 1,920 results\n",
      "Austin Barnes About 3,280 results\n",
      "Andrew McCutchen About 2,380 results\n",
      "Yangervis Solarte About 569 results\n",
      "Todd Frazier About 1,350 results\n",
      "Chris Gimenez About 623 results\n",
      "Andrelton Simmons About 448 results\n",
      "Starlin Castro About 689 results\n",
      "Jonathan Villar About 694 results\n",
      "Jose Peraza About 1,380 results\n",
      "Kennys Vargas About 795 results\n",
      "Tyler Saladino 10 results\n",
      "Yadier Molina About 686 results\n",
      "David Freese About 210 results\n",
      "Roberto Perez About 12,700 results\n",
      "Chase Headley About 507 results\n",
      "Yonder Alonso About 1,240 results\n",
      "Manny Machado About 3,070 results\n",
      "Justin Smoak About 1,540 results\n",
      "Adeiny Hechavarria About 438 results\n",
      "Brian Goodwin About 1,610 results\n",
      "Cliff Pennington About 151 results\n",
      "Manny Pina About 452 results\n"
     ]
    }
   ],
   "source": [
    "NDict = {}\n",
    "\n",
    "for key in HDict.keys():\n",
    "    \n",
    "    print key,\n",
    "    \n",
    "    NDict[key] = find_results(key,timescale='w')\n",
    "\n"
   ]
  },
  {
   "cell_type": "code",
   "execution_count": 29,
   "metadata": {
    "collapsed": false
   },
   "outputs": [
    {
     "name": "stdout",
     "output_type": "stream",
     "text": [
      "Chris Young\n",
      "Michael Taylor\n"
     ]
    }
   ],
   "source": [
    "\n",
    "for key in NDict.keys():\n",
    "    \n",
    "    if NDict[key] > 70000.: print key"
   ]
  },
  {
   "cell_type": "code",
   "execution_count": 10,
   "metadata": {
    "collapsed": false
   },
   "outputs": [
    {
     "ename": "NameError",
     "evalue": "name 'scrape_news_summaries' is not defined",
     "output_type": "error",
     "traceback": [
      "\u001b[0;31m---------------------------------------------------------------------------\u001b[0m",
      "\u001b[0;31mNameError\u001b[0m                                 Traceback (most recent call last)",
      "\u001b[0;32m<ipython-input-10-f9db2f4bd3d7>\u001b[0m in \u001b[0;36m<module>\u001b[0;34m()\u001b[0m\n\u001b[0;32m----> 1\u001b[0;31m \u001b[0ml\u001b[0m \u001b[0;34m=\u001b[0m \u001b[0mscrape_news_summaries\u001b[0m\u001b[0;34m(\u001b[0m\u001b[0;34m\"'Trever+Story'\"\u001b[0m\u001b[0;34m)\u001b[0m\u001b[0;34m\u001b[0m\u001b[0m\n\u001b[0m\u001b[1;32m      2\u001b[0m \u001b[0;34m\u001b[0m\u001b[0m\n\u001b[1;32m      3\u001b[0m \u001b[0;32mfor\u001b[0m \u001b[0mn\u001b[0m \u001b[0;32min\u001b[0m \u001b[0ml\u001b[0m\u001b[0;34m:\u001b[0m\u001b[0;34m\u001b[0m\u001b[0m\n\u001b[1;32m      4\u001b[0m     \u001b[0;32mprint\u001b[0m\u001b[0;34m(\u001b[0m\u001b[0mn\u001b[0m\u001b[0;34m)\u001b[0m\u001b[0;34m\u001b[0m\u001b[0m\n\u001b[1;32m      5\u001b[0m     \u001b[0;32mprint\u001b[0m\u001b[0;34m(\u001b[0m\u001b[0;34m''\u001b[0m\u001b[0;34m)\u001b[0m\u001b[0;34m\u001b[0m\u001b[0m\n",
      "\u001b[0;31mNameError\u001b[0m: name 'scrape_news_summaries' is not defined"
     ]
    }
   ],
   "source": [
    "l = scrape_news_summaries(\"'Trever+Story'\")\n",
    "\n",
    "for n in l:\n",
    "    print(n)\n",
    "    print('')"
   ]
  },
  {
   "cell_type": "markdown",
   "metadata": {},
   "source": [
    "### Stats Alerts\n",
    "\n",
    "We should also scrape the fangraphs gamelog page to see if there is anything obvious there."
   ]
  },
  {
   "cell_type": "markdown",
   "metadata": {},
   "source": [
    "### Crazy\n",
    "\n",
    "It would be awesome to try and make a model to predict ownership data based on news stories."
   ]
  },
  {
   "cell_type": "code",
   "execution_count": 14,
   "metadata": {
    "collapsed": false
   },
   "outputs": [
    {
     "name": "stdout",
     "output_type": "stream",
     "text": [
      "[<div class=\"mod-content\" id=\"fantasy-content\">{\"playerId\":5600,\"percentChange\":0,\"averageDraftPosition\":\"Undrafted\",\"percentOwned\":0,\"playerRaterSEASON\":8.4,\"fullName\":\"Jose Abreu\",\"positionRank\":4}</div>]\n"
     ]
    }
   ],
   "source": [
    "r  = requests.get('http://www.espn.com/mlb/player/_/id/33095/jose-abreu')\n",
    "\n",
    "data = r.text\n",
    "\n",
    "soup = BeautifulSoup(data)\n",
    "\n",
    "fantasy_table = soup.find_all('div', id='fantasy-content')\n",
    "\n",
    "print fantasy_table#.find(\"tr\")\n",
    "\n",
    "#for table in tables: \n",
    "\n",
    "#        headings = [th.get_text() for th in table.find(\"tr\").find_all(\"th\")]\n",
    "#        #print headings\n",
    "\n",
    "#<div class=\"mod-content\" id=\"fantasy-content\">\n",
    "\n",
    "\n",
    "#(row in table.find_all(\"tr\", class_=\"grid_postseason\"))"
   ]
  },
  {
   "cell_type": "code",
   "execution_count": null,
   "metadata": {
    "collapsed": true
   },
   "outputs": [],
   "source": []
  }
 ],
 "metadata": {
  "anaconda-cloud": {},
  "kernelspec": {
   "display_name": "Python [default]",
   "language": "python",
   "name": "python2"
  },
  "language_info": {
   "codemirror_mode": {
    "name": "ipython",
    "version": 2
   },
   "file_extension": ".py",
   "mimetype": "text/x-python",
   "name": "python",
   "nbconvert_exporter": "python",
   "pygments_lexer": "ipython2",
   "version": "2.7.12"
  }
 },
 "nbformat": 4,
 "nbformat_minor": 1
}
