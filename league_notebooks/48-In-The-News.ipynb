{
 "cells": [
  {
   "cell_type": "markdown",
   "metadata": {},
   "source": [
    "# Pull ESPN Ownership Data\n",
    "\n",
    "### MSP 9.4.2017\n"
   ]
  },
  {
   "cell_type": "code",
   "execution_count": 41,
   "metadata": {
    "collapsed": false
   },
   "outputs": [
    {
     "data": {
      "text/html": [
       "<script>code_show=true; function code_toggle() { if (code_show){ $('div.input').hide();} else { $('div.input').show(); } code_show = !code_show} $( document ).ready(code_toggle);</script><form action=\"javascript:code_toggle()\"><input type=\"submit\" value=\"Click here to toggle on/off the raw code.\"></form>"
      ],
      "text/plain": [
       "<IPython.core.display.HTML object>"
      ]
     },
     "execution_count": 41,
     "metadata": {},
     "output_type": "execute_result"
    }
   ],
   "source": [
    "from IPython.display import HTML\n",
    "HTML('''<script>code_show=true; function code_toggle() { if (code_show){ $('div.input').hide();} else { $('div.input').show(); } code_show = !code_show} $( document ).ready(code_toggle);</script><form action=\"javascript:code_toggle()\"><input type=\"submit\" value=\"Click here to toggle on/off the raw code.\"></form>''')"
   ]
  },
  {
   "cell_type": "code",
   "execution_count": 1,
   "metadata": {
    "collapsed": true
   },
   "outputs": [],
   "source": [
    "# boilerplate imports\n",
    "\n",
    "import datetime\n",
    "import numpy as np\n",
    "import matplotlib.pyplot as plt\n",
    "import matplotlib.cm as cm\n",
    "%matplotlib inline\n",
    "\n",
    "import matplotlib as mpl\n",
    "cmap = cm.gnuplot\n",
    "\n",
    "\n"
   ]
  },
  {
   "cell_type": "code",
   "execution_count": 2,
   "metadata": {
    "collapsed": true
   },
   "outputs": [],
   "source": [
    "# imports for scraping\n",
    "\n",
    "from bs4 import BeautifulSoup\n",
    "\n",
    "import requests\n",
    "\n",
    "import operator\n",
    "\n"
   ]
  },
  {
   "cell_type": "markdown",
   "metadata": {},
   "source": [
    "### Change In Ownership\n",
    "\n",
    "Also set up an archive."
   ]
  },
  {
   "cell_type": "code",
   "execution_count": 3,
   "metadata": {
    "collapsed": false
   },
   "outputs": [],
   "source": [
    "\n",
    "Ownership = {}\n",
    "\n",
    "\n",
    "for tablenum in range(0,13):\n",
    "\n",
    "    # cycle through all positions\n",
    "    r  = requests.get('http://games.espn.com/flb/addeddropped?slotCategoryId='+str(tablenum))\n",
    "\n",
    "    data = r.text\n",
    "\n",
    "    soup = BeautifulSoup(data)\n",
    "\n",
    "    tables = soup.findAll('table')\n",
    "\n",
    "\n",
    "    for table in tables: \n",
    "\n",
    "        headings = [th.get_text() for th in table.find(\"tr\").find_all(\"th\")]\n",
    "        #print headings\n",
    "\n",
    "\n",
    "        for row in table.find_all(\"tr\")[1:]: \n",
    "\n",
    "        #    sav = [td.find('a') for td in row.find_all(\"td\")]\n",
    "            sav = [td.get_text() for td in row.find_all(\"td\")]\n",
    "\n",
    "            w = sav.index(u'\\xa0')\n",
    "\n",
    "            #print (sav[1].split(',')[0]).strip('*')\n",
    "\n",
    "            try:\n",
    "                # block out all non-rankings\n",
    "                xx = float(sav[0])\n",
    "\n",
    "                #print sav[0:w]\n",
    "                #print sav[w+1:len(sav)]\n",
    "\n",
    "                # added\n",
    "                Ownership[(sav[1].split(',')[0]).strip('*')] = float(sav[5])\n",
    "\n",
    "                #dropped\n",
    "                Ownership[(sav[w+2].split(',')[0]).strip('*')] = float(sav[w+6])\n",
    "\n",
    "            except:\n",
    "                pass\n",
    "\n",
    "            #[u'RK', u'PLAYER, TEAM', u'POS', u'LAST', u'CUR', u'7-DAY +/-']\n",
    "        \n",
    "\n",
    "today = datetime.date.today()\n",
    "\n",
    "f = open('ownership-archive/'+str(today)+'.txt','w')\n",
    "\n",
    "for index,key in enumerate(Ownership.keys()):\n",
    "    print >>f,key,Ownership[key]\n",
    "    \n",
    "f.close()"
   ]
  },
  {
   "cell_type": "code",
   "execution_count": 5,
   "metadata": {
    "collapsed": false
   },
   "outputs": [
    {
     "ename": "NameError",
     "evalue": "name 'l' is not defined",
     "output_type": "error",
     "traceback": [
      "\u001b[0;31m---------------------------------------------------------------------------\u001b[0m",
      "\u001b[0;31mNameError\u001b[0m                                 Traceback (most recent call last)",
      "\u001b[0;32m<ipython-input-5-1a2f2269eab1>\u001b[0m in \u001b[0;36m<module>\u001b[0;34m()\u001b[0m\n\u001b[1;32m      3\u001b[0m \u001b[0mpositives\u001b[0m \u001b[0;34m=\u001b[0m \u001b[0;34m[\u001b[0m\u001b[0;34m'congratulates'\u001b[0m\u001b[0;34m]\u001b[0m\u001b[0;34m\u001b[0m\u001b[0m\n\u001b[1;32m      4\u001b[0m \u001b[0;34m\u001b[0m\u001b[0m\n\u001b[0;32m----> 5\u001b[0;31m \u001b[0;32mprint\u001b[0m \u001b[0mnp\u001b[0m\u001b[0;34m.\u001b[0m\u001b[0msum\u001b[0m\u001b[0;34m(\u001b[0m\u001b[0mnp\u001b[0m\u001b[0;34m.\u001b[0m\u001b[0marray\u001b[0m\u001b[0;34m(\u001b[0m\u001b[0;34m[\u001b[0m\u001b[0;34m(\u001b[0m\u001b[0mx\u001b[0m \u001b[0;32min\u001b[0m \u001b[0ml\u001b[0m\u001b[0;34m[\u001b[0m\u001b[0;36m0\u001b[0m\u001b[0;34m]\u001b[0m\u001b[0;34m)\u001b[0m \u001b[0;32mfor\u001b[0m \u001b[0mx\u001b[0m \u001b[0;32min\u001b[0m \u001b[0mpositives\u001b[0m\u001b[0;34m]\u001b[0m\u001b[0;34m)\u001b[0m\u001b[0;34m)\u001b[0m\u001b[0;34m\u001b[0m\u001b[0m\n\u001b[0m\u001b[1;32m      6\u001b[0m \u001b[0;34m\u001b[0m\u001b[0m\n",
      "\u001b[0;31mNameError\u001b[0m: name 'l' is not defined"
     ]
    }
   ],
   "source": [
    "print l[0]\n",
    "\n",
    "positives = ['congratulates']\n",
    "\n",
    "print np.sum(np.array([(x in l[0]) for x in positives]))\n",
    "\n"
   ]
  },
  {
   "cell_type": "code",
   "execution_count": 20,
   "metadata": {
    "collapsed": true
   },
   "outputs": [],
   "source": [
    "Ownership = {}\n",
    "Ownership['Jose Abreu'] = -10."
   ]
  },
  {
   "cell_type": "code",
   "execution_count": 26,
   "metadata": {
    "collapsed": false
   },
   "outputs": [
    {
     "name": "stdout",
     "output_type": "stream",
     "text": [
      "Jose Abreu\n",
      "--------------\n",
      "Most notably, how will the futures of first baseman Jose Abreu and outfielder Avisail Garcia be impacted? Both Abreu and Garcia are coming off strong seasons and have two years of contract control left. Abreu turned 31 Monday and will make $13 million in 2018. With his arbitration process pending, the ...\n",
      "1   0   0\n",
      "\n"
     ]
    }
   ],
   "source": [
    "negatives = ['rehab','injure','disable','DL','suspension','surgery','injury','pending']\n",
    "\n",
    "#[(x in string_in) for x in negatives]\n",
    "\n",
    "def check_words(string_in,words):\n",
    "    total = [(x in string_in) for x in words]\n",
    "    return np.sum(np.array(total))\n",
    "    \n",
    "\n",
    "for index,key in enumerate(Ownership.keys()):\n",
    "    if Ownership[key] < -5.:\n",
    "        print key\n",
    "        print '--------------'\n",
    "        l = scrape_news_summaries(key)\n",
    "        print l[0]\n",
    "        print check_words(l[0],negatives),' ',\n",
    "        print check_words(l[1],negatives),' ',\n",
    "        print check_words(l[2],negatives)\n",
    "        print ''\n",
    "\n"
   ]
  },
  {
   "cell_type": "code",
   "execution_count": 23,
   "metadata": {
    "collapsed": false
   },
   "outputs": [],
   "source": [
    "for index,key in enumerate(Ownership.keys()):\n",
    "    if Ownership[key] > 5.:\n",
    "        print key\n",
    "        print '--------------'\n",
    "        l = scrape_news_summaries(key)\n",
    "        print l[0]\n",
    "        print ''\n",
    "\n",
    "\n"
   ]
  },
  {
   "cell_type": "code",
   "execution_count": 51,
   "metadata": {
    "collapsed": false
   },
   "outputs": [
    {
     "ename": "KeyError",
     "evalue": "'Justin Verlander'",
     "output_type": "error",
     "traceback": [
      "\u001b[0;31m---------------------------------------------------------------------------\u001b[0m",
      "\u001b[0;31mKeyError\u001b[0m                                  Traceback (most recent call last)",
      "\u001b[0;32m<ipython-input-51-9cb02809e6cf>\u001b[0m in \u001b[0;36m<module>\u001b[0;34m()\u001b[0m\n\u001b[0;32m----> 1\u001b[0;31m \u001b[0;32mprint\u001b[0m \u001b[0mOwnership\u001b[0m\u001b[0;34m[\u001b[0m\u001b[0;34m'Justin Verlander'\u001b[0m\u001b[0;34m]\u001b[0m\u001b[0;34m\u001b[0m\u001b[0m\n\u001b[0m",
      "\u001b[0;31mKeyError\u001b[0m: 'Justin Verlander'"
     ]
    }
   ],
   "source": [
    "print Ownership['Justin Verlander']"
   ]
  },
  {
   "cell_type": "markdown",
   "metadata": {},
   "source": [
    "### News Alerts\n",
    "\n",
    "Another interesting thing is grabbing Google News findings on players to see if we can determine what the narrative leading to the explosion in pickups or drops is coming from.\n",
    "\n",
    "Good keywords:\n",
    "1. Trade\n",
    "2. Hot\n",
    "3. Streak\n",
    "4. Fire\n",
    "5. Homer\n",
    "\n",
    "\n",
    "Bad keywords:\n",
    "1. Cold\n",
    "2. Bench\n",
    "3. Disabled/DL\n",
    "4. Injure\n",
    "5. Suspension\n",
    "\n"
   ]
  },
  {
   "cell_type": "code",
   "execution_count": 34,
   "metadata": {
    "collapsed": false,
    "scrolled": false
   },
   "outputs": [
    {
     "name": "stdout",
     "output_type": "stream",
     "text": [
      "Most notably, how will the futures of first baseman Jose Abreu and outfielder Avisail Garcia be impacted? Both Abreu and Garcia are coming off strong seasons and have two years of contract control left. Abreu turned 31 Monday and will make $13 million in 2018. With his arbitration process pending, the ...\n",
      "\n",
      "CHICAGO – The numbers are just part of the picture. Jose Abreu's value to the White Sox extends far beyond the field. So while the rebuilding project continues on the South Side, Abreu remains with the only major league team he has ever known. The slugging first baseman means so much to Chicago in ...\n",
      "\n",
      "I have been adamant and consistent this offseason. I like Jose Abreu and Avi Garcia. I like Abreu's consistency and stoicism. I like Garcia's hustle and persistence. Despite this affinity, I think they both should be traded. Abreu has two seasons of control left, and he'll be 33 in 2020 when the White Sox are ...\n",
      "\n",
      "With the Chicago White Sox going all-in for a rebuild and dealing most of their bigger names and hefty contracts — Chris Sale, Adam Eaton, Todd Frazier, David Robertson, Melky Cabrera and Jose Quintana — to build one of baseball's best farm systems, general manager Rick Hahn is remaining open in ...\n",
      "\n",
      "Jose Abreu is entering his fifth MLB season with the White Sox and it's been nothing short of a match made in baseball heaven. He has been an integral part of the team on and off the field, and especially during the rebuilding process. Even in year five of his MLB career and year two of the team's rebuild, ...\n",
      "\n",
      "There was plenty of speculation as to whether or not the team would consider moving Jose Abreu for more prospects, but with his leadership and with his historically consistent production levels, the team decided that they wanted to hold onto him, and he'll be the starting first baseman for the club. Guys like ...\n",
      "\n",
      "On paper, it seemed to make sense: A 31-year-old Jose Abreu was coming off a massively productive season and has two more years left of team control, meaning he isn't guaranteed to be around when the White Sox expect this rebuilding process to produce a playoff contender. So why not trade him?\n",
      "\n",
      "White Sox veteran first baseman was important for the team's younger players last season. How can he continue helping the team's current rebuild? As strange as this may sound, Jose Abreu is now the elder statesman among the Chicago White Sox position players. For a person who was not even playing ...\n",
      "\n",
      "CHICAGO — The word Jose Abreu uses to describe his role with the young up-and-comers in the White Sox system is papá. Though he turned just 31 earlier this week, Abreu has become the senior member of the Chicago roster. He made his debut in 2014, and only a handful of his teammates have been ...\n",
      "\n",
      "For a while there, it seemed like the Chicago White Sox trading first baseman Jose Abreu was something that could happen this offseason. Abreu had a strong 2017 campaign, during which he swatted 33 homeruns and posted a .552 slugging percentage, according to Baseball-Reference. Sure, power bats ...\n",
      "\n"
     ]
    }
   ],
   "source": [
    "#https://stackoverflow.com/questions/39354587/scraping-google-news-with-beautifulsoup-returns-empty-results\n",
    "\n",
    "from bs4 import BeautifulSoup\n",
    "import requests\n",
    "import time\n",
    "from random import randint\n",
    "\n",
    "\n",
    "def scrape_news_summaries(s):\n",
    "    time.sleep(randint(0, 2))  # relax and don't let google be angry\n",
    "    \n",
    "    r = requests.get(\"http://www.google.com/search?q=\"+s+\"&tbm=nws\")    \n",
    "    # Print the status code\n",
    "    #print(r.status_code)  \n",
    "    \n",
    "    content = r.text\n",
    "    #print content\n",
    "    \n",
    "    news_summaries = []\n",
    "    soup = BeautifulSoup(content, \"html.parser\")\n",
    "    #st_divs = soup.find_all(\"div\", class_=\"gs-info\")\n",
    "    st_divs = soup.findAll(\"div\", {\"class\": \"st\"})\n",
    "    #st_divs = soup.findAll(\"div\", {\"class\": \"rc\"})\n",
    "\n",
    "\n",
    "    for st_div in st_divs:\n",
    "        #print st_div\n",
    "        news_summaries.append(st_div.text)\n",
    "    return news_summaries\n",
    "\n",
    "\n",
    "\n",
    "\n",
    "#http://www.espn.com/search/results?q=Alex+Wood\n",
    "#r = requests.get(\"http://www.google.com/search?q=\"+s+\"&tbm=nws\")\n",
    "\n",
    "l = scrape_news_summaries(\"Jose Abreu\")\n",
    "\n",
    "for n in l:\n",
    "    print(n)\n",
    "    print('')"
   ]
  },
  {
   "cell_type": "code",
   "execution_count": 73,
   "metadata": {
    "collapsed": false
   },
   "outputs": [],
   "source": [
    "\n",
    "def find_results(player,timescale='w'):\n",
    "    r = requests.get(\"http://www.google.com/search?q=\"+player+\"&tbm=nws&tbs=qdr:\"+timescale)    \n",
    "\n",
    "    content = r.text\n",
    "    soup = BeautifulSoup(content, \"html.parser\")\n",
    "\n",
    "    st_divs = soup.findAll(\"div\", {\"id\":\"resultStats\"})\n",
    "    print(st_divs[0].text)\n",
    "    \n",
    "    if st_divs[0].text.split()[0] == 'About':\n",
    "        \n",
    "        return float(st_divs[0].text.split()[1].replace(\",\",\"\"))\n",
    "    \n",
    "    else:\n",
    "        return float(st_divs[0].text.split()[0].replace(\",\",\"\"))"
   ]
  },
  {
   "cell_type": "code",
   "execution_count": 80,
   "metadata": {
    "collapsed": false
   },
   "outputs": [
    {
     "name": "stdout",
     "output_type": "stream",
     "text": [
      "Found 340 hitters by scraping teams.\n"
     ]
    }
   ],
   "source": [
    "\n",
    "HDict = {}\n",
    "\n",
    "f = open('data/batterdict.dat')\n",
    "\n",
    "for line in f:\n",
    "    #print line\n",
    "    try:\n",
    "        HDict[(line.split('|')[0]).strip()] = line.split('|')[1]\n",
    "    except:\n",
    "        pass\n",
    "    \n",
    "    \n",
    "print('Found {} hitters by scraping teams.'.format(len(HDict.keys())))"
   ]
  },
  {
   "cell_type": "code",
   "execution_count": 81,
   "metadata": {
    "collapsed": false
   },
   "outputs": [
    {
     "name": "stdout",
     "output_type": "stream",
     "text": [
      "About 127 results\n",
      "About 17,200 results\n",
      "About 290 results\n",
      "About 154 results\n",
      "About 1,260 results\n",
      "About 7,170 results\n",
      "10 results\n",
      "About 8,860 results\n",
      "About 2,590 results\n",
      "About 106 results\n",
      "About 3,710 results\n",
      "About 103 results\n",
      "About 1,850 results\n",
      "About 321 results\n",
      "About 2,640 results\n",
      "About 10,100 results\n",
      "About 11,400 results\n",
      "About 4,250 results\n",
      "About 892 results\n",
      "About 9,050 results\n",
      "About 1,760 results\n",
      "2 results\n",
      "About 258 results\n",
      "About 117 results\n",
      "About 297 results\n",
      "About 289 results\n",
      "About 187 results\n",
      "About 1,970 results\n",
      "About 878 results\n",
      "9 results\n",
      "About 306 results\n",
      "About 3,160 results\n",
      "About 2,830 results\n",
      "About 246 results\n",
      "About 4,150 results\n",
      "About 26,800 results\n",
      "7 results\n",
      "About 706 results\n",
      "About 157 results\n",
      "About 1,910 results\n",
      "About 471 results\n",
      "About 102 results\n",
      "About 126 results\n",
      "About 589 results\n",
      "About 5,850 results\n",
      "About 62 results\n",
      "About 23,200 results\n",
      "About 135 results\n",
      "About 1,810 results\n",
      "About 3,890 results\n",
      "About 491 results\n",
      "About 382 results\n",
      "7 results\n",
      "About 2,760 results\n",
      "About 3,760 results\n",
      "About 112 results\n",
      "About 1,040 results\n",
      "About 256 results\n",
      "About 608 results\n",
      "About 4,550 results\n",
      "About 814 results\n",
      "About 727 results\n",
      "About 1,300 results\n",
      "About 434 results\n",
      "About 1,740 results\n",
      "About 208 results\n",
      "About 10,500 results\n",
      "About 193 results\n",
      "About 258 results\n",
      "About 1,550 results\n",
      "About 224 results\n",
      "About 2,830 results\n",
      "About 1,310 results\n",
      "About 588 results\n",
      "About 96 results\n",
      "About 3,980 results\n",
      "About 269 results\n",
      "About 465 results\n",
      "About 2,740 results\n",
      "About 1,020 results\n",
      "About 426 results\n",
      "About 7,660 results\n",
      "8 results\n",
      "About 261 results\n",
      "About 2,150 results\n",
      "About 981 results\n",
      "About 1,520 results\n",
      "About 128 results\n",
      "About 53 results\n",
      "About 319 results\n",
      "8 results\n",
      "About 3,840 results\n",
      "About 360 results\n",
      "About 804 results\n",
      "About 50,400 results\n",
      "About 914 results\n",
      "7 results\n",
      "About 900 results\n",
      "4 results\n",
      "About 531 results\n",
      "About 4,710 results\n",
      "About 22,700 results\n",
      "About 275 results\n",
      "About 654 results\n",
      "About 361 results\n",
      "7 results\n",
      "About 228 results\n",
      "10 results\n",
      "About 15,800 results\n",
      "About 100 results\n",
      "About 688 results\n",
      "About 220 results\n",
      "About 322 results\n",
      "4 results\n",
      "About 5,060 results\n",
      "About 10,800 results\n",
      "About 448 results\n",
      "About 10,200 results\n",
      "About 445 results\n",
      "5 results\n",
      "About 832 results\n",
      "About 15,300 results\n",
      "About 6,390 results\n",
      "About 198 results\n",
      "About 1,110 results\n",
      "About 395 results\n",
      "6 results\n",
      "About 164 results\n",
      "About 96 results\n",
      "About 14,500 results\n",
      "About 164 results\n",
      "About 60,000 results\n",
      "About 10,900 results\n",
      "About 129 results\n",
      "About 201 results\n",
      "7 results\n",
      "About 2,950 results\n",
      "About 159 results\n",
      "About 200 results\n",
      "About 140 results\n",
      "About 112 results\n",
      "About 196 results\n",
      "About 413 results\n",
      "About 77 results\n",
      "About 4,950 results\n",
      "About 4,480 results\n",
      "About 0 results\n",
      "About 254 results\n",
      "About 444 results\n",
      "About 26,900 results\n",
      "8 results\n",
      "About 137 results\n",
      "About 342 results\n",
      "About 312 results\n",
      "About 236 results\n",
      "About 6,610 results\n",
      "About 456 results\n",
      "About 69 results\n",
      "About 383 results\n",
      "About 1,050 results\n",
      "About 255 results\n",
      "About 124 results\n",
      "About 178 results\n",
      "About 198 results\n",
      "8 results\n",
      "About 1,260 results\n",
      "About 689 results\n",
      "About 129 results\n",
      "About 2,390 results\n",
      "About 633 results\n",
      "About 2,510 results\n",
      "About 246 results\n",
      "About 261 results\n",
      "About 453 results\n",
      "About 224 results\n",
      "5 results\n",
      "About 3,240 results\n",
      "About 2,120 results\n",
      "10 results\n",
      "About 335 results\n",
      "About 4,210 results\n",
      "About 13,200 results\n",
      "About 3,050 results\n",
      "About 194 results\n",
      "About 775 results\n",
      "About 74 results\n",
      "About 190 results\n",
      "About 13,100 results\n",
      "About 39,500 results\n",
      "About 257 results\n",
      "About 657 results\n",
      "About 2,220 results\n",
      "About 16,100 results\n",
      "About 38,200 results\n",
      "About 102 results\n",
      "About 349 results\n",
      "About 266 results\n",
      "About 103 results\n",
      "About 2,070 results\n",
      "About 682 results\n",
      "About 15,100 results\n",
      "About 717 results\n",
      "About 77 results\n",
      "About 265 results\n",
      "About 1,780 results\n",
      "About 860 results\n",
      "About 142 results\n",
      "About 172 results\n",
      "About 120 results\n",
      "About 177 results\n",
      "About 315 results\n",
      "9 results\n",
      "About 943 results\n",
      "About 1,200 results\n",
      "About 257 results\n",
      "6 results\n",
      "About 302 results\n",
      "About 9,720 results\n",
      "About 845 results\n",
      "About 9,110 results\n",
      "About 4,230 results\n",
      "About 1,710 results\n",
      "About 265 results\n",
      "About 22,300 results\n",
      "About 18,300 results\n",
      "About 1,790 results\n",
      "About 210 results\n",
      "About 19,200 results\n",
      "About 274 results\n",
      "About 2,200 results\n",
      "About 31,900 results\n",
      "About 2,520 results\n",
      "About 1,560 results\n",
      "About 229 results\n",
      "About 656 results\n",
      "About 96 results\n",
      "About 3,740 results\n",
      "About 269 results\n",
      "4 results\n",
      "About 2,800 results\n",
      "About 25,300 results\n",
      "About 1,230 results\n",
      "About 697 results\n",
      "About 1,600 results\n",
      "About 237 results\n",
      "About 569 results\n",
      "About 5,420 results\n",
      "About 1,110 results\n",
      "About 69 results\n",
      "About 98 results\n",
      "About 251 results\n",
      "About 305 results\n",
      "About 114 results\n",
      "About 595 results\n",
      "About 6,340 results\n",
      "About 56,200 results\n",
      "About 6,220 results\n",
      "2 results\n",
      "About 5,570 results\n",
      "About 57 results\n",
      "About 155 results\n",
      "About 315 results\n",
      "About 4,150 results\n",
      "About 2,990 results\n",
      "About 2,730 results\n",
      "About 370 results\n",
      "About 22,600 results\n",
      "About 538 results\n",
      "About 106 results\n",
      "8 results\n",
      "About 1,780 results\n",
      "About 111 results\n",
      "About 202 results\n",
      "About 156 results\n",
      "About 7,910 results\n",
      "About 288 results\n",
      "About 704 results\n",
      "About 1,910 results\n",
      "About 7,780 results\n",
      "About 2,180 results\n",
      "About 401 results\n",
      "About 1,070 results\n",
      "About 4,190 results\n",
      "About 52,100 results\n",
      "About 126 results\n",
      "About 5,400 results\n",
      "About 2,950 results\n",
      "About 790 results\n",
      "9 results\n",
      "About 126,000 results\n",
      "About 21,300 results\n",
      "About 1,040 results\n",
      "About 2,570 results\n",
      "About 787 results\n",
      "About 283 results\n",
      "About 336 results\n",
      "About 5,250 results\n",
      "7 results\n",
      "About 2,980 results\n",
      "About 170 results\n",
      "About 1,360 results\n",
      "About 107 results\n",
      "About 13,100 results\n",
      "About 475 results\n",
      "6 results\n",
      "About 2,210 results\n",
      "About 422 results\n",
      "About 357 results\n",
      "About 1,050 results\n",
      "About 4,820 results\n",
      "About 5,400 results\n",
      "About 207 results\n",
      "About 511 results\n",
      "About 6,820 results\n",
      "About 15,800 results\n",
      "8 results\n",
      "About 158 results\n",
      "About 571 results\n",
      "About 5,010 results\n",
      "About 2,150 results\n",
      "About 129 results\n",
      "About 1,650 results\n",
      "About 384 results\n",
      "About 180 results\n",
      "About 317 results\n",
      "About 260 results\n",
      "About 326 results\n",
      "About 358 results\n",
      "3 results\n",
      "About 307 results\n",
      "About 118 results\n",
      "About 14,000 results\n",
      "About 404 results\n",
      "About 387 results\n",
      "About 2,330 results\n",
      "About 289 results\n",
      "About 194 results\n",
      "About 724 results\n",
      "About 199 results\n",
      "About 194 results\n"
     ]
    }
   ],
   "source": [
    "NDict = {}\n",
    "\n",
    "for key in HDict.keys():\n",
    "    \n",
    "    \n",
    "    \n",
    "    NDict[key] = find_results(key)\n",
    "\n"
   ]
  },
  {
   "cell_type": "code",
   "execution_count": 75,
   "metadata": {
    "collapsed": false
   },
   "outputs": [
    {
     "name": "stdout",
     "output_type": "stream",
     "text": [
      "Jose Ramirez\n",
      "Russell Martin\n",
      "Chris Taylor\n",
      "Chris Young\n",
      "Tim Anderson\n",
      "Jay Bruce\n",
      "Austin Jackson\n",
      "Jose Iglesias\n",
      "Nick Williams\n",
      "Carlos Santana\n",
      "Chris Davis\n",
      "Tyler Moore\n",
      "Adam Jones\n",
      "Carlos Gonzalez\n",
      "Mark Reynolds\n",
      "Chris Carter\n",
      "Carlos Gomez\n",
      "Jose Reyes\n",
      "Daniel Murphy\n",
      "Trevor Story\n",
      "Jose Martinez\n",
      "Salvador Perez\n",
      "Roberto Perez\n",
      "Michael Taylor\n"
     ]
    }
   ],
   "source": [
    "\n",
    "for key in NDict.keys():\n",
    "    \n",
    "    if NDict[key] > 10000.: print key"
   ]
  },
  {
   "cell_type": "code",
   "execution_count": 79,
   "metadata": {
    "collapsed": false
   },
   "outputs": [
    {
     "name": "stdout",
     "output_type": "stream",
     "text": [
      "The biggest factor determining LeMahieu's future could be the play of Trevor Story. After exploding into the league hitting .272 with 27 home runs and 72 RBI in an injury-shortened rookie year, Story's numbers slipped to .239 with 24 homers and 82 RBI … and a National League-leading 191 strikeouts in ...\n",
      "\n",
      "The Colorado Rockies turned heads last season with their impressive 87-75 record, returning to the postseason for the first time in eight years while establishing themselves as a perennial playoff threat for the foreseeable future. After years filled with shortcomings and underachievement, general manager ...\n",
      "\n",
      "The Colorado Rockies had their expectations dashed as Trevor Story entered into a sophomore slump. Story's batting average dropped from .272 in 2016 to .239 in 2015. Although he played in 48 more games last season, he hit three more home runs in 2016. Story needs to have a better year in 2018 to ...\n",
      "\n",
      "Trevor Story struggled offensively in the first half of 2017, with a .224/.303/.396 slash to show for his efforts. Story found his power stroke in a second half that saw him post a .254/.314/.520 batting line, and he also hit a home run in the National League Wild Card Game against the Arizona Diamondbacks.\n",
      "\n",
      "The same goes for shortstop Trevor Story, 25, who proposed to Mallie, his high school sweetheart from Texas. They haven't set a date yet, but then again, they have been together for almost seven years, so what's the rush? Three Rockies pitchers got hitched on New Year's Eve: Right-handed starter Jeff ...\n",
      "\n",
      "The team hopes for bounce-back years from shortstop Trevor Story and outfielder/first baseman Ian Desmond, along with the more growth from a young rotation that featured four rookies who started 93 games. The Rockies spent to reshape their bullpen, which could be one of baseball's best. “It seems like ...\n",
      "\n",
      "As the 2018 fantasy baseball season approaches, we take a look at the biggest news and story lines from each club. We'll feature one team each weekday ... and we'll finish up on Feb. 16, the first day all teams will have their pitchers and catchers on the field for workouts. Series index: Schedule for all 2018 ...\n",
      "\n",
      "Decisions for all five pitchers had been held for simultaneous announcement to prevent any of the cases from being affected by the rulings. Players have an 11-8 advantage over teams. There are three more hearings scheduled. The 22 decisions would be the most since players went 14-10 in 1990.\n",
      "\n",
      "Tapia would be an old-school leadoff hitter due to his speed and ability to make contact, so he might be a good fit there. Any way the lineup gets rearranged, or not, we need to see some more production from the depths of the order. If Trevor Story can reproduce some of the power we saw in his first season, ...\n",
      "\n",
      "In an era when footballers are traded between clubs for hundreds of millions, the idea of a £1 million transfer probably doesn't seem that interesting. But, nearly four decades ago, it was an historic fee and one that Nottingham Forest paid to Birmingham City to secure the talents of Trevor Francis. The striker ...\n",
      "\n"
     ]
    }
   ],
   "source": [
    "l = scrape_news_summaries(\"'Trever+Story'\")\n",
    "\n",
    "for n in l:\n",
    "    print(n)\n",
    "    print('')"
   ]
  },
  {
   "cell_type": "markdown",
   "metadata": {},
   "source": [
    "### Stats Alerts\n",
    "\n",
    "We should also scrape the fangraphs gamelog page to see if there is anything obvious there."
   ]
  },
  {
   "cell_type": "markdown",
   "metadata": {},
   "source": [
    "### Crazy\n",
    "\n",
    "It would be awesome to try and make a model to predict ownership data based on news stories."
   ]
  },
  {
   "cell_type": "code",
   "execution_count": 14,
   "metadata": {
    "collapsed": false
   },
   "outputs": [
    {
     "name": "stdout",
     "output_type": "stream",
     "text": [
      "[<div class=\"mod-content\" id=\"fantasy-content\">{\"playerId\":5600,\"percentChange\":0,\"averageDraftPosition\":\"Undrafted\",\"percentOwned\":0,\"playerRaterSEASON\":8.4,\"fullName\":\"Jose Abreu\",\"positionRank\":4}</div>]\n"
     ]
    }
   ],
   "source": [
    "r  = requests.get('http://www.espn.com/mlb/player/_/id/33095/jose-abreu')\n",
    "\n",
    "data = r.text\n",
    "\n",
    "soup = BeautifulSoup(data)\n",
    "\n",
    "fantasy_table = soup.find_all('div', id='fantasy-content')\n",
    "\n",
    "print fantasy_table#.find(\"tr\")\n",
    "\n",
    "#for table in tables: \n",
    "\n",
    "#        headings = [th.get_text() for th in table.find(\"tr\").find_all(\"th\")]\n",
    "#        #print headings\n",
    "\n",
    "#<div class=\"mod-content\" id=\"fantasy-content\">\n",
    "\n",
    "\n",
    "#(row in table.find_all(\"tr\", class_=\"grid_postseason\"))"
   ]
  },
  {
   "cell_type": "code",
   "execution_count": null,
   "metadata": {
    "collapsed": true
   },
   "outputs": [],
   "source": []
  }
 ],
 "metadata": {
  "anaconda-cloud": {},
  "kernelspec": {
   "display_name": "Python [default]",
   "language": "python",
   "name": "python2"
  },
  "language_info": {
   "codemirror_mode": {
    "name": "ipython",
    "version": 2
   },
   "file_extension": ".py",
   "mimetype": "text/x-python",
   "name": "python",
   "nbconvert_exporter": "python",
   "pygments_lexer": "ipython2",
   "version": "2.7.12"
  }
 },
 "nbformat": 4,
 "nbformat_minor": 1
}
