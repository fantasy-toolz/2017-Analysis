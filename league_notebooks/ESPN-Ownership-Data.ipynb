{
 "cells": [
  {
   "cell_type": "markdown",
   "metadata": {},
   "source": [
    "# Pull ESPN Ownership Data\n",
    "\n",
    "### MSP 9.4.2017\n"
   ]
  },
  {
   "cell_type": "code",
   "execution_count": 41,
   "metadata": {
    "collapsed": false
   },
   "outputs": [
    {
     "data": {
      "text/html": [
       "<script>code_show=true; function code_toggle() { if (code_show){ $('div.input').hide();} else { $('div.input').show(); } code_show = !code_show} $( document ).ready(code_toggle);</script><form action=\"javascript:code_toggle()\"><input type=\"submit\" value=\"Click here to toggle on/off the raw code.\"></form>"
      ],
      "text/plain": [
       "<IPython.core.display.HTML object>"
      ]
     },
     "execution_count": 41,
     "metadata": {},
     "output_type": "execute_result"
    }
   ],
   "source": [
    "from IPython.display import HTML\n",
    "HTML('''<script>code_show=true; function code_toggle() { if (code_show){ $('div.input').hide();} else { $('div.input').show(); } code_show = !code_show} $( document ).ready(code_toggle);</script><form action=\"javascript:code_toggle()\"><input type=\"submit\" value=\"Click here to toggle on/off the raw code.\"></form>''')"
   ]
  },
  {
   "cell_type": "code",
   "execution_count": 14,
   "metadata": {
    "collapsed": true
   },
   "outputs": [],
   "source": [
    "# boilerplate imports\n",
    "\n",
    "import datetime\n",
    "import numpy as np\n",
    "import matplotlib.pyplot as plt\n",
    "import matplotlib.cm as cm\n",
    "%matplotlib inline\n",
    "\n",
    "import matplotlib as mpl\n",
    "cmap = cm.gnuplot\n",
    "\n",
    "\n"
   ]
  },
  {
   "cell_type": "code",
   "execution_count": 1,
   "metadata": {
    "collapsed": true
   },
   "outputs": [],
   "source": [
    "# imports for scraping\n",
    "\n",
    "from bs4 import BeautifulSoup\n",
    "\n",
    "import requests\n",
    "\n",
    "import operator\n",
    "\n"
   ]
  },
  {
   "cell_type": "markdown",
   "metadata": {},
   "source": [
    "### Change In Ownership\n",
    "\n",
    "Also set up an archive."
   ]
  },
  {
   "cell_type": "code",
   "execution_count": 109,
   "metadata": {
    "collapsed": false
   },
   "outputs": [],
   "source": [
    "\n",
    "Ownership = {}\n",
    "\n",
    "\n",
    "for tablenum in range(0,13):\n",
    "\n",
    "    # cycle through all positions\n",
    "    r  = requests.get('http://games.espn.com/flb/addeddropped?slotCategoryId='+str(tablenum))\n",
    "\n",
    "    data = r.text\n",
    "\n",
    "    soup = BeautifulSoup(data)\n",
    "\n",
    "    tables = soup.findAll('table')\n",
    "\n",
    "\n",
    "    for table in tables: \n",
    "\n",
    "        headings = [th.get_text() for th in table.find(\"tr\").find_all(\"th\")]\n",
    "        #print headings\n",
    "\n",
    "\n",
    "        for row in table.find_all(\"tr\")[1:]: \n",
    "\n",
    "        #    sav = [td.find('a') for td in row.find_all(\"td\")]\n",
    "            sav = [td.get_text() for td in row.find_all(\"td\")]\n",
    "\n",
    "            w = sav.index(u'\\xa0')\n",
    "\n",
    "            #print (sav[1].split(',')[0]).strip('*')\n",
    "\n",
    "            try:\n",
    "                # block out all non-rankings\n",
    "                xx = float(sav[0])\n",
    "\n",
    "                #print sav[0:w]\n",
    "                #print sav[w+1:len(sav)]\n",
    "\n",
    "                # added\n",
    "                Ownership[(sav[1].split(',')[0]).strip('*')] = float(sav[5])\n",
    "\n",
    "                #dropped\n",
    "                Ownership[(sav[w+2].split(',')[0]).strip('*')] = float(sav[w+6])\n",
    "\n",
    "            except:\n",
    "                pass\n",
    "\n",
    "            #[u'RK', u'PLAYER, TEAM', u'POS', u'LAST', u'CUR', u'7-DAY +/-']\n",
    "        \n",
    "\n",
    "today = datetime.date.today()\n",
    "\n",
    "f = open('ownership-archive/'+str(today)+'.txt','w')\n",
    "\n",
    "for index,key in enumerate(Ownership.keys()):\n",
    "    print >>f,key,Ownership[key]\n",
    "    \n",
    "f.close()"
   ]
  },
  {
   "cell_type": "code",
   "execution_count": 112,
   "metadata": {
    "collapsed": false
   },
   "outputs": [
    {
     "name": "stdout",
     "output_type": "stream",
     "text": [
      "Minnesota Twins' Byron Buxton, right, congratulates Brian Dozier as he scores on a double by Joe Mauer off Kansas City Royals pitcher Onelki ...\n",
      "1\n"
     ]
    }
   ],
   "source": [
    "print l[0]\n",
    "\n",
    "positives = ['congratulates']\n",
    "\n",
    "print np.sum(np.array([(x in l[0]) for x in positives]))\n",
    "\n"
   ]
  },
  {
   "cell_type": "code",
   "execution_count": 115,
   "metadata": {
    "collapsed": false
   },
   "outputs": [
    {
     "name": "stdout",
     "output_type": "stream",
     "text": [
      "Evan Gattis\n",
      "--------------\n",
      "Gattis (wrist) is scheduled to report to Low-A Quad Cities in the next couple of days to begin a rehab assignment, Brian McTaggart of MLB.com ...\n",
      "1   1   1\n",
      "\n",
      "Tyler Flowers\n",
      "--------------\n",
      "The Atlanta Braves have placed catcher Tyler Flowers on the 10-day disabled ... Flowers suffered the injury during Monday's game against the Phillies when he ...\n",
      "1   1   2\n",
      "\n",
      "Brandon Belt\n",
      "--------------\n",
      "Manager Bruce Bochy remains hopeful that Belt will return this season, but acknowledged Tuesday that he may not return until 2018.\n",
      "0   0   1\n",
      "\n",
      "Jedd Gyorko\n",
      "--------------\n",
      "LOUIS -- Jedd Gyorko landed on the 10-day disabled list with a right hamstring strain on Sunday, but the Cardinals are optimistic that Gyorko will return to the ...\n",
      "1   0   0\n",
      "\n",
      "Carlos Gonzalez\n",
      "--------------\n",
      "Carlos Gonzalez #5 of the Colorado Rockies celebrates after walking in the ninth inning with the bases loaded that gave the Rockies the 4-3 ...\n",
      "0   0   0\n",
      "\n",
      "Miguel Cabrera\n",
      "--------------\n",
      "DETROIT -- Tigers star Miguel Cabrera and reliever Alex Wilson have started serving suspensions after their penalties were reduced by one game in settlements ...\n",
      "1   0   0\n",
      "\n",
      "Cory Spangenberg\n",
      "--------------\n",
      "Padres' Cory Spangenberg: Day off following productive doubleheader. by RotoWire Staff; 12h ago • 1 min read Update 12h ago. Spangenberg is out of the ...\n",
      "0   0   0\n",
      "\n",
      "Michael Conforto\n",
      "--------------\n",
      "HOUSTON — Michael Conforto, the Mets' lone All-Star this season, will have shoulder surgery in the coming week, John Ricco, the team's ...\n",
      "1   1   0\n",
      "\n",
      "Keon Broxton\n",
      "--------------\n",
      "The Brewers salvaged a series split with the Cardinals, and crawled back to within three games of a wild card spot, and they have Keon ...\n",
      "0   0   0\n",
      "\n",
      "Curtis Granderson\n",
      "--------------\n",
      "DETROIT -- Outfielder Curtis Granderson went hitless in his debut with the Los Angeles Dodgers on Saturday, after a late-night trade sent him ...\n",
      "0   0   0\n",
      "\n",
      "Yoenis Cespedes\n",
      "--------------\n",
      "WASHINGTON -- The New York Mets placed outfielder Yoenis Cespedes on the 10-day disabled list Saturday with what could be a ...\n",
      "1   0   0\n",
      "\n",
      "Adrian Beltre\n",
      "--------------\n",
      "Like Adrian Beltre and Joey Votto being the most fun players of their generation. As you might expect, Beltre and Votto appear yet again in this ...\n",
      "0   1   0\n",
      "\n",
      "Rafael Devers\n",
      "--------------\n",
      "New York Yankees second baseman Ronald Torreyes tags out Boston Red Sox runner Rafael Devers (11) attempting to steal second base ...\n",
      "0   0   0\n",
      "\n",
      "Aaron Hicks\n",
      "--------------\n",
      "Not even a month since returning from a six-week stint on the shelf due to a right oblique strain, Aaron Hicks was placed on the 10-day DL ...\n",
      "1   0   0\n",
      "\n",
      "Josh Harrison\n",
      "--------------\n",
      "The Pirates put Josh Harrison on the 10-day disabled list Sunday because of a broken left hand, an injury that will end his season. “More often ...\n",
      "1   0   0\n",
      "\n",
      "Yuli Gurriel\n",
      "--------------\n",
      "ST. PETERSBURG, Fla. --- Yuli Gurriel probably won't play until at least Saturday after exiting the Astros' 8-1 loss to the Rangers on ...\n",
      "0   0   0\n",
      "\n",
      "Eric Thames\n",
      "--------------\n",
      "SAN FRANCISCO – Eric Thames is rarely seen around the ballpark without a bat in his hands. In the clubhouse. In the dugout. And of course at ...\n",
      "0   0   0\n",
      "\n",
      "Manny Pina\n",
      "--------------\n",
      "Brewers' Manny Pina: Returns to starting lineup. by RotoWire Staff; 7h ago • 1 min read Update 7h ago. Pina (hip) is back in the lineup Sunday against the ...\n",
      "0   0   0\n",
      "\n"
     ]
    }
   ],
   "source": [
    "negatives = ['rehab','injure','disable','DL','suspension','surgery']\n",
    "\n",
    "#[(x in string_in) for x in negatives]\n",
    "\n",
    "def check_words(string_in,words):\n",
    "    total = [(x in string_in) for x in words]\n",
    "    return np.sum(np.array(total))\n",
    "    \n",
    "\n",
    "for index,key in enumerate(Ownership.keys()):\n",
    "    if Ownership[key] < -5.:\n",
    "        print key\n",
    "        print '--------------'\n",
    "        l = scrape_news_summaries(key)\n",
    "        print l[0]\n",
    "        print check_words(l[0],negatives),' ',\n",
    "        print check_words(l[1],negatives),' ',\n",
    "        print check_words(l[2],negatives)\n",
    "        print ''\n",
    "\n"
   ]
  },
  {
   "cell_type": "code",
   "execution_count": 108,
   "metadata": {
    "collapsed": false
   },
   "outputs": [
    {
     "name": "stdout",
     "output_type": "stream",
     "text": [
      "Rhys Hoskins\n",
      "--------------\n",
      "Philadelphia's Rhys Hoskins hit 11 home runs in just 18 career games, reaching that total faster than any player in major league history. “It's just ...\n",
      "\n",
      "Shin-Soo Choo\n",
      "--------------\n",
      "Choo is out of the lineup Sunday against the Angels. Choo's absence will indirectly open up a start at first base for Will Middlebrooks, who will ...\n",
      "\n",
      "Robinson Chirinos\n",
      "--------------\n",
      "Chirinos and leadoff man Delino DeShields supplied back-to-back home runs off Andrew Heaney in the fourth inning, knocking the Angels ...\n",
      "\n",
      "Yolmer Sanchez\n",
      "--------------\n",
      "Sanchez has started 18 consecutive games due to injuries to several infielders. He's hitting .343 (23-for-67) with four homers and 14 RBI during ...\n",
      "\n",
      "Jorge Polanco\n",
      "--------------\n",
      "Jorge Polanco, SS, Twins: In case you missed Polanco's impressive impersonation of ex-teammate Eduardo Nunez last month, all you did was ...\n",
      "\n",
      "Byron Buxton\n",
      "--------------\n",
      "MINNEAPOLIS – Byron Buxton put on a show in the final month of the season for a non-competitive Twins team last year. That team was ...\n",
      "\n",
      "Ian Desmond\n",
      "--------------\n",
      "This will mark Desmond's first start at shortstop on the season. Carlos Gonzalez and Gerardo Parra -- who are manning the corner outfield ...\n",
      "\n",
      "Scott Schebler\n",
      "--------------\n",
      "In the middle of his postgame interview Tuesday, Scott Schebler stopped to ponder a key difference between himself and the rest of his ...\n",
      "\n",
      "Scooter Gennett\n",
      "--------------\n",
      "The breakout year for the Cincinnati Reds 2B just keeps on truckin', as on Friday he went 3 for 4 with a triple, a double, 2 runs scored, and a ...\n",
      "\n",
      "Jose Reyes\n",
      "--------------\n",
      "CINCINNATI -- Jose Reyes spent about 20 minutes in left field before Tuesday night's game taking fly balls and ground balls hit by outfield ...\n",
      "\n",
      "Logan Morrison\n",
      "--------------\n",
      "KANSAS CITY, Mo. (AP) — Logan Morrison, Steven Souza Jr. and Adeiny Hechavarria each went deep and the Tampa Bay Rays beat the ...\n",
      "\n",
      "Greg Bird\n",
      "--------------\n",
      "Greg Bird, gone and all but forgotten this season after a miserable start, a mysterious ankle injury and an operation, homered for the second ...\n",
      "\n",
      "Kevin Kiermaier\n",
      "--------------\n",
      "PETERSBURG -- Few highlights dotted the Rays' landscape in Friday night's 7-1 loss to the Mariners, but seeing Kevin Kiermaier complete a hustling double ...\n",
      "\n",
      "Joey Gallo\n",
      "--------------\n",
      "Home runs (37) comprise nearly half of Gallo's hit total (78) for the season, so the two base-hit day looks rather anomalous on his game log.\n",
      "\n",
      "Welington Castillo\n",
      "--------------\n",
      "Castillo went 3-for-5 with two solo home runs during Sunday's win over Toronto. The backstop has been an excellent contributor when healthy ...\n",
      "\n",
      "Joe Mauer\n",
      "--------------\n",
      "Minnesota Twins' Byron Buxton, right, congratulates Brian Dozier as he scores on a double by Joe Mauer off Kansas City Royals pitcher Onelki ...\n",
      "\n"
     ]
    }
   ],
   "source": [
    "for index,key in enumerate(Ownership.keys()):\n",
    "    if Ownership[key] > 5.:\n",
    "        print key\n",
    "        print '--------------'\n",
    "        l = scrape_news_summaries(key)\n",
    "        print l[0]\n",
    "        print ''\n",
    "\n",
    "\n"
   ]
  },
  {
   "cell_type": "code",
   "execution_count": 51,
   "metadata": {
    "collapsed": false
   },
   "outputs": [
    {
     "ename": "KeyError",
     "evalue": "'Justin Verlander'",
     "output_type": "error",
     "traceback": [
      "\u001b[0;31m---------------------------------------------------------------------------\u001b[0m",
      "\u001b[0;31mKeyError\u001b[0m                                  Traceback (most recent call last)",
      "\u001b[0;32m<ipython-input-51-9cb02809e6cf>\u001b[0m in \u001b[0;36m<module>\u001b[0;34m()\u001b[0m\n\u001b[0;32m----> 1\u001b[0;31m \u001b[0;32mprint\u001b[0m \u001b[0mOwnership\u001b[0m\u001b[0;34m[\u001b[0m\u001b[0;34m'Justin Verlander'\u001b[0m\u001b[0;34m]\u001b[0m\u001b[0;34m\u001b[0m\u001b[0m\n\u001b[0m",
      "\u001b[0;31mKeyError\u001b[0m: 'Justin Verlander'"
     ]
    }
   ],
   "source": [
    "print Ownership['Justin Verlander']"
   ]
  },
  {
   "cell_type": "markdown",
   "metadata": {},
   "source": [
    "### News Alerts\n",
    "\n",
    "Another interesting thing is grabbing Google News findings on players to see if we can determine what the narrative leading to the explosion in pickups or drops is coming from.\n",
    "\n",
    "Good keywords:\n",
    "1. Trade\n",
    "2. Hot\n",
    "3. Streak\n",
    "4. Fire\n",
    "5. Homer\n",
    "\n",
    "\n",
    "Bad keywords:\n",
    "1. Cold\n",
    "2. Bench\n",
    "3. Disabled/DL\n",
    "4. Injure\n",
    "5. Suspension\n",
    "\n"
   ]
  },
  {
   "cell_type": "code",
   "execution_count": 106,
   "metadata": {
    "collapsed": false,
    "scrolled": false
   },
   "outputs": [
    {
     "name": "stdout",
     "output_type": "stream",
     "text": [
      "Waking up on Friday morning and seeing that Justin Verlander had been traded hit us all like a ton of bricks. Despite the majority of Bless You ...\n",
      "\n",
      "Detroit Tigers general manager Al Avila scouted Justin Verlander in the spring of 2004, when Verlander pitched for Old Dominion on a day that ...\n",
      "\n",
      "I'm among the last of us here at BYB to truly weigh in on the Justin Verlander trade. Most of the staff members have publicized their feelings, ...\n",
      "\n",
      "\"On behalf of the Detroit Tigers, we sincerely thank Justin Verlander for his remarkable 13 seasons of dedication to the organization,\" Tigers ...\n",
      "\n",
      "... when he found out that his team had acquired Justin Verlander, one of baseball's most decorated pitchers, in a trade with the Detroit Tigers.\n",
      "\n",
      "Fans of Justin Verlander woke up to some jolting news Friday morning: The ace pitcher was traded to the Houston Astros for three prospects.\n",
      "\n",
      "The Houston Astros have acquired Justin Verlander in a trade with the ... The 34-year-old Verlander, who won the Cy Young Award in 2011, ...\n",
      "\n",
      "DETROIT --The Tigers pulled off a midnight deal to trade Justin Verlander to the Astros, completing a crazy day that included Justin Upton being traded to the ...\n",
      "\n",
      "Wednesday afternoon in Colorado, Justin Verlander will have center stage as he takes his final start before baseball's waiver period expires.\n",
      "\n",
      "The Yankees can be a much bigger threat to knock off elite clubs in the playoffs by trading for Justin Verlander, a six-time All-Star who is thriving ...\n",
      "\n"
     ]
    }
   ],
   "source": [
    "#https://stackoverflow.com/questions/39354587/scraping-google-news-with-beautifulsoup-returns-empty-results\n",
    "\n",
    "from bs4 import BeautifulSoup\n",
    "import requests\n",
    "import time\n",
    "from random import randint\n",
    "\n",
    "\n",
    "def scrape_news_summaries(s):\n",
    "    time.sleep(randint(0, 2))  # relax and don't let google be angry\n",
    "    \n",
    "    r = requests.get(\"http://www.google.com/search?q=\"+s+\"&tbm=nws\")    \n",
    "    # Print the status code\n",
    "    #print(r.status_code)  \n",
    "    \n",
    "    content = r.text\n",
    "    #print content\n",
    "    \n",
    "    news_summaries = []\n",
    "    soup = BeautifulSoup(content, \"html.parser\")\n",
    "    #st_divs = soup.find_all(\"div\", class_=\"gs-info\")\n",
    "    st_divs = soup.findAll(\"div\", {\"class\": \"st\"})\n",
    "    #st_divs = soup.findAll(\"div\", {\"class\": \"rc\"})\n",
    "\n",
    "\n",
    "    for st_div in st_divs:\n",
    "        #print st_div\n",
    "        news_summaries.append(st_div.text)\n",
    "    return news_summaries\n",
    "\n",
    "\n",
    "\n",
    "\n",
    "#http://www.espn.com/search/results?q=Alex+Wood\n",
    "#r = requests.get(\"http://www.google.com/search?q=\"+s+\"&tbm=nws\")\n",
    "\n",
    "l = scrape_news_summaries(\"Justin+Verlander\")\n",
    "\n",
    "for n in l:\n",
    "    print(n)\n",
    "    print('')"
   ]
  },
  {
   "cell_type": "markdown",
   "metadata": {},
   "source": [
    "### Stats Alerts\n",
    "\n",
    "We should also scrape the fangraphs gamelog page to see if there is anything obvious there."
   ]
  },
  {
   "cell_type": "markdown",
   "metadata": {},
   "source": [
    "### Crazy\n",
    "\n",
    "It would be awesome to try and make a model to predict ownership data based on news stories."
   ]
  },
  {
   "cell_type": "code",
   "execution_count": 63,
   "metadata": {
    "collapsed": false
   },
   "outputs": [
    {
     "name": "stdout",
     "output_type": "stream",
     "text": [
      "[<div class=\"mod-content\" id=\"fantasy-content\">{\"playerId\":5600,\"percentChange\":-0.2,\"averageDraftPosition\":46.9,\"percentOwned\":96.8,\"playerRaterSEASON\":7.2,\"playerRater7DAY\":2.3,\"mostRecentNews\":{\"news\":\"Abreu went 1-for-4 with a two-run home run during Sunday's win over Tampa Bay.\",\"spin\":\"Abreu missed the previous three games with an elbow injury, but Sunday's blast affirmed his health. With a .301/.354/.540 slash line, 27 homers, 82 RBI and 72 runs for the campaign, the 30-year-old first baseman is in line to post another rock-solid showing. The supporting cast surrounding him in the White Sox's lineup limits his upside, but the slugger continues to move the fantasy needle nonetheless.\",\"date\":\"Sun Sep 3\"},\"fullName\":\"Jose Abreu\",\"seasonOutlook\":{\"outlook\":\"Though in many respects, Abreu's performance has regressed since he broke into the majors in 2014, let's not understate the historical significance of his first three big-league seasons: He, along with Joe DiMaggio and Albert Pujols, are the only three players in the history of baseball to manage at least a .290 batting average, 25 home runs and 100 RBIs in each. That said, Abreu's performance in all three categories comes with some risk: He continues to show poor strike-zone judgment, leading the majors in swings at \\\\\"non-competitive\\\\\" (those considerably outside the zone) pitches in 2016; he appears to have sacrificed some power in exchange for a three-year pattern of rising contact rates; and his White Sox, now in rebuilding mode, might not provide as much fuel for his counting numbers. Abreu is no longer a likely-top-25 player and in fact might be a risky pick within the top 50, though as his baseline is probably his 2016 numbers, he's still a worthy early-round pick.\",\"seasonId\":2017,\"date\":\"Tue Feb 21\"},\"playerRater30DAY\":6.1,\"playerRater15DAY\":2.9,\"positionRank\":7}</div>]\n"
     ]
    }
   ],
   "source": [
    "r  = requests.get('http://www.espn.com/mlb/player/_/id/33095/jose-abreu')\n",
    "\n",
    "data = r.text\n",
    "\n",
    "soup = BeautifulSoup(data)\n",
    "\n",
    "fantasy_table = soup.find_all('div', id='fantasy-content')\n",
    "\n",
    "print fantasy_table#.find(\"tr\")\n",
    "\n",
    "#for table in tables: \n",
    "\n",
    "#        headings = [th.get_text() for th in table.find(\"tr\").find_all(\"th\")]\n",
    "#        #print headings\n",
    "\n",
    "#<div class=\"mod-content\" id=\"fantasy-content\">\n",
    "\n",
    "\n",
    "#(row in table.find_all(\"tr\", class_=\"grid_postseason\"))"
   ]
  },
  {
   "cell_type": "code",
   "execution_count": null,
   "metadata": {
    "collapsed": true
   },
   "outputs": [],
   "source": []
  }
 ],
 "metadata": {
  "anaconda-cloud": {},
  "kernelspec": {
   "display_name": "Python [default]",
   "language": "python",
   "name": "python2"
  },
  "language_info": {
   "codemirror_mode": {
    "name": "ipython",
    "version": 2
   },
   "file_extension": ".py",
   "mimetype": "text/x-python",
   "name": "python",
   "nbconvert_exporter": "python",
   "pygments_lexer": "ipython2",
   "version": "2.7.12"
  }
 },
 "nbformat": 4,
 "nbformat_minor": 1
}
